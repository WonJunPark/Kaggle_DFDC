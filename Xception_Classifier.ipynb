{
  "nbformat": 4,
  "nbformat_minor": 0,
  "metadata": {
    "colab": {
      "name": "Xception_Classifier.ipynb",
      "provenance": [],
      "collapsed_sections": [],
      "toc_visible": true,
      "authorship_tag": "ABX9TyPKn8MXZ3RpyUFpEJ11bvzk",
      "include_colab_link": true
    },
    "kernelspec": {
      "name": "python3",
      "display_name": "Python 3"
    }
  },
  "cells": [
    {
      "cell_type": "markdown",
      "metadata": {
        "id": "view-in-github",
        "colab_type": "text"
      },
      "source": [
        "<a href=\"https://colab.research.google.com/github/WonJunPark/img_recog/blob/master/Xception_Classifier.ipynb\" target=\"_parent\"><img src=\"https://colab.research.google.com/assets/colab-badge.svg\" alt=\"Open In Colab\"/></a>"
      ]
    },
    {
      "cell_type": "markdown",
      "metadata": {
        "id": "DOKcSSCqU0rG",
        "colab_type": "text"
      },
      "source": [
        "# Xception Classifier w/ FFHQ - Training - LB: .555"
      ]
    },
    {
      "cell_type": "markdown",
      "metadata": {
        "id": "iSLAWTs0SBXI",
        "colab_type": "text"
      },
      "source": [
        "\n",
        "\n",
        "※ 본 커널은 캐글에 공유된 https://www.kaggle.com/greatgamedota/xception-classifier-w-ffhq-training-lb-537 의 내용을 기반으로 작성되었습니다.\n",
        "\n",
        "※ 커널 정리 방식은 문성채 선생님의 커널을 참고하여 구성해보았습니다. 감사합니다."
      ]
    },
    {
      "cell_type": "markdown",
      "metadata": {
        "id": "y6fWEDr6VEex",
        "colab_type": "text"
      },
      "source": [
        "# Colab 사용을 위한 환경 설정"
      ]
    },
    {
      "cell_type": "code",
      "metadata": {
        "id": "EbprBIqCTTRd",
        "colab_type": "code",
        "colab": {}
      },
      "source": [
        "use_colab = True"
      ],
      "execution_count": 0,
      "outputs": []
    },
    {
      "cell_type": "code",
      "metadata": {
        "id": "ptyGdTXuVMRd",
        "colab_type": "code",
        "outputId": "02b1e0cd-e657-4622-f61c-2f66703d0ce4",
        "colab": {
          "base_uri": "https://localhost:8080/",
          "height": 54
        }
      },
      "source": [
        "if use_colab == True:\n",
        "  from google.colab import drive\n",
        "  drive.mount(\"/content/gdrive\")"
      ],
      "execution_count": 25,
      "outputs": [
        {
          "output_type": "stream",
          "text": [
            "Drive already mounted at /content/gdrive; to attempt to forcibly remount, call drive.mount(\"/content/gdrive\", force_remount=True).\n"
          ],
          "name": "stdout"
        }
      ]
    },
    {
      "cell_type": "code",
      "metadata": {
        "id": "CnAqVbTMVe0B",
        "colab_type": "code",
        "colab": {}
      },
      "source": [
        "if use_colab == True:\n",
        "  work_root_path = \"/content/gdrive/My Drive/Kaggle/DFDC2/\"\n",
        "else:\n",
        "  work_root_path = \"../\" "
      ],
      "execution_count": 0,
      "outputs": []
    },
    {
      "cell_type": "code",
      "metadata": {
        "id": "Axv9SJA4Vs9J",
        "colab_type": "code",
        "outputId": "84b2647c-ae17-4ed4-ffda-a83a0301c7c4",
        "colab": {
          "base_uri": "https://localhost:8080/",
          "height": 34
        }
      },
      "source": [
        "cd \"/content/gdrive/My Drive\""
      ],
      "execution_count": 27,
      "outputs": [
        {
          "output_type": "stream",
          "text": [
            "/content/gdrive/My Drive\n"
          ],
          "name": "stdout"
        }
      ]
    },
    {
      "cell_type": "markdown",
      "metadata": {
        "id": "TI9vag-RVxdh",
        "colab_type": "text"
      },
      "source": [
        "# Simple baseline binary classifier using FFHQ dataset to balance the data\n",
        "\n",
        "- 이 커널은 Xception Classifier에 FFHQ dataset을 추가로 학습시킵니다.\n",
        "\n",
        "- https://github.com/NVlabs/ffhq-dataset"
      ]
    },
    {
      "cell_type": "markdown",
      "metadata": {
        "id": "nKN0LTXpWi0M",
        "colab_type": "text"
      },
      "source": [
        "# 1 Common"
      ]
    },
    {
      "cell_type": "markdown",
      "metadata": {
        "id": "bkQfge66WrWp",
        "colab_type": "text"
      },
      "source": [
        "## 1.1 Import"
      ]
    },
    {
      "cell_type": "code",
      "metadata": {
        "id": "Qmz3xYkFWY6t",
        "colab_type": "code",
        "colab": {}
      },
      "source": [
        "import pandas as pd\n",
        "import numpy as np\n",
        "import matplotlib.pyplot as plt\n",
        "import cv2\n",
        "import os\n",
        "from tqdm import tqdm,trange\n",
        "from sklearn.model_selection import train_test_split\n",
        "import sklearn.metrics\n",
        "\n",
        "import torch\n",
        "import torch.nn as nn\n",
        "import torch.nn.functional as F\n",
        "\n",
        "import warnings\n",
        "warnings.filterwarnings(\"ignore\")"
      ],
      "execution_count": 0,
      "outputs": []
    },
    {
      "cell_type": "markdown",
      "metadata": {
        "id": "OXTYec60lHLU",
        "colab_type": "text"
      },
      "source": [
        "## 1.2 Prepare and Load Data"
      ]
    },
    {
      "cell_type": "code",
      "metadata": {
        "id": "37OepJd4X86k",
        "colab_type": "code",
        "outputId": "b9a57c79-6239-4dba-909f-e396b4dfc336",
        "colab": {
          "base_uri": "https://localhost:8080/",
          "height": 34
        }
      },
      "source": [
        "cd \"/content/gdrive/My Drive/Kaggle/DFDC2/input\""
      ],
      "execution_count": 29,
      "outputs": [
        {
          "output_type": "stream",
          "text": [
            "/content/gdrive/My Drive/Kaggle/DFDC2/input\n"
          ],
          "name": "stdout"
        }
      ]
    },
    {
      "cell_type": "code",
      "metadata": {
        "id": "ATD7AQ43Xz0o",
        "colab_type": "code",
        "colab": {}
      },
      "source": [
        "df_train = []\n",
        "\n",
        "# total = 50\n",
        "df_train_num = 47   # 0~46\n",
        "df_val_num = 3      # 47~49\n",
        "\n",
        "df_trains = []\n",
        "df_vals = []\n",
        "\n",
        "for i in range(df_train_num):\n",
        "  s = work_root_path+'input/metadata'+ str(i) +'.json'\n",
        "  deepfake = pd.read_json(s)\n",
        "  df_trains.append(deepfake)\n",
        "\n",
        "for i in range(df_val_num):\n",
        "  s = work_root_path+'input/metadata'+ str(df_train_num + i) +'.json'\n",
        "  deepfake = pd.read_json(s)\n",
        "  df_vals.append(deepfake)\n",
        "\n",
        "nums = list(range(len(df_trains)+1))\n",
        "LABELS = ['REAL','FAKE']\n",
        "val_nums=[47, 48, 49]"
      ],
      "execution_count": 0,
      "outputs": []
    },
    {
      "cell_type": "code",
      "metadata": {
        "id": "Va-IcEo1qQHZ",
        "colab_type": "code",
        "outputId": "1f0c4ba5-30b7-472a-b91b-3813d19b3c0e",
        "colab": {
          "base_uri": "https://localhost:8080/",
          "height": 1000
        }
      },
      "source": [
        "df_trains"
      ],
      "execution_count": 0,
      "outputs": [
        {
          "output_type": "execute_result",
          "data": {
            "text/plain": [
              "[          owxbbpjpch.mp4 vpmyeepbep.mp4  ...  fonrexmbzz.mp4  etychryvty.mp4\n",
              " label               FAKE           REAL  ...            FAKE            FAKE\n",
              " split              train          train  ...           train           train\n",
              " original  wynotylpnm.mp4            NaN  ...  fufcmupzen.mp4  uqtqhiqymz.mp4\n",
              " \n",
              " [3 rows x 1334 columns],\n",
              "           zumqqvixhu.mp4  utdlsqfykm.mp4  ...  bfeewgzrbr.mp4  tovxgyattq.mp4\n",
              " label               FAKE            FAKE  ...            FAKE            FAKE\n",
              " split              train           train  ...           train           train\n",
              " original  hntguogkqd.mp4  nswtvttxre.mp4  ...  qjdtgggqym.mp4  hjhdhumvod.mp4\n",
              " \n",
              " [3 rows x 1699 columns],\n",
              "           qyyebirxwe.mp4  ntjlknlcvn.mp4  ...  sdibedfnep.mp4 oovzfmploa.mp4\n",
              " label               FAKE            FAKE  ...            FAKE           REAL\n",
              " split              train           train  ...           train          train\n",
              " original  ejhhokmvpe.mp4  nthpnwylxo.mp4  ...  fqvaalcdae.mp4            NaN\n",
              " \n",
              " [3 rows x 1748 columns],\n",
              "           vngueqqcmz.mp4  ieblyetiob.mp4  ... hwaxcxpfxl.mp4 iutieugpqx.mp4\n",
              " label               FAKE            FAKE  ...           REAL           REAL\n",
              " split              train           train  ...          train          train\n",
              " original  ghfnznqrvh.mp4  tsvhwitvah.mp4  ...            NaN            NaN\n",
              " \n",
              " [3 rows x 1455 columns],\n",
              "           oyixebfpcl.mp4 sayyjwtjol.mp4  ... aahncigwte.mp4  jdnizohssx.mp4\n",
              " label               FAKE           REAL  ...           REAL            FAKE\n",
              " split              train          train  ...          train           train\n",
              " original  bgpoldvzrh.mp4            NaN  ...            NaN  xxbunqmupn.mp4\n",
              " \n",
              " [3 rows x 1701 columns],\n",
              "           syybbzdttf.mp4  ibyevudtta.mp4  ...  ouyjjhlatg.mp4  mdpkidzzlm.mp4\n",
              " label               FAKE            FAKE  ...            FAKE            FAKE\n",
              " split              train           train  ...           train           train\n",
              " original  gmkfzogjlj.mp4  xfrswzqrmn.mp4  ...  ayfohzyelj.mp4  gwmlawcreb.mp4\n",
              " \n",
              " [3 rows x 2483 columns],\n",
              "           olczadekwi.mp4  xehgproyja.mp4  ... spsevdcrnu.mp4  xeiopfasdx.mp4\n",
              " label               FAKE            FAKE  ...           REAL            FAKE\n",
              " split              train           train  ...          train           train\n",
              " original  enjaxrsqfw.mp4  eaigdemyfo.mp4  ...            NaN  opzchpdtfl.mp4\n",
              " \n",
              " [3 rows x 3464 columns],\n",
              "           laihwpwiee.mp4  kzkqjyioqf.mp4  ...  oavrralgxd.mp4  qurcxbznni.mp4\n",
              " label               FAKE            FAKE  ...            FAKE            FAKE\n",
              " split              train           train  ...           train           train\n",
              " original  aeysrmfmht.mp4  ighgptshjh.mp4  ...  mbxblocpyw.mp4  rstlwzctdt.mp4\n",
              " \n",
              " [3 rows x 2473 columns],\n",
              "           kadarrfhjj.mp4  ucqxtucqva.mp4  ...  ljjoeunhkt.mp4  ouqpnjoshj.mp4\n",
              " label               FAKE            FAKE  ...            FAKE            FAKE\n",
              " split              train           train  ...           train           train\n",
              " original  vsbrghzshm.mp4  ioqacgyrwh.mp4  ...  sojxeyjdat.mp4  lycgrrymbx.mp4\n",
              " \n",
              " [3 rows x 1816 columns],\n",
              "           jgaejvfomy.mp4  yaroumkbcf.mp4  ...  wadgdooqpl.mp4  wwwbocaabd.mp4\n",
              " label               FAKE            FAKE  ...            FAKE            FAKE\n",
              " split              train           train  ...           train           train\n",
              " original  zqfntxsnna.mp4  dnocqlgupe.mp4  ...  mhpavogfxb.mp4  icffpvvtnu.mp4\n",
              " \n",
              " [3 rows x 1736 columns],\n",
              "           hsypgwsufp.mp4  ntzgbkzofo.mp4  ... bkwicglevl.mp4  gdhlrzpxxr.mp4\n",
              " label               FAKE            FAKE  ...           REAL            FAKE\n",
              " split              train           train  ...          train           train\n",
              " original  nbnipejygk.mp4  cqlarprtdy.mp4  ...            NaN  qgfxkgofjl.mp4\n",
              " \n",
              " [3 rows x 3192 columns],\n",
              "           qgqsgtekwl.mp4  bahpguunin.mp4  ...  rgmllhylbj.mp4 ddhijrstzr.mp4\n",
              " label               FAKE            FAKE  ...            FAKE           REAL\n",
              " split              train           train  ...           train          train\n",
              " original  ztutsnlhtr.mp4  frczmdfzza.mp4  ...  usnyozppis.mp4            NaN\n",
              " \n",
              " [3 rows x 2118 columns],\n",
              "           ufucquemsr.mp4  hzpeccyres.mp4  ...  oexoavedkb.mp4 hmurwmhvsz.mp4\n",
              " label               FAKE            FAKE  ...            FAKE           REAL\n",
              " split              train           train  ...           train          train\n",
              " original  ioxuwhhvge.mp4  guupwbnbzc.mp4  ...  zgvjfpzubp.mp4            NaN\n",
              " \n",
              " [3 rows x 2225 columns],\n",
              "           wxiboojdnq.mp4  ojdrqflslr.mp4  ...  radyyavwaa.mp4  zglgidpizh.mp4\n",
              " label               FAKE            FAKE  ...            FAKE            FAKE\n",
              " split              train           train  ...           train           train\n",
              " original  vncfwkhxmd.mp4  yaivbfubpr.mp4  ...  galckcdeka.mp4  sianpqcthw.mp4\n",
              " \n",
              " [3 rows x 3694 columns],\n",
              "           fmdhqnkvyo.mp4  eeubskpxct.mp4  ... vqrvgctzdi.mp4 uvuqozqxqt.mp4\n",
              " label               FAKE            FAKE  ...           REAL           REAL\n",
              " split              train           train  ...          train          train\n",
              " original  filuudleua.mp4  hdunuumyxa.mp4  ...            NaN            NaN\n",
              " \n",
              " [3 rows x 2464 columns],\n",
              "           sgleazzkwf.mp4  tulxkqjvty.mp4  ...  ucahnqkqim.mp4  ofnmctcjma.mp4\n",
              " label               FAKE            FAKE  ...            FAKE            FAKE\n",
              " split              train           train  ...           train           train\n",
              " original  hdfhmlsrzn.mp4  ezuftudsoa.mp4  ...  uyghebrnju.mp4  uyghebrnju.mp4\n",
              " \n",
              " [3 rows x 2273 columns],\n",
              "           rfpjvmqzre.mp4  icwlmhflzf.mp4  ...  afrgmowivl.mp4  wsfwysxlsf.mp4\n",
              " label               FAKE            FAKE  ...            FAKE            FAKE\n",
              " split              train           train  ...           train           train\n",
              " original  jcdwcvhiic.mp4  bmrwcqrpyp.mp4  ...  frbhfojsry.mp4  ncrwgivkxi.mp4\n",
              " \n",
              " [3 rows x 2061 columns],\n",
              "          rnzzuxmigr.mp4  gpwnvzdflz.mp4  ...  isshcjsmlj.mp4  nkhskoelyv.mp4\n",
              " label              REAL            FAKE  ...            FAKE            FAKE\n",
              " split             train           train  ...           train           train\n",
              " original            NaN  kecpjuvcti.mp4  ...  bzcolqetwd.mp4  tzftvixuzs.mp4\n",
              " \n",
              " [3 rows x 2430 columns],\n",
              "           iueofqnitn.mp4  vcbgvdnvlc.mp4  ... qawfrjdwud.mp4 annmtetkqa.mp4\n",
              " label               FAKE            FAKE  ...           REAL           REAL\n",
              " split              train           train  ...          train          train\n",
              " original  xatruuhtpv.mp4  duplyxsudb.mp4  ...            NaN            NaN\n",
              " \n",
              " [3 rows x 2686 columns],\n",
              "           pxleaiojzt.mp4  tlnearikan.mp4  ...  yofsgydgvx.mp4  fxsiohgbap.mp4\n",
              " label               FAKE            FAKE  ...            FAKE            FAKE\n",
              " split              train           train  ...           train           train\n",
              " original  cymfsdestn.mp4  aqfjgahafl.mp4  ...  dzzcfvkgth.mp4  qzkzkxdvva.mp4\n",
              " \n",
              " [3 rows x 2752 columns],\n",
              "           dvglijlzdi.mp4  izwsybqjfz.mp4  ...  etqegkhtlt.mp4 zxunnxrvpf.mp4\n",
              " label               FAKE            FAKE  ...            FAKE           REAL\n",
              " split              train           train  ...           train          train\n",
              " original  mwlwlieswy.mp4  xqsivexncg.mp4  ...  cphfdjkgmq.mp4            NaN\n",
              " \n",
              " [3 rows x 2154 columns],\n",
              "           xumudadztd.mp4  sjrpypsiyt.mp4  ...  sppcmqfihc.mp4 vcxejqfdim.mp4\n",
              " label               FAKE            FAKE  ...            FAKE           REAL\n",
              " split              train           train  ...           train          train\n",
              " original  jsddeswcrn.mp4  owhhlfbyqd.mp4  ...  enjzkucxsd.mp4            NaN\n",
              " \n",
              " [3 rows x 2268 columns],\n",
              "           vkketnrfud.mp4  tnsaqegyqt.mp4  ...  kmrjhsbqqy.mp4  edszrezley.mp4\n",
              " label               FAKE            FAKE  ...            FAKE            FAKE\n",
              " split              train           train  ...           train           train\n",
              " original  ygcrqskjni.mp4  nhkenclutb.mp4  ...  fgrxodoqcr.mp4  nirwqaczoe.mp4\n",
              " \n",
              " [3 rows x 2409 columns],\n",
              "           ptfpxubayi.mp4  uvqiaycegp.mp4  ...  ryevadcshl.mp4  myrrisyzya.mp4\n",
              " label               FAKE            FAKE  ...            FAKE            FAKE\n",
              " split              train           train  ...           train           train\n",
              " original  xqpxxtnryn.mp4  ooswfaxrxx.mp4  ...  zpompmamlx.mp4  tmadjtypjv.mp4\n",
              " \n",
              " [3 rows x 2410 columns],\n",
              "           anijjqtfth.mp4  zffofixoeh.mp4  ...  ieybeoxyyd.mp4  etisprvjae.mp4\n",
              " label               FAKE            FAKE  ...            FAKE            FAKE\n",
              " split              train           train  ...           train           train\n",
              " original  qbwwpvgyhh.mp4  bjdtgkmvza.mp4  ...  gstyhbnxwx.mp4  vcwjvigiyf.mp4\n",
              " \n",
              " [3 rows x 2786 columns],\n",
              "           nbgepetpyw.mp4  gcxwoablgs.mp4  ...  dulqhllfov.mp4 nqvbdzixhe.mp4\n",
              " label               FAKE            FAKE  ...            FAKE           REAL\n",
              " split              train           train  ...           train          train\n",
              " original  zxvhssxqza.mp4  vywtjgalte.mp4  ...  zmfjyoofct.mp4            NaN\n",
              " \n",
              " [3 rows x 2546 columns],\n",
              "           yojgjueqta.mp4  xnzhlgindk.mp4  ...  mptpnkfudq.mp4  xicfancdrx.mp4\n",
              " label               FAKE            FAKE  ...            FAKE            FAKE\n",
              " split              train           train  ...           train           train\n",
              " original  gpdtoamvkz.mp4  ivlxgbadrs.mp4  ...  qpttgwtqxo.mp4  glwlzersek.mp4\n",
              " \n",
              " [3 rows x 2433 columns],\n",
              "           uxnhxyippv.mp4  ywpwcqmabi.mp4  ...  djumgpchrn.mp4  glfmswucsj.mp4\n",
              " label               FAKE            FAKE  ...            FAKE            FAKE\n",
              " split              train           train  ...           train           train\n",
              " original  susbqdbdij.mp4  bwdagcnaix.mp4  ...  umaapupckb.mp4  lhnoolzvoa.mp4\n",
              " \n",
              " [3 rows x 2353 columns],\n",
              "           jrvjswdnbj.mp4  atyntldecu.mp4  ...  gogdodtvfw.mp4  chzieimrwu.mp4\n",
              " label               FAKE            FAKE  ...            FAKE            FAKE\n",
              " split              train           train  ...           train           train\n",
              " original  ehtdtkmmli.mp4  mfzqxktxud.mp4  ...  ddepeddixj.mp4  topyiohccg.mp4\n",
              " \n",
              " [3 rows x 2085 columns],\n",
              "           vqnsrcmsjc.mp4  lopgfogzkx.mp4  ...  xlmadlrzen.mp4  gskhaxrvap.mp4\n",
              " label               FAKE            FAKE  ...            FAKE            FAKE\n",
              " split              train           train  ...           train           train\n",
              " original  bxgkydnxzv.mp4  wcgwcemzfg.mp4  ...  cqxwlkmiel.mp4  gvpoijxknl.mp4\n",
              " \n",
              " [3 rows x 2557 columns],\n",
              "           iuctpajxnn.mp4 rkflgbgcol.mp4  ... omhzxmlgqd.mp4  hkpbwybtfw.mp4\n",
              " label               FAKE           REAL  ...           REAL            FAKE\n",
              " split              train          train  ...          train           train\n",
              " original  jtnkppoigi.mp4            NaN  ...            NaN  omhzxmlgqd.mp4\n",
              " \n",
              " [3 rows x 2236 columns],\n",
              "           dgnijohvsx.mp4 gaxvondfff.mp4  ...  ujmnnaxuss.mp4 vlcjitqpjz.mp4\n",
              " label               FAKE           REAL  ...            FAKE           REAL\n",
              " split              train          train  ...           train          train\n",
              " original  kuzkknhjjw.mp4            NaN  ...  wcagdhcwxf.mp4            NaN\n",
              " \n",
              " [3 rows x 2470 columns],\n",
              "          cveqgferbf.mp4  dskhcyjnqw.mp4  ...  rjzzbkhgih.mp4  iclrzgdndu.mp4\n",
              " label              REAL            FAKE  ...            FAKE            FAKE\n",
              " split             train           train  ...           train           train\n",
              " original            NaN  mzmnjmwunq.mp4  ...  tzwywrsuvl.mp4  kynuygfmlh.mp4\n",
              " \n",
              " [3 rows x 2356 columns],\n",
              "           iqqejyggsm.mp4  xuymlytqyc.mp4  ...  ikbwuigstb.mp4  ohbwrsgvpz.mp4\n",
              " label               FAKE            FAKE  ...            FAKE            FAKE\n",
              " split              train           train  ...           train           train\n",
              " original  gzesfubacw.mp4  kgsnfjekwa.mp4  ...  apobfcukea.mp4  ektqvjydep.mp4\n",
              " \n",
              " [3 rows x 2274 columns],\n",
              "           zhmjtavtpn.mp4  dazellwbsl.mp4  ... dawmxkceki.mp4  iwzxyrgxxx.mp4\n",
              " label               FAKE            FAKE  ...           REAL            FAKE\n",
              " split              train           train  ...          train           train\n",
              " original  ejnrxekehh.mp4  xuxkfhqjiu.mp4  ...            NaN  dawmxkceki.mp4\n",
              " \n",
              " [3 rows x 2658 columns],\n",
              "           auphqsoduh.mp4  vzuxewlhry.mp4  ...  kwjqhbnooe.mp4  irdvfgizvd.mp4\n",
              " label               FAKE            FAKE  ...            FAKE            FAKE\n",
              " split              train           train  ...           train           train\n",
              " original  eofloyspbg.mp4  pqkigveluq.mp4  ...  gwmnzgwapx.mp4  nrujcvxszu.mp4\n",
              " \n",
              " [3 rows x 2540 columns],\n",
              "           dcoyfnrpsm.mp4  uqawzjjpre.mp4  ...  qxwmamefgj.mp4  qtmmzetbse.mp4\n",
              " label               FAKE            FAKE  ...            FAKE            FAKE\n",
              " split              train           train  ...           train           train\n",
              " original  dzpychqarm.mp4  yxsettcask.mp4  ...  xtvcfygweu.mp4  igaobtaeuk.mp4\n",
              " \n",
              " [3 rows x 2339 columns],\n",
              "           xykwkrpmbo.mp4  axwvfkdsaq.mp4  ...  kgejshrtmz.mp4  qweglkmxpp.mp4\n",
              " label               FAKE            FAKE  ...            FAKE            FAKE\n",
              " split              train           train  ...           train           train\n",
              " original  ntvjivuwes.mp4  iyxelmxpfx.mp4  ...  qtdyhcwdyi.mp4  mfofuymolr.mp4\n",
              " \n",
              " [3 rows x 2655 columns],\n",
              "           kmyhzsuequ.mp4  ebhmsikovp.mp4  ...  ajkrquvpzn.mp4  lyoglramoo.mp4\n",
              " label               FAKE            FAKE  ...            FAKE            FAKE\n",
              " split              train           train  ...           train           train\n",
              " original  abhssqzhxu.mp4  nbmufxynnz.mp4  ...  fllccgwlhc.mp4  fllccgwlhc.mp4\n",
              " \n",
              " [3 rows x 2477 columns],\n",
              "           wqfjzcjbbz.mp4  egtrjvgggy.mp4  ... pgwvpgnoeq.mp4 oyiniibfdc.mp4\n",
              " label               FAKE            FAKE  ...           REAL           REAL\n",
              " split              train           train  ...          train          train\n",
              " original  qcohlfrfzb.mp4  iucnlyadlt.mp4  ...            NaN            NaN\n",
              " \n",
              " [3 rows x 2556 columns],\n",
              "           dkkqtmyitk.mp4 qyehiscxbr.mp4  ...  bqyybmnxmk.mp4  syyzlkofif.mp4\n",
              " label               FAKE           REAL  ...            FAKE            FAKE\n",
              " split              train          train  ...           train           train\n",
              " original  tkygmnaifp.mp4            NaN  ...  zukdhmubyy.mp4  xgqerzezcm.mp4\n",
              " \n",
              " [3 rows x 2420 columns],\n",
              "           bpunvjnbxu.mp4 myewuiruqd.mp4  ...  ijblnijmpp.mp4 taxjrcmkcz.mp4\n",
              " label               FAKE           REAL  ...            FAKE           REAL\n",
              " split              train          train  ...           train          train\n",
              " original  mkgbcumtar.mp4            NaN  ...  taxjrcmkcz.mp4            NaN\n",
              " \n",
              " [3 rows x 2222 columns],\n",
              "           tdmzwkhpha.mp4  lgqfanavff.mp4  ...  wfhyepctyv.mp4  cpvlmfudwa.mp4\n",
              " label               FAKE            FAKE  ...            FAKE            FAKE\n",
              " split              train           train  ...           train           train\n",
              " original  vupmukvvxd.mp4  dnecilutfg.mp4  ...  lmvfpvnkmr.mp4  nybubisgar.mp4\n",
              " \n",
              " [3 rows x 2384 columns],\n",
              "           oltjahgizr.mp4  cqojknfuus.mp4  ...  zqlyovqwda.mp4  axkbdkcony.mp4\n",
              " label               FAKE            FAKE  ...            FAKE            FAKE\n",
              " split              train           train  ...           train           train\n",
              " original  ivexyynvqc.mp4  aaapwqhxli.mp4  ...  kwqhorfuuv.mp4  xkspwcmsid.mp4\n",
              " \n",
              " [3 rows x 2546 columns],\n",
              "           szfifyvsso.mp4  ubmugwqfol.mp4  ...  exjmfjwuvn.mp4 raoksnpnna.mp4\n",
              " label               FAKE            FAKE  ...            FAKE           REAL\n",
              " split              train           train  ...           train          train\n",
              " original  wsxyuwcrfx.mp4  yadnjfpztj.mp4  ...  gyfqnutjyv.mp4            NaN\n",
              " \n",
              " [3 rows x 2665 columns],\n",
              "           gthvvygfcj.mp4  yunqitmhjo.mp4  ...  dmzbzcjsrg.mp4  jfjberuxhh.mp4\n",
              " label               FAKE            FAKE  ...            FAKE            FAKE\n",
              " split              train           train  ...           train           train\n",
              " original  lxeqbyddvt.mp4  hbrgvmrtnn.mp4  ...  imsacxixmv.mp4  jygbqsigcr.mp4\n",
              " \n",
              " [3 rows x 2346 columns],\n",
              "           umkxoagtyp.mp4  icctbkjedq.mp4  ...  wddsnkeghb.mp4  iffowzafje.mp4\n",
              " label               FAKE            FAKE  ...            FAKE            FAKE\n",
              " split              train           train  ...           train           train\n",
              " original  ruhjnjwokl.mp4  gfdenskfme.mp4  ...  qufzdwetss.mp4  ngzqnucpqt.mp4\n",
              " \n",
              " [3 rows x 2202 columns]]"
            ]
          },
          "metadata": {
            "tags": []
          },
          "execution_count": 9
        }
      ]
    },
    {
      "cell_type": "markdown",
      "metadata": {
        "id": "88eTSoFTlUSu",
        "colab_type": "text"
      },
      "source": [
        "## 1.3 Functions"
      ]
    },
    {
      "cell_type": "code",
      "metadata": {
        "id": "jdJJStvunqDr",
        "colab_type": "code",
        "colab": {}
      },
      "source": [
        "def get_path(num,x):\n",
        "    num=str(num)\n",
        "    if len(num)==2:\n",
        "        path= work_root_path + '/input/DeepFake'+num+'/DeepFake'+num+'/' + x.replace('.mp4', '') + '.jpg'\n",
        "    else:\n",
        "        path= work_root_path + '/input/DeepFake0'+num+'/DeepFake0'+num+'/' + x.replace('.mp4', '') + '.jpg'\n",
        "    if not os.path.exists(path):\n",
        "       raise Exception\n",
        "    return path"
      ],
      "execution_count": 0,
      "outputs": []
    },
    {
      "cell_type": "code",
      "metadata": {
        "id": "gshCHSZzYF9M",
        "colab_type": "code",
        "outputId": "fea2e2f0-f5df-4ec7-9315-019be7e7a85a",
        "colab": {
          "base_uri": "https://localhost:8080/",
          "height": 52
        }
      },
      "source": [
        "# Labeling\n",
        "# json 파일과 img 파일을 매칭\n",
        "paths=[]\n",
        "y=[]\n",
        "for df_train,num in tqdm(zip(df_trains,nums),total=len(df_trains)):\n",
        "    images = list(df_train.columns.values)\n",
        "    for x in images:\n",
        "        try:\n",
        "            paths.append(get_path(num,x))\n",
        "            y.append(LABELS.index(df_train[x]['label']))\n",
        "        except Exception as err:\n",
        "            #print(err)\n",
        "            pass\n",
        "\n",
        "val_paths=[]\n",
        "val_y=[]\n",
        "for df_val,num in tqdm(zip(df_vals,val_nums),total=len(df_vals)):\n",
        "    images = list(df_val.columns.values)\n",
        "    for x in images:\n",
        "        try:\n",
        "            val_paths.append(get_path(num,x))\n",
        "            val_y.append(LABELS.index(df_val[x]['label']))\n",
        "        except Exception as err:\n",
        "            #print(err)\n",
        "            pass"
      ],
      "execution_count": 0,
      "outputs": [
        {
          "output_type": "stream",
          "text": [
            "100%|██████████| 47/47 [12:52<00:00, 15.69s/it]\n",
            "100%|██████████| 3/3 [00:51<00:00, 17.03s/it]\n"
          ],
          "name": "stderr"
        }
      ]
    },
    {
      "cell_type": "code",
      "metadata": {
        "id": "Xvrxk2iwwg-s",
        "colab_type": "code",
        "outputId": "dc75bed8-264a-4aa0-ddc9-55f52ece8a6c",
        "colab": {
          "base_uri": "https://localhost:8080/",
          "height": 52
        }
      },
      "source": [
        "print('y : ',len(y))\n",
        "print('val_y :',len(val_y))"
      ],
      "execution_count": 0,
      "outputs": [
        {
          "output_type": "stream",
          "text": [
            "y :  104890\n",
            "val_y : 7366\n"
          ],
          "name": "stdout"
        }
      ]
    },
    {
      "cell_type": "code",
      "metadata": {
        "id": "m_aj9GsyYF_3",
        "colab_type": "code",
        "colab": {}
      },
      "source": [
        "# 컬러 이미지를 읽어오는 함수\n",
        "def read_img(path):\n",
        "    return cv2.cvtColor(cv2.imread(path),cv2.COLOR_BGR2RGB)"
      ],
      "execution_count": 0,
      "outputs": []
    },
    {
      "cell_type": "code",
      "metadata": {
        "id": "CXsvwWxbYGCj",
        "colab_type": "code",
        "colab": {}
      },
      "source": [
        "# X,y 데이터셋을 섞어줌\n",
        "def shuffle(X,y):\n",
        "    new_train=[]\n",
        "    for m,n in zip(X,y):\n",
        "        new_train.append([m,n])\n",
        "    random.shuffle(new_train)\n",
        "    X,y=[],[]\n",
        "    for x in new_train:\n",
        "        X.append(x[0])\n",
        "        y.append(x[1])\n",
        "    return X,y"
      ],
      "execution_count": 0,
      "outputs": []
    },
    {
      "cell_type": "code",
      "metadata": {
        "id": "LD5nBv1yYGFa",
        "colab_type": "code",
        "colab": {}
      },
      "source": [
        "import random\n",
        "def get_random_sampling(paths, y, val_paths, val_y):\n",
        "  real=[]\n",
        "  fake=[]\n",
        "  # train 데이터의 경로와 y값을 받아 real과 fake로 분류\n",
        "  for m,n in zip(paths,y):\n",
        "      if n==0:\n",
        "          real.append(m)\n",
        "      else:\n",
        "          fake.append(m)\n",
        "\n",
        "  # fake=random.sample(fake,len(real))\n",
        "  # paths list에 경로를 담고, y에 real과 fake 여부를 담음\n",
        "  # path와 y값을 매칭시켜 정리\n",
        "  paths,y=[],[]\n",
        "  for x in real:\n",
        "      paths.append(x)\n",
        "      y.append(0)\n",
        "  for x in fake:\n",
        "      paths.append(x)\n",
        "      y.append(1)\n",
        "\n",
        "  # validation 데이터도 위와 마찬가지로 real과 fake를 나누어줌\n",
        "  real=[]\n",
        "  fake=[]\n",
        "  for m,n in zip(val_paths,val_y):\n",
        "      if n==0:\n",
        "          real.append(m)\n",
        "      else:\n",
        "          fake.append(m)\n",
        "\n",
        "  # fake=random.sample(fake,len(real))\n",
        "  val_paths,val_y=[],[]\n",
        "  for x in real:\n",
        "      val_paths.append(x)\n",
        "      val_y.append(0)\n",
        "  for x in fake:\n",
        "      val_paths.append(x)\n",
        "      val_y.append(1)\n",
        "\n",
        "  # 경로안에 이미지를 불러옴\n",
        "  X=[]\n",
        "  for img in tqdm(paths):\n",
        "      X.append(read_img(img))\n",
        "  val_X=[]\n",
        "  for img in tqdm(val_paths):\n",
        "      val_X.append(read_img(img))\n",
        "\n",
        "\n",
        "  # ffhq 데이터 사용\n",
        "  # https://github.com/NVlabs/ffhq-dataset 에서 구글 드라이브로 공유\n",
        "  # Balance with ffhq dataset\n",
        "  ffhq = os.listdir('/content/gdrive/My Drive/thumbnails128x128')\n",
        "  X_ = []\n",
        "  # ffhq 데이터를 불러와 150*150으로 resize\n",
        "  # 해상도를 높이면 성능이 향상된다는 피드백이 있음\n",
        "  for file in tqdm(ffhq):\n",
        "    im = read_img(f'../input/ffhq-face-data-set/thumbnails128x128/{file}')\n",
        "    im = cv2.resize(im, (150,150))\n",
        "    X_.append(im)\n",
        "  random.shuffle(X_)\n",
        "\n",
        "  for i in range(64773 - 12130):\n",
        "    X.append(X_[i])\n",
        "    y.append(0)\n",
        "  del X_[0:64773 - 12130]\n",
        "  for i in range(6108 - 1258):\n",
        "    val_X.append(X_[i])\n",
        "    val_y.append(0)\n",
        "\n",
        "  X, y = shuffle(X,y)\n",
        "  val_X, val_y = shuffle(val_X,val_y)\n",
        "\n",
        "  return X, val_X, y, val_y"
      ],
      "execution_count": 0,
      "outputs": []
    },
    {
      "cell_type": "markdown",
      "metadata": {
        "id": "iitqwq0txUCm",
        "colab_type": "text"
      },
      "source": [
        "## 1.4 Data preprocessing"
      ]
    },
    {
      "cell_type": "code",
      "metadata": {
        "id": "vMrxgPLPYGIM",
        "colab_type": "code",
        "colab": {}
      },
      "source": [
        "from torch.utils.data import Dataset, DataLoader\n",
        "mean = [0.485, 0.456, 0.406]\n",
        "std = [0.229, 0.224, 0.225]\n",
        "\n",
        "class ImageDataset(Dataset):\n",
        "    def __init__(self, X, y, training=True, transform=None):\n",
        "        self.X = X\n",
        "        self.y = y\n",
        "        self.transform = transform\n",
        "        self.training = training\n",
        "\n",
        "    def __len__(self):\n",
        "        return len(self.X)\n",
        "    \n",
        "    def __getitem__(self, idx):\n",
        "        if torch.is_tensor(idx):\n",
        "            idx = idx.tolist()\n",
        "        \n",
        "        img = self.X[idx]\n",
        "\n",
        "        if self.transform is not None:\n",
        "          res = self.transform(image=img)\n",
        "          img = res['image']\n",
        "        \n",
        "        img = np.rollaxis(img, 2, 0)\n",
        "        # img = np.array(img).astype(np.float32) / 255.\n",
        "\n",
        "        labels = self.y[idx]\n",
        "        labels = np.array(labels).astype(np.float32)\n",
        "        return [img, labels]"
      ],
      "execution_count": 0,
      "outputs": []
    },
    {
      "cell_type": "markdown",
      "metadata": {
        "id": "_cAX4g8yxgSt",
        "colab_type": "text"
      },
      "source": [
        "# 2 Xception Model"
      ]
    },
    {
      "cell_type": "markdown",
      "metadata": {
        "id": "WsKv3WZXx9Bv",
        "colab_type": "text"
      },
      "source": [
        "## 2.1 Xception Model Load"
      ]
    },
    {
      "cell_type": "code",
      "metadata": {
        "id": "TGd3YwQ4wTsH",
        "colab_type": "code",
        "outputId": "69ea62b3-2c53-4fe9-be3f-3f21daedaae9",
        "colab": {
          "base_uri": "https://localhost:8080/",
          "height": 72
        }
      },
      "source": [
        "!pip install pytorchcv --quiet\n",
        "from pytorchcv.model_provider import get_model\n",
        "model = get_model(\"xception\", pretrained=True)\n",
        "# model = get_model(\"resnet18\", pretrained=True)\n",
        "model = nn.Sequential(*list(model.children())[:-1]) # Remove original output layer"
      ],
      "execution_count": 0,
      "outputs": [
        {
          "output_type": "stream",
          "text": [
            "\u001b[?25l\r\u001b[K     |▉                               | 10kB 22.1MB/s eta 0:00:01\r\u001b[K     |█▋                              | 20kB 1.7MB/s eta 0:00:01\r\u001b[K     |██▌                             | 30kB 2.3MB/s eta 0:00:01\r\u001b[K     |███▎                            | 40kB 1.7MB/s eta 0:00:01\r\u001b[K     |████▏                           | 51kB 1.8MB/s eta 0:00:01\r\u001b[K     |█████                           | 61kB 2.2MB/s eta 0:00:01\r\u001b[K     |█████▉                          | 71kB 2.4MB/s eta 0:00:01\r\u001b[K     |██████▋                         | 81kB 2.6MB/s eta 0:00:01\r\u001b[K     |███████▍                        | 92kB 2.9MB/s eta 0:00:01\r\u001b[K     |████████▎                       | 102kB 2.7MB/s eta 0:00:01\r\u001b[K     |█████████                       | 112kB 2.7MB/s eta 0:00:01\r\u001b[K     |██████████                      | 122kB 2.7MB/s eta 0:00:01\r\u001b[K     |██████████▊                     | 133kB 2.7MB/s eta 0:00:01\r\u001b[K     |███████████▋                    | 143kB 2.7MB/s eta 0:00:01\r\u001b[K     |████████████▍                   | 153kB 2.7MB/s eta 0:00:01\r\u001b[K     |█████████████▏                  | 163kB 2.7MB/s eta 0:00:01\r\u001b[K     |██████████████                  | 174kB 2.7MB/s eta 0:00:01\r\u001b[K     |██████████████▉                 | 184kB 2.7MB/s eta 0:00:01\r\u001b[K     |███████████████▊                | 194kB 2.7MB/s eta 0:00:01\r\u001b[K     |████████████████▌               | 204kB 2.7MB/s eta 0:00:01\r\u001b[K     |█████████████████▍              | 215kB 2.7MB/s eta 0:00:01\r\u001b[K     |██████████████████▏             | 225kB 2.7MB/s eta 0:00:01\r\u001b[K     |███████████████████             | 235kB 2.7MB/s eta 0:00:01\r\u001b[K     |███████████████████▉            | 245kB 2.7MB/s eta 0:00:01\r\u001b[K     |████████████████████▋           | 256kB 2.7MB/s eta 0:00:01\r\u001b[K     |█████████████████████▌          | 266kB 2.7MB/s eta 0:00:01\r\u001b[K     |██████████████████████▎         | 276kB 2.7MB/s eta 0:00:01\r\u001b[K     |███████████████████████▏        | 286kB 2.7MB/s eta 0:00:01\r\u001b[K     |████████████████████████        | 296kB 2.7MB/s eta 0:00:01\r\u001b[K     |████████████████████████▉       | 307kB 2.7MB/s eta 0:00:01\r\u001b[K     |█████████████████████████▋      | 317kB 2.7MB/s eta 0:00:01\r\u001b[K     |██████████████████████████▍     | 327kB 2.7MB/s eta 0:00:01\r\u001b[K     |███████████████████████████▎    | 337kB 2.7MB/s eta 0:00:01\r\u001b[K     |████████████████████████████    | 348kB 2.7MB/s eta 0:00:01\r\u001b[K     |█████████████████████████████   | 358kB 2.7MB/s eta 0:00:01\r\u001b[K     |█████████████████████████████▊  | 368kB 2.7MB/s eta 0:00:01\r\u001b[K     |██████████████████████████████▋ | 378kB 2.7MB/s eta 0:00:01\r\u001b[K     |███████████████████████████████▍| 389kB 2.7MB/s eta 0:00:01\r\u001b[K     |████████████████████████████████| 399kB 2.7MB/s \n",
            "\u001b[?25hDownloading /root/.torch/models/xception-0549-e4f0232c.pth.zip from https://github.com/osmr/imgclsmob/releases/download/v0.0.115/xception-0549-e4f0232c.pth.zip...\n"
          ],
          "name": "stdout"
        }
      ]
    },
    {
      "cell_type": "code",
      "metadata": {
        "id": "AhZe_IVQwTu4",
        "colab_type": "code",
        "colab": {}
      },
      "source": [
        "model[0].final_block.pool = nn.Sequential(nn.AdaptiveAvgPool2d(1))\n",
        "# model[0].final_pool = nn.Sequential(nn.AdaptiveAvgPool2d(1))"
      ],
      "execution_count": 0,
      "outputs": []
    },
    {
      "cell_type": "markdown",
      "metadata": {
        "id": "aSbR--YwyOKd",
        "colab_type": "text"
      },
      "source": [
        "## 2.2 Model Tuning"
      ]
    },
    {
      "cell_type": "code",
      "metadata": {
        "id": "Nj5_SoxKyERH",
        "colab_type": "code",
        "colab": {}
      },
      "source": [
        "class Head(torch.nn.Module):\n",
        "  def __init__(self, in_f, out_f):\n",
        "    super(Head, self).__init__()\n",
        "    \n",
        "    self.f = nn.Flatten()\n",
        "    self.l = nn.Linear(in_f, 512)\n",
        "    self.d = nn.Dropout(0.75)\n",
        "    self.o = nn.Linear(512, out_f)\n",
        "    self.b1 = nn.BatchNorm1d(in_f)\n",
        "    self.b2 = nn.BatchNorm1d(512)\n",
        "    self.r = nn.ReLU()\n",
        "\n",
        "  def forward(self, x):\n",
        "    x = self.f(x)\n",
        "    x = self.b1(x)\n",
        "    x = self.d(x)\n",
        "\n",
        "    x = self.l(x)\n",
        "    x = self.r(x)\n",
        "    x = self.b2(x)\n",
        "    x = self.d(x)\n",
        "\n",
        "    out = self.o(x)\n",
        "    return out"
      ],
      "execution_count": 0,
      "outputs": []
    },
    {
      "cell_type": "code",
      "metadata": {
        "id": "D2Kw5dRhyI9K",
        "colab_type": "code",
        "colab": {}
      },
      "source": [
        "class FCN(torch.nn.Module):\n",
        "  def __init__(self, base, in_f):\n",
        "    super(FCN, self).__init__()\n",
        "    self.base = base\n",
        "    self.h1 = Head(in_f, 1)\n",
        "  \n",
        "  def forward(self, x):\n",
        "    x = self.base(x)\n",
        "    return self.h1(x)\n",
        "\n",
        "model = FCN(model, 2048)"
      ],
      "execution_count": 0,
      "outputs": []
    },
    {
      "cell_type": "code",
      "metadata": {
        "id": "9CH_L3asyI_n",
        "colab_type": "code",
        "colab": {}
      },
      "source": [
        "# !pip install torchtoolbox --quiet\n",
        "# from torchtoolbox.tools import summary\n",
        "\n",
        "# model.cuda()\n",
        "# summary(model, torch.rand((1, 3, 150, 150)).cuda())"
      ],
      "execution_count": 0,
      "outputs": []
    },
    {
      "cell_type": "markdown",
      "metadata": {
        "id": "w3FeuxEyyZr-",
        "colab_type": "text"
      },
      "source": [
        "## 2.3 Train Functions"
      ]
    },
    {
      "cell_type": "code",
      "metadata": {
        "id": "hLtxMDCLyJCU",
        "colab_type": "code",
        "colab": {}
      },
      "source": [
        "def criterion1(pred1, targets):\n",
        "  l1 = F.binary_cross_entropy(F.sigmoid(pred1), targets)\n",
        "  return l1\n",
        "\n",
        "def train_model(epoch, optimizer, scheduler=None, history=None):\n",
        "    model.train()\n",
        "    total_loss = 0\n",
        "    \n",
        "    t = tqdm(train_loader)\n",
        "    for i, (img_batch, y_batch) in enumerate(t):\n",
        "        img_batch = img_batch.cuda().float()\n",
        "        y_batch = y_batch.cuda().float()\n",
        "\n",
        "        optimizer.zero_grad()\n",
        "\n",
        "        out = model(img_batch)\n",
        "        loss = criterion1(out, y_batch)\n",
        "\n",
        "        total_loss += loss\n",
        "        t.set_description(f'Epoch {epoch+1}/{n_epochs}, LR: %6f, Loss: %.4f'%(optimizer.state_dict()['param_groups'][0]['lr'],total_loss/(i+1)))\n",
        "\n",
        "        if history is not None:\n",
        "          history.loc[epoch + i / len(X), 'train_loss'] = loss.data.cpu().numpy()\n",
        "          history.loc[epoch + i / len(X), 'lr'] = optimizer.state_dict()['param_groups'][0]['lr']\n",
        "\n",
        "        loss.backward()\n",
        "        optimizer.step()\n",
        "        if scheduler is not None:\n",
        "          scheduler.step()\n",
        "\n",
        "def evaluate_model(epoch, scheduler=None, history=None):\n",
        "    model.eval()\n",
        "    loss = 0\n",
        "    pred = []\n",
        "    real = []\n",
        "    with torch.no_grad():\n",
        "        for img_batch, y_batch in val_loader:\n",
        "            img_batch = img_batch.cuda().float()\n",
        "            y_batch = y_batch.cuda().float()\n",
        "\n",
        "            o1 = model(img_batch)\n",
        "            l1 = criterion1(o1, y_batch)\n",
        "            loss += l1\n",
        "            \n",
        "            for j in o1:\n",
        "              pred.append(F.sigmoid(j))\n",
        "            for i in y_batch:\n",
        "              real.append(i.data.cpu())\n",
        "    \n",
        "    pred = [p.data.cpu().numpy() for p in pred]\n",
        "    pred2 = pred\n",
        "    pred = [np.round(p) for p in pred]\n",
        "    pred = np.array(pred)\n",
        "    acc = sklearn.metrics.recall_score(real, pred, average='macro')\n",
        "\n",
        "    real = [r.item() for r in real]\n",
        "    pred2 = np.array(pred2).clip(0.1, 0.9)\n",
        "    kaggle = sklearn.metrics.log_loss(real, pred2)\n",
        "\n",
        "    loss /= len(val_loader)\n",
        "    \n",
        "    if history is not None:\n",
        "        history.loc[epoch, 'dev_loss'] = loss.cpu().numpy()\n",
        "    \n",
        "    if scheduler is not None:\n",
        "      scheduler.step(loss)\n",
        "\n",
        "    print(f'Dev loss: %.4f, Acc: %.6f, Kaggle: %.6f'%(loss,acc,kaggle))\n",
        "    \n",
        "    return loss"
      ],
      "execution_count": 0,
      "outputs": []
    },
    {
      "cell_type": "markdown",
      "metadata": {
        "id": "QogWOSqAyzCl",
        "colab_type": "text"
      },
      "source": [
        "## 2.4 Data Loaders"
      ]
    },
    {
      "cell_type": "code",
      "metadata": {
        "id": "bQEAJ9Iky270",
        "colab_type": "code",
        "outputId": "a2e428af-3e5f-4319-dc91-39fa01141f22",
        "colab": {
          "base_uri": "https://localhost:8080/",
          "height": 406
        }
      },
      "source": [
        "X, val_X, y, val_y = get_random_sampling(paths, y, val_paths, val_y)\n",
        "\n",
        "print('There are '+str(y.count(1))+' fake train samples')\n",
        "print('There are '+str(y.count(0))+' real train samples')\n",
        "print('There are '+str(val_y.count(1))+' fake val samples')\n",
        "print('There are '+str(val_y.count(0))+' real val samples')"
      ],
      "execution_count": 0,
      "outputs": [
        {
          "output_type": "stream",
          "text": [
            "100%|██████████| 104890/104890 [5:49:27<00:00,  6.05it/s]\n",
            "100%|██████████| 7366/7366 [32:06<00:00,  6.54it/s]\n",
            "  0%|          | 0/71 [00:00<?, ?it/s]\n"
          ],
          "name": "stderr"
        },
        {
          "output_type": "error",
          "ename": "error",
          "evalue": "ignored",
          "traceback": [
            "\u001b[0;31m---------------------------------------------------------------------------\u001b[0m",
            "\u001b[0;31merror\u001b[0m                                     Traceback (most recent call last)",
            "\u001b[0;32m<ipython-input-23-824bcb245848>\u001b[0m in \u001b[0;36m<module>\u001b[0;34m()\u001b[0m\n\u001b[0;32m----> 1\u001b[0;31m \u001b[0mX\u001b[0m\u001b[0;34m,\u001b[0m \u001b[0mval_X\u001b[0m\u001b[0;34m,\u001b[0m \u001b[0my\u001b[0m\u001b[0;34m,\u001b[0m \u001b[0mval_y\u001b[0m \u001b[0;34m=\u001b[0m \u001b[0mget_random_sampling\u001b[0m\u001b[0;34m(\u001b[0m\u001b[0mpaths\u001b[0m\u001b[0;34m,\u001b[0m \u001b[0my\u001b[0m\u001b[0;34m,\u001b[0m \u001b[0mval_paths\u001b[0m\u001b[0;34m,\u001b[0m \u001b[0mval_y\u001b[0m\u001b[0;34m)\u001b[0m\u001b[0;34m\u001b[0m\u001b[0;34m\u001b[0m\u001b[0m\n\u001b[0m\u001b[1;32m      2\u001b[0m \u001b[0;34m\u001b[0m\u001b[0m\n\u001b[1;32m      3\u001b[0m \u001b[0mprint\u001b[0m\u001b[0;34m(\u001b[0m\u001b[0;34m'There are '\u001b[0m\u001b[0;34m+\u001b[0m\u001b[0mstr\u001b[0m\u001b[0;34m(\u001b[0m\u001b[0my\u001b[0m\u001b[0;34m.\u001b[0m\u001b[0mcount\u001b[0m\u001b[0;34m(\u001b[0m\u001b[0;36m1\u001b[0m\u001b[0;34m)\u001b[0m\u001b[0;34m)\u001b[0m\u001b[0;34m+\u001b[0m\u001b[0;34m' fake train samples'\u001b[0m\u001b[0;34m)\u001b[0m\u001b[0;34m\u001b[0m\u001b[0;34m\u001b[0m\u001b[0m\n\u001b[1;32m      4\u001b[0m \u001b[0mprint\u001b[0m\u001b[0;34m(\u001b[0m\u001b[0;34m'There are '\u001b[0m\u001b[0;34m+\u001b[0m\u001b[0mstr\u001b[0m\u001b[0;34m(\u001b[0m\u001b[0my\u001b[0m\u001b[0;34m.\u001b[0m\u001b[0mcount\u001b[0m\u001b[0;34m(\u001b[0m\u001b[0;36m0\u001b[0m\u001b[0;34m)\u001b[0m\u001b[0;34m)\u001b[0m\u001b[0;34m+\u001b[0m\u001b[0;34m' real train samples'\u001b[0m\u001b[0;34m)\u001b[0m\u001b[0;34m\u001b[0m\u001b[0;34m\u001b[0m\u001b[0m\n\u001b[1;32m      5\u001b[0m \u001b[0mprint\u001b[0m\u001b[0;34m(\u001b[0m\u001b[0;34m'There are '\u001b[0m\u001b[0;34m+\u001b[0m\u001b[0mstr\u001b[0m\u001b[0;34m(\u001b[0m\u001b[0mval_y\u001b[0m\u001b[0;34m.\u001b[0m\u001b[0mcount\u001b[0m\u001b[0;34m(\u001b[0m\u001b[0;36m1\u001b[0m\u001b[0;34m)\u001b[0m\u001b[0;34m)\u001b[0m\u001b[0;34m+\u001b[0m\u001b[0;34m' fake val samples'\u001b[0m\u001b[0;34m)\u001b[0m\u001b[0;34m\u001b[0m\u001b[0;34m\u001b[0m\u001b[0m\n",
            "\u001b[0;32m<ipython-input-15-b74199036f47>\u001b[0m in \u001b[0;36mget_random_sampling\u001b[0;34m(paths, y, val_paths, val_y)\u001b[0m\n\u001b[1;32m     56\u001b[0m   \u001b[0;31m# 해상도를 높이면 성능이 향상된다는 피드백이 있음\u001b[0m\u001b[0;34m\u001b[0m\u001b[0;34m\u001b[0m\u001b[0;34m\u001b[0m\u001b[0m\n\u001b[1;32m     57\u001b[0m   \u001b[0;32mfor\u001b[0m \u001b[0mfile\u001b[0m \u001b[0;32min\u001b[0m \u001b[0mtqdm\u001b[0m\u001b[0;34m(\u001b[0m\u001b[0mffhq\u001b[0m\u001b[0;34m)\u001b[0m\u001b[0;34m:\u001b[0m\u001b[0;34m\u001b[0m\u001b[0;34m\u001b[0m\u001b[0m\n\u001b[0;32m---> 58\u001b[0;31m     \u001b[0mim\u001b[0m \u001b[0;34m=\u001b[0m \u001b[0mread_img\u001b[0m\u001b[0;34m(\u001b[0m\u001b[0;34mf'../input/ffhq-face-data-set/thumbnails128x128/{file}'\u001b[0m\u001b[0;34m)\u001b[0m\u001b[0;34m\u001b[0m\u001b[0;34m\u001b[0m\u001b[0m\n\u001b[0m\u001b[1;32m     59\u001b[0m     \u001b[0mim\u001b[0m \u001b[0;34m=\u001b[0m \u001b[0mcv2\u001b[0m\u001b[0;34m.\u001b[0m\u001b[0mresize\u001b[0m\u001b[0;34m(\u001b[0m\u001b[0mim\u001b[0m\u001b[0;34m,\u001b[0m \u001b[0;34m(\u001b[0m\u001b[0;36m150\u001b[0m\u001b[0;34m,\u001b[0m\u001b[0;36m150\u001b[0m\u001b[0;34m)\u001b[0m\u001b[0;34m)\u001b[0m\u001b[0;34m\u001b[0m\u001b[0;34m\u001b[0m\u001b[0m\n\u001b[1;32m     60\u001b[0m     \u001b[0mX_\u001b[0m\u001b[0;34m.\u001b[0m\u001b[0mappend\u001b[0m\u001b[0;34m(\u001b[0m\u001b[0mim\u001b[0m\u001b[0;34m)\u001b[0m\u001b[0;34m\u001b[0m\u001b[0;34m\u001b[0m\u001b[0m\n",
            "\u001b[0;32m<ipython-input-13-65653fdd26d0>\u001b[0m in \u001b[0;36mread_img\u001b[0;34m(path)\u001b[0m\n\u001b[1;32m      1\u001b[0m \u001b[0;32mdef\u001b[0m \u001b[0mread_img\u001b[0m\u001b[0;34m(\u001b[0m\u001b[0mpath\u001b[0m\u001b[0;34m)\u001b[0m\u001b[0;34m:\u001b[0m\u001b[0;34m\u001b[0m\u001b[0;34m\u001b[0m\u001b[0m\n\u001b[0;32m----> 2\u001b[0;31m     \u001b[0;32mreturn\u001b[0m \u001b[0mcv2\u001b[0m\u001b[0;34m.\u001b[0m\u001b[0mcvtColor\u001b[0m\u001b[0;34m(\u001b[0m\u001b[0mcv2\u001b[0m\u001b[0;34m.\u001b[0m\u001b[0mimread\u001b[0m\u001b[0;34m(\u001b[0m\u001b[0mpath\u001b[0m\u001b[0;34m)\u001b[0m\u001b[0;34m,\u001b[0m\u001b[0mcv2\u001b[0m\u001b[0;34m.\u001b[0m\u001b[0mCOLOR_BGR2RGB\u001b[0m\u001b[0;34m)\u001b[0m\u001b[0;34m\u001b[0m\u001b[0;34m\u001b[0m\u001b[0m\n\u001b[0m",
            "\u001b[0;31merror\u001b[0m: OpenCV(4.1.2) /io/opencv/modules/imgproc/src/color.cpp:182: error: (-215:Assertion failed) !_src.empty() in function 'cvtColor'\n"
          ]
        }
      ]
    },
    {
      "cell_type": "code",
      "metadata": {
        "id": "h7lWItNYyY-4",
        "colab_type": "code",
        "outputId": "8fc6d561-e3c6-41bd-8248-dfc9120b0400",
        "colab": {
          "base_uri": "https://localhost:8080/",
          "height": 222
        }
      },
      "source": [
        "import albumentations\n",
        "from albumentations.augmentations.transforms import ShiftScaleRotate, HorizontalFlip, Normalize, RandomBrightnessContrast, MotionBlur, Blur, GaussNoise, JpegCompression\n",
        "train_transform = albumentations.Compose([\n",
        "                                          ShiftScaleRotate(p=0.3, scale_limit=0.25, border_mode=1, rotate_limit=25),\n",
        "                                          HorizontalFlip(p=0.2),\n",
        "                                          RandomBrightnessContrast(p=0.3, brightness_limit=0.25, contrast_limit=0.5),\n",
        "                                          MotionBlur(p=.2),\n",
        "                                          GaussNoise(p=.2),\n",
        "                                          JpegCompression(p=.2, quality_lower=50),\n",
        "                                          Normalize()\n",
        "])\n",
        "val_transform = albumentations.Compose([\n",
        "                                          Normalize()\n",
        "])\n",
        "\n",
        "train_dataset = ImageDataset(X, y, transform=train_transform)\n",
        "val_dataset = ImageDataset(val_X, val_y, transform=val_transform)"
      ],
      "execution_count": 0,
      "outputs": [
        {
          "output_type": "error",
          "ename": "NameError",
          "evalue": "ignored",
          "traceback": [
            "\u001b[0;31m---------------------------------------------------------------------------\u001b[0m",
            "\u001b[0;31mNameError\u001b[0m                                 Traceback (most recent call last)",
            "\u001b[0;32m<ipython-input-78-7b72f76e1e5e>\u001b[0m in \u001b[0;36m<module>\u001b[0;34m()\u001b[0m\n\u001b[1;32m     14\u001b[0m ])\n\u001b[1;32m     15\u001b[0m \u001b[0;34m\u001b[0m\u001b[0m\n\u001b[0;32m---> 16\u001b[0;31m \u001b[0mtrain_dataset\u001b[0m \u001b[0;34m=\u001b[0m \u001b[0mImageDataset\u001b[0m\u001b[0;34m(\u001b[0m\u001b[0mX\u001b[0m\u001b[0;34m,\u001b[0m \u001b[0my\u001b[0m\u001b[0;34m,\u001b[0m \u001b[0mtransform\u001b[0m\u001b[0;34m=\u001b[0m\u001b[0mtrain_transform\u001b[0m\u001b[0;34m)\u001b[0m\u001b[0;34m\u001b[0m\u001b[0;34m\u001b[0m\u001b[0m\n\u001b[0m\u001b[1;32m     17\u001b[0m \u001b[0mval_dataset\u001b[0m \u001b[0;34m=\u001b[0m \u001b[0mImageDataset\u001b[0m\u001b[0;34m(\u001b[0m\u001b[0mval_X\u001b[0m\u001b[0;34m,\u001b[0m \u001b[0mval_y\u001b[0m\u001b[0;34m,\u001b[0m \u001b[0mtransform\u001b[0m\u001b[0;34m=\u001b[0m\u001b[0mval_transform\u001b[0m\u001b[0;34m)\u001b[0m\u001b[0;34m\u001b[0m\u001b[0;34m\u001b[0m\u001b[0m\n",
            "\u001b[0;31mNameError\u001b[0m: name 'X' is not defined"
          ]
        }
      ]
    },
    {
      "cell_type": "code",
      "metadata": {
        "id": "bYOjmmEgyZB2",
        "colab_type": "code",
        "outputId": "f2ecf1a4-7e51-4eb7-a03a-40f357d51a75",
        "colab": {
          "base_uri": "https://localhost:8080/",
          "height": 730
        }
      },
      "source": [
        "nrow, ncol = 5, 6\n",
        "fig, axes = plt.subplots(nrow, ncol, figsize=(20, 8))\n",
        "axes = axes.flatten()\n",
        "for i, ax in enumerate(axes):\n",
        "    image, label = train_dataset[i]\n",
        "    image = np.rollaxis(image, 0, 3)\n",
        "    image = image*std + mean\n",
        "    image = np.clip(image, 0., 1.)\n",
        "    ax.imshow(image)\n",
        "    ax.set_title(f'label: {label}')"
      ],
      "execution_count": 0,
      "outputs": [
        {
          "output_type": "error",
          "ename": "NameError",
          "evalue": "ignored",
          "traceback": [
            "\u001b[0;31m---------------------------------------------------------------------------\u001b[0m",
            "\u001b[0;31mNameError\u001b[0m                                 Traceback (most recent call last)",
            "\u001b[0;32m<ipython-input-79-4c21980f71b5>\u001b[0m in \u001b[0;36m<module>\u001b[0;34m()\u001b[0m\n\u001b[1;32m      3\u001b[0m \u001b[0maxes\u001b[0m \u001b[0;34m=\u001b[0m \u001b[0maxes\u001b[0m\u001b[0;34m.\u001b[0m\u001b[0mflatten\u001b[0m\u001b[0;34m(\u001b[0m\u001b[0;34m)\u001b[0m\u001b[0;34m\u001b[0m\u001b[0;34m\u001b[0m\u001b[0m\n\u001b[1;32m      4\u001b[0m \u001b[0;32mfor\u001b[0m \u001b[0mi\u001b[0m\u001b[0;34m,\u001b[0m \u001b[0max\u001b[0m \u001b[0;32min\u001b[0m \u001b[0menumerate\u001b[0m\u001b[0;34m(\u001b[0m\u001b[0maxes\u001b[0m\u001b[0;34m)\u001b[0m\u001b[0;34m:\u001b[0m\u001b[0;34m\u001b[0m\u001b[0;34m\u001b[0m\u001b[0m\n\u001b[0;32m----> 5\u001b[0;31m     \u001b[0mimage\u001b[0m\u001b[0;34m,\u001b[0m \u001b[0mlabel\u001b[0m \u001b[0;34m=\u001b[0m \u001b[0mtrain_dataset\u001b[0m\u001b[0;34m[\u001b[0m\u001b[0mi\u001b[0m\u001b[0;34m]\u001b[0m\u001b[0;34m\u001b[0m\u001b[0;34m\u001b[0m\u001b[0m\n\u001b[0m\u001b[1;32m      6\u001b[0m     \u001b[0mimage\u001b[0m \u001b[0;34m=\u001b[0m \u001b[0mnp\u001b[0m\u001b[0;34m.\u001b[0m\u001b[0mrollaxis\u001b[0m\u001b[0;34m(\u001b[0m\u001b[0mimage\u001b[0m\u001b[0;34m,\u001b[0m \u001b[0;36m0\u001b[0m\u001b[0;34m,\u001b[0m \u001b[0;36m3\u001b[0m\u001b[0;34m)\u001b[0m\u001b[0;34m\u001b[0m\u001b[0;34m\u001b[0m\u001b[0m\n\u001b[1;32m      7\u001b[0m     \u001b[0mimage\u001b[0m \u001b[0;34m=\u001b[0m \u001b[0mimage\u001b[0m\u001b[0;34m*\u001b[0m\u001b[0mstd\u001b[0m \u001b[0;34m+\u001b[0m \u001b[0mmean\u001b[0m\u001b[0;34m\u001b[0m\u001b[0;34m\u001b[0m\u001b[0m\n",
            "\u001b[0;31mNameError\u001b[0m: name 'train_dataset' is not defined"
          ]
        },
        {
          "output_type": "display_data",
          "data": {
            "image/png": "[encoded data removed]",
            "text/plain": [
              "<Figure size 1440x576 with 30 Axes>"
            ]
          },
          "metadata": {
            "tags": []
          }
        }
      ]
    },
    {
      "cell_type": "markdown",
      "metadata": {
        "id": "k7CsUn3fzDh3",
        "colab_type": "text"
      },
      "source": [
        "## 2.5 Train"
      ]
    },
    {
      "cell_type": "code",
      "metadata": {
        "id": "DWOi8ouNyZEI",
        "colab_type": "code",
        "colab": {}
      },
      "source": [
        "import gc\n",
        "\n",
        "history = pd.DataFrame()\n",
        "history2 = pd.DataFrame()\n",
        "\n",
        "torch.cuda.empty_cache()\n",
        "gc.collect()\n",
        "\n",
        "best = 1e10\n",
        "n_epochs = 20\n",
        "batch_size = 128\n",
        "\n",
        "train_loader = DataLoader(dataset=train_dataset, batch_size=batch_size, shuffle=True, num_workers=4)\n",
        "val_loader = DataLoader(dataset=val_dataset, batch_size=batch_size, shuffle=False, num_workers=0)\n",
        "\n",
        "model = model.cuda()\n",
        "\n",
        "optimizer = torch.optim.AdamW(model.parameters(), lr=0.001)\n",
        "\n",
        "scheduler = torch.optim.lr_scheduler.ReduceLROnPlateau(optimizer, patience=5, mode='min', factor=0.7, verbose=True, min_lr=1e-5)\n",
        "\n",
        "for epoch in range(n_epochs):\n",
        "    torch.cuda.empty_cache()\n",
        "    gc.collect()\n",
        "\n",
        "    train_model(epoch, optimizer, scheduler=None, history=history)\n",
        "    \n",
        "    loss = evaluate_model(epoch, scheduler=scheduler, history=history2)\n",
        "    \n",
        "    if loss < best:\n",
        "      best = loss\n",
        "      print(f'Saving best model...')\n",
        "      torch.save(model.state_dict(), f'model.pth')"
      ],
      "execution_count": 0,
      "outputs": []
    },
    {
      "cell_type": "code",
      "metadata": {
        "id": "DRX3cOiByZJF",
        "colab_type": "code",
        "colab": {}
      },
      "source": [
        ""
      ],
      "execution_count": 0,
      "outputs": []
    },
    {
      "cell_type": "code",
      "metadata": {
        "id": "ZFy1QUpYyZHC",
        "colab_type": "code",
        "colab": {}
      },
      "source": [
        ""
      ],
      "execution_count": 0,
      "outputs": []
    },
    {
      "cell_type": "code",
      "metadata": {
        "id": "CSgToDPsyJFm",
        "colab_type": "code",
        "colab": {}
      },
      "source": [
        ""
      ],
      "execution_count": 0,
      "outputs": []
    },
    {
      "cell_type": "code",
      "metadata": {
        "id": "sGHrrjw-yEUV",
        "colab_type": "code",
        "colab": {}
      },
      "source": [
        ""
      ],
      "execution_count": 0,
      "outputs": []
    }
  ]
}