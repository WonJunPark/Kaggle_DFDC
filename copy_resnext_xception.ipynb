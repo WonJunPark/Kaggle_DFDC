{
  "nbformat": 4,
  "nbformat_minor": 0,
  "metadata": {
    "kernelspec": {
      "name": "python3",
      "display_name": "Python 3"
    },
    "language_info": {
      "codemirror_mode": {
        "name": "ipython",
        "version": 3
      },
      "file_extension": ".py",
      "mimetype": "text/x-python",
      "name": "python",
      "nbconvert_exporter": "python",
      "pygments_lexer": "ipython3",
      "version": "3.6.6"
    },
    "colab": {
      "name": "copy_resnext_xception.ipynb",
      "provenance": [],
      "collapsed_sections": [],
      "toc_visible": true,
      "machine_shape": "hm",
      "include_colab_link": true
    },
    "accelerator": "GPU"
  },
  "cells": [
    {
      "cell_type": "markdown",
      "metadata": {
        "id": "view-in-github",
        "colab_type": "text"
      },
      "source": [
        "<a href=\"https://colab.research.google.com/github/WonJunPark/img_recog/blob/master/copy_resnext_xception.ipynb\" target=\"_parent\"><img src=\"https://colab.research.google.com/assets/colab-badge.svg\" alt=\"Open In Colab\"/></a>"
      ]
    },
    {
      "cell_type": "markdown",
      "metadata": {
        "colab_type": "text",
        "id": "hhkArxVLKHF4"
      },
      "source": [
        "# 0. Resnext & Xception Ensemble (Inference)\n",
        "\n",
        "※본 커널은 캐글을 통해 공유된 https://www.kaggle.com/khoongweihao/xception-resnext-ensemble-inference 의 내용을 기반으로 작성되었습니다.\n",
        "\n",
        "※필요한 기능들을 Optional 로 추가하였습니다.\n",
        "\n"
      ]
    },
    {
      "cell_type": "markdown",
      "metadata": {
        "id": "9vpVsbD0EQcO",
        "colab_type": "text"
      },
      "source": [
        "# Colab 사용을 위한 환경 설정"
      ]
    },
    {
      "cell_type": "code",
      "metadata": {
        "id": "LfGLriU2cdHQ",
        "colab_type": "code",
        "colab": {}
      },
      "source": [
        "use_colab = True"
      ],
      "execution_count": 0,
      "outputs": []
    },
    {
      "cell_type": "code",
      "metadata": {
        "id": "MPVZTpLwRrUZ",
        "colab_type": "code",
        "outputId": "61ad6ac5-b31b-4bdd-ef71-f79ec912b39b",
        "colab": {
          "base_uri": "https://localhost:8080/",
          "height": 34
        }
      },
      "source": [
        "if use_colab == True:\n",
        "  from google.colab import drive\n",
        "  drive.mount(\"/content/gdrive\")"
      ],
      "execution_count": 11,
      "outputs": [
        {
          "output_type": "stream",
          "text": [
            "Drive already mounted at /content/gdrive; to attempt to forcibly remount, call drive.mount(\"/content/gdrive\", force_remount=True).\n"
          ],
          "name": "stdout"
        }
      ]
    },
    {
      "cell_type": "code",
      "metadata": {
        "id": "-PH4nvSJRcHD",
        "colab_type": "code",
        "colab": {}
      },
      "source": [
        "if use_colab == True:\n",
        "  work_root_path = \"/content/gdrive/My Drive/Kaggle/DFDC/\"\n",
        "else:\n",
        "  work_root_path = \"../\"      # src directory 의 상위로 옮김"
      ],
      "execution_count": 0,
      "outputs": []
    },
    {
      "cell_type": "code",
      "metadata": {
        "id": "899rgfCkXmoF",
        "colab_type": "code",
        "outputId": "a8b936ff-e134-4907-fca4-478b425073aa",
        "colab": {
          "base_uri": "https://localhost:8080/",
          "height": 34
        }
      },
      "source": [
        "cd \"/content/gdrive/My Drive\""
      ],
      "execution_count": 13,
      "outputs": [
        {
          "output_type": "stream",
          "text": [
            "/content/gdrive/My Drive\n"
          ],
          "name": "stdout"
        }
      ]
    },
    {
      "cell_type": "markdown",
      "metadata": {
        "id": "enJxAdXtuas6",
        "colab_type": "text"
      },
      "source": [
        "# Resnext & Xception Ensemble (Inference)\n",
        "\n",
        "- 이 커널은 https://www.kaggle.com/khoongweihao/frames-per-video-viz 및 https://www.kaggle.com/greatgamedota/xception-binary-classifier-inference (original 아님, learning rate 와 epochs 수정함)의 결과 앙상블을 출력합니다.\n",
        "- 비디오 당 프레임 수 64 (가장 좋음)"
      ]
    },
    {
      "cell_type": "markdown",
      "metadata": {
        "colab_type": "text",
        "id": "A7af3__-bvWC"
      },
      "source": [
        "# 1 Common"
      ]
    },
    {
      "cell_type": "markdown",
      "metadata": {
        "id": "pLFdCE-bmX-X",
        "colab_type": "text"
      },
      "source": [
        "## 1.1 Install"
      ]
    },
    {
      "cell_type": "code",
      "metadata": {
        "id": "g8B-9Bb1mbgE",
        "colab_type": "code",
        "colab": {}
      },
      "source": [
        "if use_colab == True:\n",
        "  !pip install ./Kaggle/DFDC/deepfake-xception-trained-model/pytorchcv-0.0.55-py2.py3-none-any.whl --quiet\n",
        "else:\n",
        "  !pip install ../Kaggle/DFDC/deepfake-xception-trained-model/pytorchcv-0.0.55-py2.py3-none-any.whl --quiet"
      ],
      "execution_count": 0,
      "outputs": []
    },
    {
      "cell_type": "markdown",
      "metadata": {
        "id": "TvNkvemoWCYK",
        "colab_type": "text"
      },
      "source": [
        "## 1.2 Import"
      ]
    },
    {
      "cell_type": "code",
      "metadata": {
        "colab_type": "code",
        "id": "mkAKbISuWAup",
        "colab": {}
      },
      "source": [
        "import datetime"
      ],
      "execution_count": 0,
      "outputs": []
    },
    {
      "cell_type": "code",
      "metadata": {
        "id": "Fqpd9ysBuas-",
        "colab_type": "code",
        "colab": {}
      },
      "source": [
        "import os, sys, time\n",
        "import cv2\n",
        "import numpy as np\n",
        "import pandas as pd\n",
        "\n",
        "import torch\n",
        "import torch.nn as nn\n",
        "import torch.nn.functional as F\n",
        "import torchvision.models as models\n",
        "\n",
        "%matplotlib inline\n",
        "import matplotlib.pyplot as plt\n",
        "import seaborn as sns\n",
        "\n",
        "import warnings\n",
        "warnings.filterwarnings(\"ignore\")"
      ],
      "execution_count": 0,
      "outputs": []
    },
    {
      "cell_type": "markdown",
      "metadata": {
        "id": "tmXx64xouas9",
        "colab_type": "text"
      },
      "source": [
        "## 1.3 Prepare and Load Data"
      ]
    },
    {
      "cell_type": "code",
      "metadata": {
        "id": "9NDO9OVAuatD",
        "colab_type": "code",
        "outputId": "b4c6628a-ed7e-4377-fb55-c04d6623ec33",
        "colab": {
          "base_uri": "https://localhost:8080/",
          "height": 34
        }
      },
      "source": [
        "if use_colab == True:\n",
        "  train_dir = \"/content/gdrive/My Drive/Kaggle/DFDC/deepfake-detection-challenge/train_sample_videos/\"\n",
        "\n",
        "# train_dir 디렉토리에 있는 파일을 정렬해서 train_videos 로 목록을 만든다\n",
        "train_videos = sorted([x for x in os.listdir(train_dir) if x[-4:] == \".mp4\"])\n",
        "len(train_videos)  "
      ],
      "execution_count": 21,
      "outputs": [
        {
          "output_type": "execute_result",
          "data": {
            "text/plain": [
              "356"
            ]
          },
          "metadata": {
            "tags": []
          },
          "execution_count": 21
        }
      ]
    },
    {
      "cell_type": "code",
      "metadata": {
        "id": "F5nOnL_p6wHF",
        "colab_type": "code",
        "outputId": "b7699d3c-a816-4a5b-f709-81e97ec41d7a",
        "colab": {
          "base_uri": "https://localhost:8080/",
          "height": 34
        }
      },
      "source": [
        "if use_colab == True:\n",
        "  test_dir = \"/content/gdrive/My Drive/Kaggle/DFDC/deepfake-detection-challenge/test_videos/\"\n",
        "  \n",
        "# test_dir 디렉토리에 있는 파일을 정렬해서 test_videos 로 목록을 만든다\n",
        "test_videos = sorted([x for x in os.listdir(test_dir) if x[-4:] == \".mp4\"])\n",
        "len(test_videos)"
      ],
      "execution_count": 22,
      "outputs": [
        {
          "output_type": "execute_result",
          "data": {
            "text/plain": [
              "400"
            ]
          },
          "metadata": {
            "tags": []
          },
          "execution_count": 22
        }
      ]
    },
    {
      "cell_type": "code",
      "metadata": {
        "id": "MqffRTJxuatI",
        "colab_type": "code",
        "outputId": "84d73a15-09f5-4794-bf4f-5bf87b79abb6",
        "colab": {
          "base_uri": "https://localhost:8080/",
          "height": 70
        }
      },
      "source": [
        "print(\"PyTorch version:\", torch.__version__)\n",
        "print(\"CUDA version:\", torch.version.cuda)\n",
        "print(\"cuDNN version:\", torch.backends.cudnn.version())"
      ],
      "execution_count": 23,
      "outputs": [
        {
          "output_type": "stream",
          "text": [
            "PyTorch version: 1.4.0\n",
            "CUDA version: 10.1\n",
            "cuDNN version: 7603\n"
          ],
          "name": "stdout"
        }
      ]
    },
    {
      "cell_type": "code",
      "metadata": {
        "id": "zNwRY18cuatO",
        "colab_type": "code",
        "outputId": "d00a2185-330f-4d09-8d83-9e9c68f6d36d",
        "colab": {
          "base_uri": "https://localhost:8080/",
          "height": 34
        }
      },
      "source": [
        "gpu = torch.device(\"cuda:0\" if torch.cuda.is_available() else \"cpu\")\n",
        "gpu"
      ],
      "execution_count": 24,
      "outputs": [
        {
          "output_type": "execute_result",
          "data": {
            "text/plain": [
              "device(type='cuda', index=0)"
            ]
          },
          "metadata": {
            "tags": []
          },
          "execution_count": 24
        }
      ]
    },
    {
      "cell_type": "code",
      "metadata": {
        "id": "rmljr_DIuatS",
        "colab_type": "code",
        "colab": {}
      },
      "source": [
        "import sys\n",
        "\n",
        "if use_colab == True:\n",
        "  sys.path.insert(0, work_root_path + \"blazeface-pytorch\")\n",
        "  sys.path.insert(0, work_root_path + \"deepfakes-inference-demo\")\n",
        "  sys.path.insert(0, work_root_path + \"deepfakes-inference-demo/helpers\")"
      ],
      "execution_count": 0,
      "outputs": []
    },
    {
      "cell_type": "code",
      "metadata": {
        "id": "yUrqsTM2uatV",
        "colab_type": "code",
        "colab": {}
      },
      "source": [
        "from blazeface import BlazeFace\n",
        "\n",
        "# weight 와 anchor 를 load 한다.\n",
        "facedet = BlazeFace().to(gpu)\n",
        "if use_colab == True:\n",
        "  facedet.load_weights(work_root_path + \"deepfake-detection-challenge/blazeface/blazeface.pth\")\n",
        "  facedet.load_anchors(work_root_path + \"deepfake-detection-challenge/blazeface/anchors.npy\")\n",
        "\n",
        "# ???  \n",
        "_ = facedet.train(False)"
      ],
      "execution_count": 0,
      "outputs": []
    },
    {
      "cell_type": "code",
      "metadata": {
        "colab_type": "code",
        "id": "-ByKEQ6v5hIe",
        "colab": {}
      },
      "source": [
        "from helpers.read_video_1 import VideoReader\n",
        "from helpers.face_extract_1 import FaceExtractor"
      ],
      "execution_count": 0,
      "outputs": []
    },
    {
      "cell_type": "markdown",
      "metadata": {
        "id": "ZaULdubvIwn4",
        "colab_type": "text"
      },
      "source": [
        "### 1.3.1 Additional Prepare (Optional)"
      ]
    },
    {
      "cell_type": "code",
      "metadata": {
        "colab_type": "code",
        "id": "ZJCXiIGiJAIP",
        "colab": {}
      },
      "source": [
        "TRAIN_SAMPLE_FOLDER = 'train_sample_videos'\n",
        "TEST_FOLDER = 'test_videos'"
      ],
      "execution_count": 0,
      "outputs": []
    },
    {
      "cell_type": "code",
      "metadata": {
        "_kg_hide-input": true,
        "colab_type": "code",
        "outputId": "ea0a905a-397e-4a53-b313-cad0f4b0d96b",
        "id": "MbUYYbKBJAIS",
        "colab": {
          "base_uri": "https://localhost:8080/",
          "height": 34
        }
      },
      "source": [
        "input_path = \"/content/gdrive/My Drive/Kaggle/DFDC/deepfake-detection-challenge\"\n",
        "train_list = list(os.listdir(os.path.join(input_path, TRAIN_SAMPLE_FOLDER)))\n",
        "ext_dict = []\n",
        "for file in train_list:\n",
        "    file_ext = file.split('.')[1]\n",
        "    if (file_ext not in ext_dict):\n",
        "        ext_dict.append(file_ext)\n",
        "print(f\"Extensions: {ext_dict}\")      "
      ],
      "execution_count": 34,
      "outputs": [
        {
          "output_type": "stream",
          "text": [
            "Extensions: ['json', 'mp4']\n"
          ],
          "name": "stdout"
        }
      ]
    },
    {
      "cell_type": "code",
      "metadata": {
        "_kg_hide-input": true,
        "colab_type": "code",
        "outputId": "d2313369-9b3b-44bd-ae3a-bafa1df446fb",
        "id": "tC0nds_HJAIV",
        "colab": {
          "base_uri": "https://localhost:8080/",
          "height": 34
        }
      },
      "source": [
        "json_file = [file for file in train_list if  file.endswith('json')][0]\n",
        "print(f\"JSON file: {json_file}\")"
      ],
      "execution_count": 35,
      "outputs": [
        {
          "output_type": "stream",
          "text": [
            "JSON file: metadata.json\n"
          ],
          "name": "stdout"
        }
      ]
    },
    {
      "cell_type": "code",
      "metadata": {
        "_kg_hide-input": true,
        "colab_type": "code",
        "id": "anVi3s9bJAIX",
        "colab": {}
      },
      "source": [
        "def get_meta_from_json(path):\n",
        "    df = pd.read_json(os.path.join(input_path, path, json_file))\n",
        "    df = df.T\n",
        "    return df\n",
        "\n",
        "meta_train_df = get_meta_from_json(TRAIN_SAMPLE_FOLDER)"
      ],
      "execution_count": 0,
      "outputs": []
    },
    {
      "cell_type": "code",
      "metadata": {
        "colab_type": "code",
        "outputId": "78260b3a-0369-40cb-8502-0de6ddb80401",
        "id": "AS7ikqeNJAIa",
        "colab": {
          "base_uri": "https://localhost:8080/",
          "height": 199
        }
      },
      "source": [
        "meta_train_df.head()"
      ],
      "execution_count": 37,
      "outputs": [
        {
          "output_type": "execute_result",
          "data": {
            "text/html": [
              "<div>\n",
              "<style scoped>\n",
              "    .dataframe tbody tr th:only-of-type {\n",
              "        vertical-align: middle;\n",
              "    }\n",
              "\n",
              "    .dataframe tbody tr th {\n",
              "        vertical-align: top;\n",
              "    }\n",
              "\n",
              "    .dataframe thead th {\n",
              "        text-align: right;\n",
              "    }\n",
              "</style>\n",
              "<table border=\"1\" class=\"dataframe\">\n",
              "  <thead>\n",
              "    <tr style=\"text-align: right;\">\n",
              "      <th></th>\n",
              "      <th>label</th>\n",
              "      <th>split</th>\n",
              "      <th>original</th>\n",
              "    </tr>\n",
              "  </thead>\n",
              "  <tbody>\n",
              "    <tr>\n",
              "      <th>aagfhgtpmv.mp4</th>\n",
              "      <td>FAKE</td>\n",
              "      <td>train</td>\n",
              "      <td>vudstovrck.mp4</td>\n",
              "    </tr>\n",
              "    <tr>\n",
              "      <th>aapnvogymq.mp4</th>\n",
              "      <td>FAKE</td>\n",
              "      <td>train</td>\n",
              "      <td>jdubbvfswz.mp4</td>\n",
              "    </tr>\n",
              "    <tr>\n",
              "      <th>abarnvbtwb.mp4</th>\n",
              "      <td>REAL</td>\n",
              "      <td>train</td>\n",
              "      <td>None</td>\n",
              "    </tr>\n",
              "    <tr>\n",
              "      <th>abofeumbvv.mp4</th>\n",
              "      <td>FAKE</td>\n",
              "      <td>train</td>\n",
              "      <td>atvmxvwyns.mp4</td>\n",
              "    </tr>\n",
              "    <tr>\n",
              "      <th>abqwwspghj.mp4</th>\n",
              "      <td>FAKE</td>\n",
              "      <td>train</td>\n",
              "      <td>qzimuostzz.mp4</td>\n",
              "    </tr>\n",
              "  </tbody>\n",
              "</table>\n",
              "</div>"
            ],
            "text/plain": [
              "               label  split        original\n",
              "aagfhgtpmv.mp4  FAKE  train  vudstovrck.mp4\n",
              "aapnvogymq.mp4  FAKE  train  jdubbvfswz.mp4\n",
              "abarnvbtwb.mp4  REAL  train            None\n",
              "abofeumbvv.mp4  FAKE  train  atvmxvwyns.mp4\n",
              "abqwwspghj.mp4  FAKE  train  qzimuostzz.mp4"
            ]
          },
          "metadata": {
            "tags": []
          },
          "execution_count": 37
        }
      ]
    },
    {
      "cell_type": "code",
      "metadata": {
        "colab_type": "code",
        "outputId": "12aff568-54b8-4a77-ff95-ed8f47a1db49",
        "id": "EVVU2S3oJAId",
        "colab": {
          "base_uri": "https://localhost:8080/",
          "height": 199
        }
      },
      "source": [
        "meta_train_df.tail()"
      ],
      "execution_count": 38,
      "outputs": [
        {
          "output_type": "execute_result",
          "data": {
            "text/html": [
              "<div>\n",
              "<style scoped>\n",
              "    .dataframe tbody tr th:only-of-type {\n",
              "        vertical-align: middle;\n",
              "    }\n",
              "\n",
              "    .dataframe tbody tr th {\n",
              "        vertical-align: top;\n",
              "    }\n",
              "\n",
              "    .dataframe thead th {\n",
              "        text-align: right;\n",
              "    }\n",
              "</style>\n",
              "<table border=\"1\" class=\"dataframe\">\n",
              "  <thead>\n",
              "    <tr style=\"text-align: right;\">\n",
              "      <th></th>\n",
              "      <th>label</th>\n",
              "      <th>split</th>\n",
              "      <th>original</th>\n",
              "    </tr>\n",
              "  </thead>\n",
              "  <tbody>\n",
              "    <tr>\n",
              "      <th>etejaapnxh.mp4</th>\n",
              "      <td>FAKE</td>\n",
              "      <td>train</td>\n",
              "      <td>wtreibcmgm.mp4</td>\n",
              "    </tr>\n",
              "    <tr>\n",
              "      <th>etmcruaihe.mp4</th>\n",
              "      <td>FAKE</td>\n",
              "      <td>train</td>\n",
              "      <td>afoovlsmtx.mp4</td>\n",
              "    </tr>\n",
              "    <tr>\n",
              "      <th>etohcvnzbj.mp4</th>\n",
              "      <td>FAKE</td>\n",
              "      <td>train</td>\n",
              "      <td>bdnaqemxmr.mp4</td>\n",
              "    </tr>\n",
              "    <tr>\n",
              "      <th>eudeqjhdfd.mp4</th>\n",
              "      <td>REAL</td>\n",
              "      <td>train</td>\n",
              "      <td>None</td>\n",
              "    </tr>\n",
              "    <tr>\n",
              "      <th>eukvucdetx.mp4</th>\n",
              "      <td>FAKE</td>\n",
              "      <td>train</td>\n",
              "      <td>gjypopglvi.mp4</td>\n",
              "    </tr>\n",
              "  </tbody>\n",
              "</table>\n",
              "</div>"
            ],
            "text/plain": [
              "               label  split        original\n",
              "etejaapnxh.mp4  FAKE  train  wtreibcmgm.mp4\n",
              "etmcruaihe.mp4  FAKE  train  afoovlsmtx.mp4\n",
              "etohcvnzbj.mp4  FAKE  train  bdnaqemxmr.mp4\n",
              "eudeqjhdfd.mp4  REAL  train            None\n",
              "eukvucdetx.mp4  FAKE  train  gjypopglvi.mp4"
            ]
          },
          "metadata": {
            "tags": []
          },
          "execution_count": 38
        }
      ]
    },
    {
      "cell_type": "markdown",
      "metadata": {
        "id": "5KPn0UAac-Ul",
        "colab_type": "text"
      },
      "source": [
        "## 1.4 Function"
      ]
    },
    {
      "cell_type": "code",
      "metadata": {
        "colab_type": "code",
        "id": "PS2z6sq2ePDt",
        "colab": {}
      },
      "source": [
        "def predict_on_video(video_path, batch_size, input_size):\n",
        "    try:\n",
        "        # Find the faces for N frames in the video.\n",
        "        faces = face_extractor.process_video(video_path)\n",
        "\n",
        "        # Only look at one face per frame.\n",
        "        face_extractor.keep_only_best_face(faces)\n",
        "        \n",
        "        if len(faces) > 0:\n",
        "            # NOTE: When running on the CPU, the batch size must be fixed\n",
        "            # or else memory usage will blow up. (Bug in PyTorch?)\n",
        "            x = np.zeros((batch_size, input_size, input_size, 3), dtype=np.uint8)\n",
        "\n",
        "            # If we found any faces, prepare them for the model.\n",
        "            n = 0\n",
        "            for frame_data in faces:\n",
        "                for face in frame_data[\"faces\"]:\n",
        "                    # Resize to the model's required input size.\n",
        "                    # We keep the aspect ratio intact and add zero\n",
        "                    # padding if necessary.                    \n",
        "                    resized_face = isotropically_resize_image(face, input_size)\n",
        "                    resized_face = make_square_image(resized_face)\n",
        "\n",
        "                    if n < batch_size:\n",
        "                        x[n] = resized_face\n",
        "                        n += 1\n",
        "                    else:\n",
        "                        print(\"WARNING: have %d faces but batch size is %d\" % (n, batch_size))\n",
        "                    \n",
        "                    # Test time augmentation: horizontal flips.\n",
        "                    # TODO: not sure yet if this helps or not\n",
        "                    #x[n] = cv2.flip(resized_face, 1)\n",
        "                    #n += 1\n",
        "\n",
        "            if n > 0:\n",
        "                x = torch.tensor(x, device=gpu).float()\n",
        "\n",
        "                # Preprocess the images.\n",
        "                x = x.permute((0, 3, 1, 2))\n",
        "\n",
        "                for i in range(len(x)):\n",
        "                    x[i] = normalize_transform(x[i] / 255.)\n",
        "\n",
        "                # Make a prediction, then take the average.\n",
        "                with torch.no_grad():\n",
        "                    y_pred = model(x)\n",
        "                    y_pred = torch.sigmoid(y_pred.squeeze())\n",
        "                    return y_pred[:n].mean().item()\n",
        "\n",
        "    except Exception as e:\n",
        "        print(\"Prediction error on video %s: %s\" % (video_path, str(e)))\n",
        "\n",
        "    return 0.5"
      ],
      "execution_count": 0,
      "outputs": []
    },
    {
      "cell_type": "code",
      "metadata": {
        "colab_type": "code",
        "id": "znFMyXSsePDz",
        "colab": {}
      },
      "source": [
        "from concurrent.futures import ThreadPoolExecutor\n",
        "\n",
        "# videos(비디오 리스트)를 받아서 predictions(판정 리스트)를 반환한다.  \n",
        "def predict_on_video_set(videos, num_workers, input_size, video_dir=test_dir):\n",
        "    def process_file(i):\n",
        "        filename = videos[i]\n",
        "        y_pred = predict_on_video(video_path=os.path.join(video_dir, filename), batch_size=frames_per_video, input_size=input_size)\n",
        "        return y_pred\n",
        "\n",
        "    with ThreadPoolExecutor(max_workers=num_workers) as ex:\n",
        "        predictions = ex.map(process_file, range(len(videos)))\n",
        "\n",
        "    return list(predictions)"
      ],
      "execution_count": 0,
      "outputs": []
    },
    {
      "cell_type": "code",
      "metadata": {
        "colab_type": "code",
        "id": "XoV7dkmwl28c",
        "colab": {}
      },
      "source": [
        "# ???\n",
        "\n",
        "frames_per_video = 64\n",
        "\n",
        "video_reader = VideoReader()\n",
        "video_read_fn = lambda x: video_reader.read_frames(x, num_frames=frames_per_video)\n",
        "face_extractor = FaceExtractor(video_read_fn, facedet)"
      ],
      "execution_count": 0,
      "outputs": []
    },
    {
      "cell_type": "code",
      "metadata": {
        "colab_type": "code",
        "id": "RQUbIRqSl28g",
        "colab": {}
      },
      "source": [
        "from torchvision.transforms import Normalize\n",
        "\n",
        "mean = [0.485, 0.456, 0.406]\n",
        "std = [0.229, 0.224, 0.225]\n",
        "normalize_transform = Normalize(mean, std)"
      ],
      "execution_count": 0,
      "outputs": []
    },
    {
      "cell_type": "code",
      "metadata": {
        "colab_type": "code",
        "id": "AJoB6ykml28j",
        "colab": {}
      },
      "source": [
        "def isotropically_resize_image(img, size, resample=cv2.INTER_AREA):\n",
        "    h, w = img.shape[:2]\n",
        "    if w > h:\n",
        "        h = h * size // w\n",
        "        w = size\n",
        "    else:\n",
        "        w = w * size // h\n",
        "        h = size\n",
        "\n",
        "    resized = cv2.resize(img, (w, h), interpolation=resample)\n",
        "    return resized\n",
        "\n",
        "\n",
        "def make_square_image(img):\n",
        "    h, w = img.shape[:2]\n",
        "    size = max(h, w)\n",
        "    t = 0\n",
        "    b = size - h\n",
        "    l = 0\n",
        "    r = size - w\n",
        "    return cv2.copyMakeBorder(img, t, b, l, r, cv2.BORDER_CONSTANT, value=0)"
      ],
      "execution_count": 0,
      "outputs": []
    },
    {
      "cell_type": "markdown",
      "metadata": {
        "id": "PTlwbaqxJ6Eh",
        "colab_type": "text"
      },
      "source": [
        "## 1.5 Scoring (Optional)\n",
        "Submissions are scored on log loss:\n",
        "$$ LogLoss = - \\frac{1}{n} \\sum\\limits_{i=1}^n [y_i \\cdot log_e(\\hat{y_i}) + (1-y_i) \\cdot log_e(1-\\hat{y_i})]  $$\n",
        "where:\n",
        "- $n$ is the number of videos being predicted\n",
        "- $y^i$ is the predicted probability of the video being FAKE\n",
        "- $y_i$ is 1 if the video is FAKE, 0 if REAL\n",
        "- $log()$ is the natural (base e) logarithm\n"
      ]
    },
    {
      "cell_type": "code",
      "metadata": {
        "id": "pUZuzWp9J6Ej",
        "colab_type": "code",
        "outputId": "3bd413f5-61b9-4ad9-f1ab-960c895e5448",
        "colab": {
          "base_uri": "https://localhost:8080/",
          "height": 34
        }
      },
      "source": [
        "# SKLearn Implemention\n",
        "from sklearn.metrics import log_loss\n",
        "log_loss([\"REAL\", \"FAKE\", \"FAKE\", \"REAL\"],\n",
        "         [[.1, .9], [.9, .1], [.8, .2], [.35, .65]])"
      ],
      "execution_count": 44,
      "outputs": [
        {
          "output_type": "execute_result",
          "data": {
            "text/plain": [
              "0.21616187468057912"
            ]
          },
          "metadata": {
            "tags": []
          },
          "execution_count": 44
        }
      ]
    },
    {
      "cell_type": "markdown",
      "metadata": {
        "colab_type": "text",
        "id": "W9MCxC-xb-I-"
      },
      "source": [
        "# 2 Resnext Model"
      ]
    },
    {
      "cell_type": "code",
      "metadata": {
        "id": "A1i-4yZJuatd",
        "colab_type": "code",
        "colab": {}
      },
      "source": [
        "input_size = 224      # Resnext input image size"
      ],
      "execution_count": 0,
      "outputs": []
    },
    {
      "cell_type": "code",
      "metadata": {
        "id": "w9Bxhzcpuatp",
        "colab_type": "code",
        "colab": {}
      },
      "source": [
        "class MyResNeXt(models.resnet.ResNet):\n",
        "    def __init__(self, training=True):\n",
        "        super(MyResNeXt, self).__init__(block=models.resnet.Bottleneck,\n",
        "                                        layers=[3, 4, 6, 3], \n",
        "                                        groups=32, \n",
        "                                        width_per_group=4)\n",
        "        self.fc = nn.Linear(2048, 1)"
      ],
      "execution_count": 0,
      "outputs": []
    },
    {
      "cell_type": "markdown",
      "metadata": {
        "id": "Y2or7UDSnTB3",
        "colab_type": "text"
      },
      "source": [
        "## 2.1 Resnext Model Load"
      ]
    },
    {
      "cell_type": "code",
      "metadata": {
        "id": "VpU-BdDMuatu",
        "colab_type": "code",
        "colab": {}
      },
      "source": [
        "# resnext 모델 load\n",
        "if use_colab == True:\n",
        "  checkpoint = torch.load(work_root_path + \"deepfakes-inference-demo/resnext.pth\", map_location=gpu)\n",
        "\n",
        "# resnext 모델 eval\n",
        "model = MyResNeXt().to(gpu)\n",
        "model.load_state_dict(checkpoint)\n",
        "_ = model.eval()\n",
        "\n",
        "del checkpoint"
      ],
      "execution_count": 0,
      "outputs": []
    },
    {
      "cell_type": "markdown",
      "metadata": {
        "id": "cz5MDLy4N5YN",
        "colab_type": "text"
      },
      "source": [
        "## 2.2 Resnext Prediction"
      ]
    },
    {
      "cell_type": "markdown",
      "metadata": {
        "id": "TnD7NflPnhkY",
        "colab_type": "text"
      },
      "source": [
        "### 2.2.1 Speed Test"
      ]
    },
    {
      "cell_type": "code",
      "metadata": {
        "id": "6cJXNmq5uat2",
        "colab_type": "code",
        "colab": {}
      },
      "source": [
        "speed_test = True #False  # you have to enable this manually"
      ],
      "execution_count": 0,
      "outputs": []
    },
    {
      "cell_type": "code",
      "metadata": {
        "id": "Bo2d2IiTuat6",
        "colab_type": "code",
        "outputId": "31b5dd78-8079-479c-e2b7-5646c8701dfe",
        "colab": {
          "base_uri": "https://localhost:8080/",
          "height": 34
        }
      },
      "source": [
        "if speed_test:\n",
        "    start_time = time.time()\n",
        "    speedtest_videos = test_videos[:5]\n",
        "    predictions = predict_on_video_set(videos=speedtest_videos, num_workers=4, input_size=input_size)\n",
        "    elapsed = time.time() - start_time\n",
        "    print(\"Elapsed %f sec. Average per video: %f sec.\" % (elapsed, elapsed / len(speedtest_videos)))"
      ],
      "execution_count": 49,
      "outputs": [
        {
          "output_type": "stream",
          "text": [
            "Elapsed 16.910994 sec. Average per video: 3.382199 sec.\n"
          ],
          "name": "stdout"
        }
      ]
    },
    {
      "cell_type": "markdown",
      "metadata": {
        "colab_type": "text",
        "id": "aaYB6-KpYV3u"
      },
      "source": [
        "### 2.2.2 Prediction"
      ]
    },
    {
      "cell_type": "code",
      "metadata": {
        "id": "vf6o8nNxYilz",
        "colab_type": "code",
        "outputId": "fac8643c-d7e6-4d80-a6d1-859887abbe8e",
        "colab": {
          "base_uri": "https://localhost:8080/",
          "height": 34
        }
      },
      "source": [
        "now = datetime.datetime.now()\n",
        "print(now)"
      ],
      "execution_count": 50,
      "outputs": [
        {
          "output_type": "stream",
          "text": [
            "2020-03-03 15:20:16.055178\n"
          ],
          "name": "stdout"
        }
      ]
    },
    {
      "cell_type": "code",
      "metadata": {
        "id": "9FQocFreuat-",
        "colab_type": "code",
        "colab": {
          "base_uri": "https://localhost:8080/",
          "height": 34
        },
        "outputId": "575a90b8-71c6-4033-90e4-935368ad52a7"
      },
      "source": [
        "# 총 50분 소요됨\n",
        "start_time = time.time()\n",
        "predictions = predict_on_video_set(videos=test_videos, num_workers=4, input_size=input_size)\n",
        "elapsed = time.time() - start_time\n",
        "print(\"Elapsed %f sec\" % (elapsed))"
      ],
      "execution_count": 51,
      "outputs": [
        {
          "output_type": "stream",
          "text": [
            "Elapsed 1010.989317 sec\n"
          ],
          "name": "stdout"
        }
      ]
    },
    {
      "cell_type": "code",
      "metadata": {
        "id": "A6arLSGCYj3q",
        "colab_type": "code",
        "outputId": "279d5317-a6b6-4bac-9176-fb9fcf118b91",
        "colab": {
          "base_uri": "https://localhost:8080/",
          "height": 34
        }
      },
      "source": [
        "now = datetime.datetime.now()\n",
        "print(now)"
      ],
      "execution_count": 52,
      "outputs": [
        {
          "output_type": "stream",
          "text": [
            "2020-03-03 15:37:20.641620\n"
          ],
          "name": "stdout"
        }
      ]
    },
    {
      "cell_type": "code",
      "metadata": {
        "id": "s8OcmHBJuauB",
        "colab_type": "code",
        "colab": {
          "base_uri": "https://localhost:8080/",
          "height": 386
        },
        "outputId": "99469ec6-3f6b-4f9e-c8a9-3c638d58ea04"
      },
      "source": [
        "output_path = \"/content/gdrive/My Drive/Kaggle/DFDC/deepfake-detection-challenge\"\n",
        "submission_df_resnext = pd.DataFrame({\"filename\": test_videos, \"label\": predictions})\n",
        "if use_colab == True:\n",
        "  submission_df_resnext.to_csv(output_path + \"submission_resnext.csv\", index=False)\n",
        "else:\n",
        "  submission_df_resnext.to_csv(\"submission_resnext.csv\", index=False)"
      ],
      "execution_count": 90,
      "outputs": [
        {
          "output_type": "error",
          "ename": "ValueError",
          "evalue": "ignored",
          "traceback": [
            "\u001b[0;31m---------------------------------------------------------------------------\u001b[0m",
            "\u001b[0;31mValueError\u001b[0m                                Traceback (most recent call last)",
            "\u001b[0;32m<ipython-input-90-bbb166c77eed>\u001b[0m in \u001b[0;36m<module>\u001b[0;34m()\u001b[0m\n\u001b[1;32m      1\u001b[0m \u001b[0moutput_path\u001b[0m \u001b[0;34m=\u001b[0m \u001b[0;34m\"/content/gdrive/My Drive/Kaggle/DFDC/deepfake-detection-challenge\"\u001b[0m\u001b[0;34m\u001b[0m\u001b[0;34m\u001b[0m\u001b[0m\n\u001b[0;32m----> 2\u001b[0;31m \u001b[0msubmission_df_resnext\u001b[0m \u001b[0;34m=\u001b[0m \u001b[0mpd\u001b[0m\u001b[0;34m.\u001b[0m\u001b[0mDataFrame\u001b[0m\u001b[0;34m(\u001b[0m\u001b[0;34m{\u001b[0m\u001b[0;34m\"filename\"\u001b[0m\u001b[0;34m:\u001b[0m \u001b[0mtest_videos\u001b[0m\u001b[0;34m,\u001b[0m \u001b[0;34m\"label\"\u001b[0m\u001b[0;34m:\u001b[0m \u001b[0mpredictions\u001b[0m\u001b[0;34m}\u001b[0m\u001b[0;34m)\u001b[0m\u001b[0;34m\u001b[0m\u001b[0;34m\u001b[0m\u001b[0m\n\u001b[0m\u001b[1;32m      3\u001b[0m \u001b[0;32mif\u001b[0m \u001b[0muse_colab\u001b[0m \u001b[0;34m==\u001b[0m \u001b[0;32mTrue\u001b[0m\u001b[0;34m:\u001b[0m\u001b[0;34m\u001b[0m\u001b[0;34m\u001b[0m\u001b[0m\n\u001b[1;32m      4\u001b[0m   \u001b[0msubmission_df_resnext\u001b[0m\u001b[0;34m.\u001b[0m\u001b[0mto_csv\u001b[0m\u001b[0;34m(\u001b[0m\u001b[0moutput_path\u001b[0m \u001b[0;34m+\u001b[0m \u001b[0;34m\"submission_resnext.csv\"\u001b[0m\u001b[0;34m,\u001b[0m \u001b[0mindex\u001b[0m\u001b[0;34m=\u001b[0m\u001b[0;32mFalse\u001b[0m\u001b[0;34m)\u001b[0m\u001b[0;34m\u001b[0m\u001b[0;34m\u001b[0m\u001b[0m\n\u001b[1;32m      5\u001b[0m \u001b[0;32melse\u001b[0m\u001b[0;34m:\u001b[0m\u001b[0;34m\u001b[0m\u001b[0;34m\u001b[0m\u001b[0m\n",
            "\u001b[0;32m/usr/local/lib/python3.6/dist-packages/pandas/core/frame.py\u001b[0m in \u001b[0;36m__init__\u001b[0;34m(self, data, index, columns, dtype, copy)\u001b[0m\n\u001b[1;32m    409\u001b[0m             )\n\u001b[1;32m    410\u001b[0m         \u001b[0;32melif\u001b[0m \u001b[0misinstance\u001b[0m\u001b[0;34m(\u001b[0m\u001b[0mdata\u001b[0m\u001b[0;34m,\u001b[0m \u001b[0mdict\u001b[0m\u001b[0;34m)\u001b[0m\u001b[0;34m:\u001b[0m\u001b[0;34m\u001b[0m\u001b[0;34m\u001b[0m\u001b[0m\n\u001b[0;32m--> 411\u001b[0;31m             \u001b[0mmgr\u001b[0m \u001b[0;34m=\u001b[0m \u001b[0minit_dict\u001b[0m\u001b[0;34m(\u001b[0m\u001b[0mdata\u001b[0m\u001b[0;34m,\u001b[0m \u001b[0mindex\u001b[0m\u001b[0;34m,\u001b[0m \u001b[0mcolumns\u001b[0m\u001b[0;34m,\u001b[0m \u001b[0mdtype\u001b[0m\u001b[0;34m=\u001b[0m\u001b[0mdtype\u001b[0m\u001b[0;34m)\u001b[0m\u001b[0;34m\u001b[0m\u001b[0;34m\u001b[0m\u001b[0m\n\u001b[0m\u001b[1;32m    412\u001b[0m         \u001b[0;32melif\u001b[0m \u001b[0misinstance\u001b[0m\u001b[0;34m(\u001b[0m\u001b[0mdata\u001b[0m\u001b[0;34m,\u001b[0m \u001b[0mma\u001b[0m\u001b[0;34m.\u001b[0m\u001b[0mMaskedArray\u001b[0m\u001b[0;34m)\u001b[0m\u001b[0;34m:\u001b[0m\u001b[0;34m\u001b[0m\u001b[0;34m\u001b[0m\u001b[0m\n\u001b[1;32m    413\u001b[0m             \u001b[0;32mimport\u001b[0m \u001b[0mnumpy\u001b[0m\u001b[0;34m.\u001b[0m\u001b[0mma\u001b[0m\u001b[0;34m.\u001b[0m\u001b[0mmrecords\u001b[0m \u001b[0;32mas\u001b[0m \u001b[0mmrecords\u001b[0m\u001b[0;34m\u001b[0m\u001b[0;34m\u001b[0m\u001b[0m\n",
            "\u001b[0;32m/usr/local/lib/python3.6/dist-packages/pandas/core/internals/construction.py\u001b[0m in \u001b[0;36minit_dict\u001b[0;34m(data, index, columns, dtype)\u001b[0m\n\u001b[1;32m    255\u001b[0m             \u001b[0marr\u001b[0m \u001b[0;32mif\u001b[0m \u001b[0;32mnot\u001b[0m \u001b[0mis_datetime64tz_dtype\u001b[0m\u001b[0;34m(\u001b[0m\u001b[0marr\u001b[0m\u001b[0;34m)\u001b[0m \u001b[0;32melse\u001b[0m \u001b[0marr\u001b[0m\u001b[0;34m.\u001b[0m\u001b[0mcopy\u001b[0m\u001b[0;34m(\u001b[0m\u001b[0;34m)\u001b[0m \u001b[0;32mfor\u001b[0m \u001b[0marr\u001b[0m \u001b[0;32min\u001b[0m \u001b[0marrays\u001b[0m\u001b[0;34m\u001b[0m\u001b[0;34m\u001b[0m\u001b[0m\n\u001b[1;32m    256\u001b[0m         ]\n\u001b[0;32m--> 257\u001b[0;31m     \u001b[0;32mreturn\u001b[0m \u001b[0marrays_to_mgr\u001b[0m\u001b[0;34m(\u001b[0m\u001b[0marrays\u001b[0m\u001b[0;34m,\u001b[0m \u001b[0mdata_names\u001b[0m\u001b[0;34m,\u001b[0m \u001b[0mindex\u001b[0m\u001b[0;34m,\u001b[0m \u001b[0mcolumns\u001b[0m\u001b[0;34m,\u001b[0m \u001b[0mdtype\u001b[0m\u001b[0;34m=\u001b[0m\u001b[0mdtype\u001b[0m\u001b[0;34m)\u001b[0m\u001b[0;34m\u001b[0m\u001b[0;34m\u001b[0m\u001b[0m\n\u001b[0m\u001b[1;32m    258\u001b[0m \u001b[0;34m\u001b[0m\u001b[0m\n\u001b[1;32m    259\u001b[0m \u001b[0;34m\u001b[0m\u001b[0m\n",
            "\u001b[0;32m/usr/local/lib/python3.6/dist-packages/pandas/core/internals/construction.py\u001b[0m in \u001b[0;36marrays_to_mgr\u001b[0;34m(arrays, arr_names, index, columns, dtype)\u001b[0m\n\u001b[1;32m     75\u001b[0m     \u001b[0;31m# figure out the index, if necessary\u001b[0m\u001b[0;34m\u001b[0m\u001b[0;34m\u001b[0m\u001b[0;34m\u001b[0m\u001b[0m\n\u001b[1;32m     76\u001b[0m     \u001b[0;32mif\u001b[0m \u001b[0mindex\u001b[0m \u001b[0;32mis\u001b[0m \u001b[0;32mNone\u001b[0m\u001b[0;34m:\u001b[0m\u001b[0;34m\u001b[0m\u001b[0;34m\u001b[0m\u001b[0m\n\u001b[0;32m---> 77\u001b[0;31m         \u001b[0mindex\u001b[0m \u001b[0;34m=\u001b[0m \u001b[0mextract_index\u001b[0m\u001b[0;34m(\u001b[0m\u001b[0marrays\u001b[0m\u001b[0;34m)\u001b[0m\u001b[0;34m\u001b[0m\u001b[0;34m\u001b[0m\u001b[0m\n\u001b[0m\u001b[1;32m     78\u001b[0m     \u001b[0;32melse\u001b[0m\u001b[0;34m:\u001b[0m\u001b[0;34m\u001b[0m\u001b[0;34m\u001b[0m\u001b[0m\n\u001b[1;32m     79\u001b[0m         \u001b[0mindex\u001b[0m \u001b[0;34m=\u001b[0m \u001b[0mensure_index\u001b[0m\u001b[0;34m(\u001b[0m\u001b[0mindex\u001b[0m\u001b[0;34m)\u001b[0m\u001b[0;34m\u001b[0m\u001b[0;34m\u001b[0m\u001b[0m\n",
            "\u001b[0;32m/usr/local/lib/python3.6/dist-packages/pandas/core/internals/construction.py\u001b[0m in \u001b[0;36mextract_index\u001b[0;34m(data)\u001b[0m\n\u001b[1;32m    366\u001b[0m             \u001b[0mlengths\u001b[0m \u001b[0;34m=\u001b[0m \u001b[0mlist\u001b[0m\u001b[0;34m(\u001b[0m\u001b[0mset\u001b[0m\u001b[0;34m(\u001b[0m\u001b[0mraw_lengths\u001b[0m\u001b[0;34m)\u001b[0m\u001b[0;34m)\u001b[0m\u001b[0;34m\u001b[0m\u001b[0;34m\u001b[0m\u001b[0m\n\u001b[1;32m    367\u001b[0m             \u001b[0;32mif\u001b[0m \u001b[0mlen\u001b[0m\u001b[0;34m(\u001b[0m\u001b[0mlengths\u001b[0m\u001b[0;34m)\u001b[0m \u001b[0;34m>\u001b[0m \u001b[0;36m1\u001b[0m\u001b[0;34m:\u001b[0m\u001b[0;34m\u001b[0m\u001b[0;34m\u001b[0m\u001b[0m\n\u001b[0;32m--> 368\u001b[0;31m                 \u001b[0;32mraise\u001b[0m \u001b[0mValueError\u001b[0m\u001b[0;34m(\u001b[0m\u001b[0;34m\"arrays must all be same length\"\u001b[0m\u001b[0;34m)\u001b[0m\u001b[0;34m\u001b[0m\u001b[0;34m\u001b[0m\u001b[0m\n\u001b[0m\u001b[1;32m    369\u001b[0m \u001b[0;34m\u001b[0m\u001b[0m\n\u001b[1;32m    370\u001b[0m             \u001b[0;32mif\u001b[0m \u001b[0mhave_dicts\u001b[0m\u001b[0;34m:\u001b[0m\u001b[0;34m\u001b[0m\u001b[0;34m\u001b[0m\u001b[0m\n",
            "\u001b[0;31mValueError\u001b[0m: arrays must all be same length"
          ]
        }
      ]
    },
    {
      "cell_type": "markdown",
      "metadata": {
        "colab_type": "text",
        "id": "rWmdfjvE_r-v"
      },
      "source": [
        "## 2.3 Resnext Prediction using training dataset (Optional)"
      ]
    },
    {
      "cell_type": "markdown",
      "metadata": {
        "id": "67IlWKUS_0pE",
        "colab_type": "text"
      },
      "source": [
        "train dataset 을 사용하여 Resnext prediction 을 실행한 결과를 살펴본다."
      ]
    },
    {
      "cell_type": "markdown",
      "metadata": {
        "colab_type": "text",
        "id": "TLaBsLIl_r-w"
      },
      "source": [
        "### 2.3.1 Speed Test"
      ]
    },
    {
      "cell_type": "code",
      "metadata": {
        "colab_type": "code",
        "id": "h-JGA69-_r-x",
        "colab": {}
      },
      "source": [
        "speed_test = True #False  # you have to enable this manually"
      ],
      "execution_count": 0,
      "outputs": []
    },
    {
      "cell_type": "code",
      "metadata": {
        "colab_type": "code",
        "outputId": "c70d1966-ed66-420d-faae-5c676cd6f2fd",
        "id": "qbKS_wld_r-0",
        "colab": {
          "base_uri": "https://localhost:8080/",
          "height": 34
        }
      },
      "source": [
        "if speed_test:\n",
        "    # train dataset 사용\n",
        "    start_time = time.time()\n",
        "    speedtest_videos = train_videos[:5]   # train_videos 를 사용\n",
        "    predictions = predict_on_video_set(videos=speedtest_videos, num_workers=4, input_size=input_size, video_dir=train_dir)   # train_dir 를 사용\n",
        "    elapsed = time.time() - start_time\n",
        "    print(\"Elapsed %f sec. Average per video: %f sec.\" % (elapsed, elapsed / len(speedtest_videos)))"
      ],
      "execution_count": 55,
      "outputs": [
        {
          "output_type": "stream",
          "text": [
            "Elapsed 17.084027 sec. Average per video: 3.416805 sec.\n"
          ],
          "name": "stdout"
        }
      ]
    },
    {
      "cell_type": "markdown",
      "metadata": {
        "colab_type": "text",
        "id": "ZZ9pTWu2_r-5"
      },
      "source": [
        "### 2.3.2 Prediction"
      ]
    },
    {
      "cell_type": "code",
      "metadata": {
        "colab_type": "code",
        "outputId": "5fb5abd0-5e3d-4364-8bf5-81b2061219a4",
        "id": "3Hf_wKKz_r-6",
        "colab": {
          "base_uri": "https://localhost:8080/",
          "height": 34
        }
      },
      "source": [
        "now = datetime.datetime.now()\n",
        "print(now)"
      ],
      "execution_count": 56,
      "outputs": [
        {
          "output_type": "stream",
          "text": [
            "2020-03-03 15:37:40.534243\n"
          ],
          "name": "stdout"
        }
      ]
    },
    {
      "cell_type": "code",
      "metadata": {
        "colab_type": "code",
        "id": "pgjf0JIM_r-9",
        "outputId": "7e329ad2-9c0e-4ba2-c205-28b2bed11d67",
        "colab": {
          "base_uri": "https://localhost:8080/",
          "height": 34
        }
      },
      "source": [
        "# 총 13분 소요됨\n",
        "start_time = time.time()\n",
        "# train dataset 사용\n",
        "predictions_resnext_train = predict_on_video_set(videos=train_videos, num_workers=4, input_size=input_size, video_dir=train_dir)   # train_dir 를 사용\n",
        "elapsed = time.time() - start_time\n",
        "print(\"Elapsed %f sec\" % (elapsed))"
      ],
      "execution_count": 57,
      "outputs": [
        {
          "output_type": "stream",
          "text": [
            "Elapsed 861.114383 sec\n"
          ],
          "name": "stdout"
        }
      ]
    },
    {
      "cell_type": "code",
      "metadata": {
        "colab_type": "code",
        "outputId": "fd238a80-567b-4256-f9db-507c2c63c683",
        "id": "yCZVuwmD_r_A",
        "colab": {
          "base_uri": "https://localhost:8080/",
          "height": 34
        }
      },
      "source": [
        "now = datetime.datetime.now()\n",
        "print(now)"
      ],
      "execution_count": 58,
      "outputs": [
        {
          "output_type": "stream",
          "text": [
            "2020-03-03 15:52:01.667904\n"
          ],
          "name": "stdout"
        }
      ]
    },
    {
      "cell_type": "code",
      "metadata": {
        "colab_type": "code",
        "id": "MRuAebl8_r_E",
        "colab": {}
      },
      "source": [
        "submission_df_resnext_train = pd.DataFrame({\"filename\": train_videos, \"label\": predictions_resnext_train})\n",
        "if use_colab == True:\n",
        "  submission_df_resnext_train.to_csv(output_path + \"submission_resnext_train.csv\", index=False)\n",
        "else:\n",
        "  submission_df_resnext_train.to_csv(\"submission_resnext_train.csv\", index=False)"
      ],
      "execution_count": 0,
      "outputs": []
    },
    {
      "cell_type": "markdown",
      "metadata": {
        "id": "kTKlVCmTuauD",
        "colab_type": "text"
      },
      "source": [
        "# 3 Xception Net"
      ]
    },
    {
      "cell_type": "code",
      "metadata": {
        "id": "-TGoWMKeuauU",
        "colab_type": "code",
        "colab": {}
      },
      "source": [
        "input_size = 150      # Xception input image size"
      ],
      "execution_count": 0,
      "outputs": []
    },
    {
      "cell_type": "code",
      "metadata": {
        "id": "8eTSzKf9uauc",
        "colab_type": "code",
        "outputId": "8635ffd2-d88f-4798-86fa-9093204ed462",
        "colab": {
          "base_uri": "https://localhost:8080/",
          "height": 34
        }
      },
      "source": [
        "if use_colab == True:\n",
        "  !ls ./Kaggle/DFDC/deepfake-xception-trained-model\n",
        "else:\n",
        "  !ls ../Kaggle/DFDC/deepfake-xception-trained-model"
      ],
      "execution_count": 61,
      "outputs": [
        {
          "output_type": "stream",
          "text": [
            "model_v3.pth  pytorchcv-0.0.55-py2.py3-none-any.whl\n"
          ],
          "name": "stdout"
        }
      ]
    },
    {
      "cell_type": "code",
      "metadata": {
        "id": "9TmIjFfNuauf",
        "colab_type": "code",
        "colab": {}
      },
      "source": [
        "from pytorchcv.model_provider import get_model\n",
        "model = get_model(\"xception\", pretrained=False)\n",
        "model = nn.Sequential(*list(model.children())[:-1]) # Remove original output layer\n",
        "\n",
        "class Pooling(nn.Module):\n",
        "  def __init__(self):\n",
        "    super(Pooling, self).__init__()\n",
        "    \n",
        "    self.p1 = nn.AdaptiveAvgPool2d((1,1))\n",
        "    self.p2 = nn.AdaptiveMaxPool2d((1,1))\n",
        "\n",
        "  def forward(self, x):\n",
        "    x1 = self.p1(x)\n",
        "    x2 = self.p2(x)\n",
        "    return (x1+x2) * 0.5\n",
        "\n",
        "model[0].final_block.pool = nn.Sequential(nn.AdaptiveAvgPool2d((1,1)))\n",
        "\n",
        "class Head(torch.nn.Module):\n",
        "  def __init__(self, in_f, out_f):\n",
        "    super(Head, self).__init__()\n",
        "    \n",
        "    self.f = nn.Flatten()\n",
        "    self.l = nn.Linear(in_f, 512)\n",
        "    self.d = nn.Dropout(0.5)\n",
        "    self.o = nn.Linear(512, out_f)\n",
        "    self.b1 = nn.BatchNorm1d(in_f)\n",
        "    self.b2 = nn.BatchNorm1d(512)\n",
        "    self.r = nn.ReLU()\n",
        "\n",
        "  def forward(self, x):\n",
        "    x = self.f(x)\n",
        "    x = self.b1(x)\n",
        "    x = self.d(x)\n",
        "\n",
        "    x = self.l(x)\n",
        "    x = self.r(x)\n",
        "    x = self.b2(x)\n",
        "    x = self.d(x)\n",
        "\n",
        "    out = self.o(x)\n",
        "    return out\n",
        "\n",
        "class FCN(torch.nn.Module):\n",
        "  def __init__(self, base, in_f):\n",
        "    super(FCN, self).__init__()\n",
        "    self.base = base\n",
        "    self.h1 = Head(in_f, 1)\n",
        "  \n",
        "  def forward(self, x):\n",
        "    x = self.base(x)\n",
        "    return self.h1(x)"
      ],
      "execution_count": 0,
      "outputs": []
    },
    {
      "cell_type": "markdown",
      "metadata": {
        "id": "-AmLlarcU_M1",
        "colab_type": "text"
      },
      "source": [
        "## 3.1 Xception Model Load"
      ]
    },
    {
      "cell_type": "code",
      "metadata": {
        "id": "ZLF8LndsS9i6",
        "colab_type": "code",
        "colab": {}
      },
      "source": [
        "# 이 부분은 GPU 사용하지 않으면 실행시간이 오래 걸림\n",
        "net = []\n",
        "model = FCN(model, 2048)\n",
        "model = model.cuda()\n",
        "if use_colab == True:\n",
        "  model.load_state_dict(torch.load(work_root_path + 'deepfake-xception-trained-model/model_v3.pth')) # new, updated\n",
        "else:\n",
        "  model.load_state_dict(torch.load('../deepfake-xception-trained-model/model_v3.pth')) # new, updated\n",
        "net.append(model)"
      ],
      "execution_count": 0,
      "outputs": []
    },
    {
      "cell_type": "code",
      "metadata": {
        "id": "E8gFZ1S7XFey",
        "colab_type": "code",
        "outputId": "aed8fdbe-9194-44d3-f9ed-92f233a98d26",
        "colab": {
          "base_uri": "https://localhost:8080/",
          "height": 1000
        }
      },
      "source": [
        "model.eval()"
      ],
      "execution_count": 64,
      "outputs": [
        {
          "output_type": "execute_result",
          "data": {
            "text/plain": [
              "FCN(\n",
              "  (base): Sequential(\n",
              "    (0): Sequential(\n",
              "      (init_block): XceptionInitBlock(\n",
              "        (conv1): ConvBlock(\n",
              "          (conv): Conv2d(3, 32, kernel_size=(3, 3), stride=(2, 2), bias=False)\n",
              "          (bn): BatchNorm2d(32, eps=1e-05, momentum=0.1, affine=True, track_running_stats=True)\n",
              "          (activ): ReLU(inplace=True)\n",
              "        )\n",
              "        (conv2): ConvBlock(\n",
              "          (conv): Conv2d(32, 64, kernel_size=(3, 3), stride=(1, 1), bias=False)\n",
              "          (bn): BatchNorm2d(64, eps=1e-05, momentum=0.1, affine=True, track_running_stats=True)\n",
              "          (activ): ReLU(inplace=True)\n",
              "        )\n",
              "      )\n",
              "      (stage1): Sequential(\n",
              "        (unit1): XceptionUnit(\n",
              "          (identity_conv): ConvBlock(\n",
              "            (conv): Conv2d(64, 128, kernel_size=(1, 1), stride=(2, 2), bias=False)\n",
              "            (bn): BatchNorm2d(128, eps=1e-05, momentum=0.1, affine=True, track_running_stats=True)\n",
              "          )\n",
              "          (body): Sequential(\n",
              "            (block1): DwsConvBlock(\n",
              "              (conv): DwsConv(\n",
              "                (dw_conv): Conv2d(64, 64, kernel_size=(3, 3), stride=(1, 1), padding=(1, 1), groups=64, bias=False)\n",
              "                (pw_conv): Conv2d(64, 128, kernel_size=(1, 1), stride=(1, 1), bias=False)\n",
              "              )\n",
              "              (bn): BatchNorm2d(128, eps=1e-05, momentum=0.1, affine=True, track_running_stats=True)\n",
              "            )\n",
              "            (block2): DwsConvBlock(\n",
              "              (activ): ReLU()\n",
              "              (conv): DwsConv(\n",
              "                (dw_conv): Conv2d(128, 128, kernel_size=(3, 3), stride=(1, 1), padding=(1, 1), groups=128, bias=False)\n",
              "                (pw_conv): Conv2d(128, 128, kernel_size=(1, 1), stride=(1, 1), bias=False)\n",
              "              )\n",
              "              (bn): BatchNorm2d(128, eps=1e-05, momentum=0.1, affine=True, track_running_stats=True)\n",
              "            )\n",
              "            (pool): MaxPool2d(kernel_size=3, stride=2, padding=1, dilation=1, ceil_mode=False)\n",
              "          )\n",
              "        )\n",
              "      )\n",
              "      (stage2): Sequential(\n",
              "        (unit1): XceptionUnit(\n",
              "          (identity_conv): ConvBlock(\n",
              "            (conv): Conv2d(128, 256, kernel_size=(1, 1), stride=(2, 2), bias=False)\n",
              "            (bn): BatchNorm2d(256, eps=1e-05, momentum=0.1, affine=True, track_running_stats=True)\n",
              "          )\n",
              "          (body): Sequential(\n",
              "            (block1): DwsConvBlock(\n",
              "              (activ): ReLU()\n",
              "              (conv): DwsConv(\n",
              "                (dw_conv): Conv2d(128, 128, kernel_size=(3, 3), stride=(1, 1), padding=(1, 1), groups=128, bias=False)\n",
              "                (pw_conv): Conv2d(128, 256, kernel_size=(1, 1), stride=(1, 1), bias=False)\n",
              "              )\n",
              "              (bn): BatchNorm2d(256, eps=1e-05, momentum=0.1, affine=True, track_running_stats=True)\n",
              "            )\n",
              "            (block2): DwsConvBlock(\n",
              "              (activ): ReLU()\n",
              "              (conv): DwsConv(\n",
              "                (dw_conv): Conv2d(256, 256, kernel_size=(3, 3), stride=(1, 1), padding=(1, 1), groups=256, bias=False)\n",
              "                (pw_conv): Conv2d(256, 256, kernel_size=(1, 1), stride=(1, 1), bias=False)\n",
              "              )\n",
              "              (bn): BatchNorm2d(256, eps=1e-05, momentum=0.1, affine=True, track_running_stats=True)\n",
              "            )\n",
              "            (pool): MaxPool2d(kernel_size=3, stride=2, padding=1, dilation=1, ceil_mode=False)\n",
              "          )\n",
              "        )\n",
              "      )\n",
              "      (stage3): Sequential(\n",
              "        (unit1): XceptionUnit(\n",
              "          (identity_conv): ConvBlock(\n",
              "            (conv): Conv2d(256, 728, kernel_size=(1, 1), stride=(2, 2), bias=False)\n",
              "            (bn): BatchNorm2d(728, eps=1e-05, momentum=0.1, affine=True, track_running_stats=True)\n",
              "          )\n",
              "          (body): Sequential(\n",
              "            (block1): DwsConvBlock(\n",
              "              (activ): ReLU()\n",
              "              (conv): DwsConv(\n",
              "                (dw_conv): Conv2d(256, 256, kernel_size=(3, 3), stride=(1, 1), padding=(1, 1), groups=256, bias=False)\n",
              "                (pw_conv): Conv2d(256, 728, kernel_size=(1, 1), stride=(1, 1), bias=False)\n",
              "              )\n",
              "              (bn): BatchNorm2d(728, eps=1e-05, momentum=0.1, affine=True, track_running_stats=True)\n",
              "            )\n",
              "            (block2): DwsConvBlock(\n",
              "              (activ): ReLU()\n",
              "              (conv): DwsConv(\n",
              "                (dw_conv): Conv2d(728, 728, kernel_size=(3, 3), stride=(1, 1), padding=(1, 1), groups=728, bias=False)\n",
              "                (pw_conv): Conv2d(728, 728, kernel_size=(1, 1), stride=(1, 1), bias=False)\n",
              "              )\n",
              "              (bn): BatchNorm2d(728, eps=1e-05, momentum=0.1, affine=True, track_running_stats=True)\n",
              "            )\n",
              "            (pool): MaxPool2d(kernel_size=3, stride=2, padding=1, dilation=1, ceil_mode=False)\n",
              "          )\n",
              "        )\n",
              "        (unit2): XceptionUnit(\n",
              "          (body): Sequential(\n",
              "            (block1): DwsConvBlock(\n",
              "              (activ): ReLU()\n",
              "              (conv): DwsConv(\n",
              "                (dw_conv): Conv2d(728, 728, kernel_size=(3, 3), stride=(1, 1), padding=(1, 1), groups=728, bias=False)\n",
              "                (pw_conv): Conv2d(728, 728, kernel_size=(1, 1), stride=(1, 1), bias=False)\n",
              "              )\n",
              "              (bn): BatchNorm2d(728, eps=1e-05, momentum=0.1, affine=True, track_running_stats=True)\n",
              "            )\n",
              "            (block2): DwsConvBlock(\n",
              "              (activ): ReLU()\n",
              "              (conv): DwsConv(\n",
              "                (dw_conv): Conv2d(728, 728, kernel_size=(3, 3), stride=(1, 1), padding=(1, 1), groups=728, bias=False)\n",
              "                (pw_conv): Conv2d(728, 728, kernel_size=(1, 1), stride=(1, 1), bias=False)\n",
              "              )\n",
              "              (bn): BatchNorm2d(728, eps=1e-05, momentum=0.1, affine=True, track_running_stats=True)\n",
              "            )\n",
              "            (block3): DwsConvBlock(\n",
              "              (activ): ReLU()\n",
              "              (conv): DwsConv(\n",
              "                (dw_conv): Conv2d(728, 728, kernel_size=(3, 3), stride=(1, 1), padding=(1, 1), groups=728, bias=False)\n",
              "                (pw_conv): Conv2d(728, 728, kernel_size=(1, 1), stride=(1, 1), bias=False)\n",
              "              )\n",
              "              (bn): BatchNorm2d(728, eps=1e-05, momentum=0.1, affine=True, track_running_stats=True)\n",
              "            )\n",
              "          )\n",
              "        )\n",
              "        (unit3): XceptionUnit(\n",
              "          (body): Sequential(\n",
              "            (block1): DwsConvBlock(\n",
              "              (activ): ReLU()\n",
              "              (conv): DwsConv(\n",
              "                (dw_conv): Conv2d(728, 728, kernel_size=(3, 3), stride=(1, 1), padding=(1, 1), groups=728, bias=False)\n",
              "                (pw_conv): Conv2d(728, 728, kernel_size=(1, 1), stride=(1, 1), bias=False)\n",
              "              )\n",
              "              (bn): BatchNorm2d(728, eps=1e-05, momentum=0.1, affine=True, track_running_stats=True)\n",
              "            )\n",
              "            (block2): DwsConvBlock(\n",
              "              (activ): ReLU()\n",
              "              (conv): DwsConv(\n",
              "                (dw_conv): Conv2d(728, 728, kernel_size=(3, 3), stride=(1, 1), padding=(1, 1), groups=728, bias=False)\n",
              "                (pw_conv): Conv2d(728, 728, kernel_size=(1, 1), stride=(1, 1), bias=False)\n",
              "              )\n",
              "              (bn): BatchNorm2d(728, eps=1e-05, momentum=0.1, affine=True, track_running_stats=True)\n",
              "            )\n",
              "            (block3): DwsConvBlock(\n",
              "              (activ): ReLU()\n",
              "              (conv): DwsConv(\n",
              "                (dw_conv): Conv2d(728, 728, kernel_size=(3, 3), stride=(1, 1), padding=(1, 1), groups=728, bias=False)\n",
              "                (pw_conv): Conv2d(728, 728, kernel_size=(1, 1), stride=(1, 1), bias=False)\n",
              "              )\n",
              "              (bn): BatchNorm2d(728, eps=1e-05, momentum=0.1, affine=True, track_running_stats=True)\n",
              "            )\n",
              "          )\n",
              "        )\n",
              "        (unit4): XceptionUnit(\n",
              "          (body): Sequential(\n",
              "            (block1): DwsConvBlock(\n",
              "              (activ): ReLU()\n",
              "              (conv): DwsConv(\n",
              "                (dw_conv): Conv2d(728, 728, kernel_size=(3, 3), stride=(1, 1), padding=(1, 1), groups=728, bias=False)\n",
              "                (pw_conv): Conv2d(728, 728, kernel_size=(1, 1), stride=(1, 1), bias=False)\n",
              "              )\n",
              "              (bn): BatchNorm2d(728, eps=1e-05, momentum=0.1, affine=True, track_running_stats=True)\n",
              "            )\n",
              "            (block2): DwsConvBlock(\n",
              "              (activ): ReLU()\n",
              "              (conv): DwsConv(\n",
              "                (dw_conv): Conv2d(728, 728, kernel_size=(3, 3), stride=(1, 1), padding=(1, 1), groups=728, bias=False)\n",
              "                (pw_conv): Conv2d(728, 728, kernel_size=(1, 1), stride=(1, 1), bias=False)\n",
              "              )\n",
              "              (bn): BatchNorm2d(728, eps=1e-05, momentum=0.1, affine=True, track_running_stats=True)\n",
              "            )\n",
              "            (block3): DwsConvBlock(\n",
              "              (activ): ReLU()\n",
              "              (conv): DwsConv(\n",
              "                (dw_conv): Conv2d(728, 728, kernel_size=(3, 3), stride=(1, 1), padding=(1, 1), groups=728, bias=False)\n",
              "                (pw_conv): Conv2d(728, 728, kernel_size=(1, 1), stride=(1, 1), bias=False)\n",
              "              )\n",
              "              (bn): BatchNorm2d(728, eps=1e-05, momentum=0.1, affine=True, track_running_stats=True)\n",
              "            )\n",
              "          )\n",
              "        )\n",
              "        (unit5): XceptionUnit(\n",
              "          (body): Sequential(\n",
              "            (block1): DwsConvBlock(\n",
              "              (activ): ReLU()\n",
              "              (conv): DwsConv(\n",
              "                (dw_conv): Conv2d(728, 728, kernel_size=(3, 3), stride=(1, 1), padding=(1, 1), groups=728, bias=False)\n",
              "                (pw_conv): Conv2d(728, 728, kernel_size=(1, 1), stride=(1, 1), bias=False)\n",
              "              )\n",
              "              (bn): BatchNorm2d(728, eps=1e-05, momentum=0.1, affine=True, track_running_stats=True)\n",
              "            )\n",
              "            (block2): DwsConvBlock(\n",
              "              (activ): ReLU()\n",
              "              (conv): DwsConv(\n",
              "                (dw_conv): Conv2d(728, 728, kernel_size=(3, 3), stride=(1, 1), padding=(1, 1), groups=728, bias=False)\n",
              "                (pw_conv): Conv2d(728, 728, kernel_size=(1, 1), stride=(1, 1), bias=False)\n",
              "              )\n",
              "              (bn): BatchNorm2d(728, eps=1e-05, momentum=0.1, affine=True, track_running_stats=True)\n",
              "            )\n",
              "            (block3): DwsConvBlock(\n",
              "              (activ): ReLU()\n",
              "              (conv): DwsConv(\n",
              "                (dw_conv): Conv2d(728, 728, kernel_size=(3, 3), stride=(1, 1), padding=(1, 1), groups=728, bias=False)\n",
              "                (pw_conv): Conv2d(728, 728, kernel_size=(1, 1), stride=(1, 1), bias=False)\n",
              "              )\n",
              "              (bn): BatchNorm2d(728, eps=1e-05, momentum=0.1, affine=True, track_running_stats=True)\n",
              "            )\n",
              "          )\n",
              "        )\n",
              "        (unit6): XceptionUnit(\n",
              "          (body): Sequential(\n",
              "            (block1): DwsConvBlock(\n",
              "              (activ): ReLU()\n",
              "              (conv): DwsConv(\n",
              "                (dw_conv): Conv2d(728, 728, kernel_size=(3, 3), stride=(1, 1), padding=(1, 1), groups=728, bias=False)\n",
              "                (pw_conv): Conv2d(728, 728, kernel_size=(1, 1), stride=(1, 1), bias=False)\n",
              "              )\n",
              "              (bn): BatchNorm2d(728, eps=1e-05, momentum=0.1, affine=True, track_running_stats=True)\n",
              "            )\n",
              "            (block2): DwsConvBlock(\n",
              "              (activ): ReLU()\n",
              "              (conv): DwsConv(\n",
              "                (dw_conv): Conv2d(728, 728, kernel_size=(3, 3), stride=(1, 1), padding=(1, 1), groups=728, bias=False)\n",
              "                (pw_conv): Conv2d(728, 728, kernel_size=(1, 1), stride=(1, 1), bias=False)\n",
              "              )\n",
              "              (bn): BatchNorm2d(728, eps=1e-05, momentum=0.1, affine=True, track_running_stats=True)\n",
              "            )\n",
              "            (block3): DwsConvBlock(\n",
              "              (activ): ReLU()\n",
              "              (conv): DwsConv(\n",
              "                (dw_conv): Conv2d(728, 728, kernel_size=(3, 3), stride=(1, 1), padding=(1, 1), groups=728, bias=False)\n",
              "                (pw_conv): Conv2d(728, 728, kernel_size=(1, 1), stride=(1, 1), bias=False)\n",
              "              )\n",
              "              (bn): BatchNorm2d(728, eps=1e-05, momentum=0.1, affine=True, track_running_stats=True)\n",
              "            )\n",
              "          )\n",
              "        )\n",
              "        (unit7): XceptionUnit(\n",
              "          (body): Sequential(\n",
              "            (block1): DwsConvBlock(\n",
              "              (activ): ReLU()\n",
              "              (conv): DwsConv(\n",
              "                (dw_conv): Conv2d(728, 728, kernel_size=(3, 3), stride=(1, 1), padding=(1, 1), groups=728, bias=False)\n",
              "                (pw_conv): Conv2d(728, 728, kernel_size=(1, 1), stride=(1, 1), bias=False)\n",
              "              )\n",
              "              (bn): BatchNorm2d(728, eps=1e-05, momentum=0.1, affine=True, track_running_stats=True)\n",
              "            )\n",
              "            (block2): DwsConvBlock(\n",
              "              (activ): ReLU()\n",
              "              (conv): DwsConv(\n",
              "                (dw_conv): Conv2d(728, 728, kernel_size=(3, 3), stride=(1, 1), padding=(1, 1), groups=728, bias=False)\n",
              "                (pw_conv): Conv2d(728, 728, kernel_size=(1, 1), stride=(1, 1), bias=False)\n",
              "              )\n",
              "              (bn): BatchNorm2d(728, eps=1e-05, momentum=0.1, affine=True, track_running_stats=True)\n",
              "            )\n",
              "            (block3): DwsConvBlock(\n",
              "              (activ): ReLU()\n",
              "              (conv): DwsConv(\n",
              "                (dw_conv): Conv2d(728, 728, kernel_size=(3, 3), stride=(1, 1), padding=(1, 1), groups=728, bias=False)\n",
              "                (pw_conv): Conv2d(728, 728, kernel_size=(1, 1), stride=(1, 1), bias=False)\n",
              "              )\n",
              "              (bn): BatchNorm2d(728, eps=1e-05, momentum=0.1, affine=True, track_running_stats=True)\n",
              "            )\n",
              "          )\n",
              "        )\n",
              "        (unit8): XceptionUnit(\n",
              "          (body): Sequential(\n",
              "            (block1): DwsConvBlock(\n",
              "              (activ): ReLU()\n",
              "              (conv): DwsConv(\n",
              "                (dw_conv): Conv2d(728, 728, kernel_size=(3, 3), stride=(1, 1), padding=(1, 1), groups=728, bias=False)\n",
              "                (pw_conv): Conv2d(728, 728, kernel_size=(1, 1), stride=(1, 1), bias=False)\n",
              "              )\n",
              "              (bn): BatchNorm2d(728, eps=1e-05, momentum=0.1, affine=True, track_running_stats=True)\n",
              "            )\n",
              "            (block2): DwsConvBlock(\n",
              "              (activ): ReLU()\n",
              "              (conv): DwsConv(\n",
              "                (dw_conv): Conv2d(728, 728, kernel_size=(3, 3), stride=(1, 1), padding=(1, 1), groups=728, bias=False)\n",
              "                (pw_conv): Conv2d(728, 728, kernel_size=(1, 1), stride=(1, 1), bias=False)\n",
              "              )\n",
              "              (bn): BatchNorm2d(728, eps=1e-05, momentum=0.1, affine=True, track_running_stats=True)\n",
              "            )\n",
              "            (block3): DwsConvBlock(\n",
              "              (activ): ReLU()\n",
              "              (conv): DwsConv(\n",
              "                (dw_conv): Conv2d(728, 728, kernel_size=(3, 3), stride=(1, 1), padding=(1, 1), groups=728, bias=False)\n",
              "                (pw_conv): Conv2d(728, 728, kernel_size=(1, 1), stride=(1, 1), bias=False)\n",
              "              )\n",
              "              (bn): BatchNorm2d(728, eps=1e-05, momentum=0.1, affine=True, track_running_stats=True)\n",
              "            )\n",
              "          )\n",
              "        )\n",
              "        (unit9): XceptionUnit(\n",
              "          (body): Sequential(\n",
              "            (block1): DwsConvBlock(\n",
              "              (activ): ReLU()\n",
              "              (conv): DwsConv(\n",
              "                (dw_conv): Conv2d(728, 728, kernel_size=(3, 3), stride=(1, 1), padding=(1, 1), groups=728, bias=False)\n",
              "                (pw_conv): Conv2d(728, 728, kernel_size=(1, 1), stride=(1, 1), bias=False)\n",
              "              )\n",
              "              (bn): BatchNorm2d(728, eps=1e-05, momentum=0.1, affine=True, track_running_stats=True)\n",
              "            )\n",
              "            (block2): DwsConvBlock(\n",
              "              (activ): ReLU()\n",
              "              (conv): DwsConv(\n",
              "                (dw_conv): Conv2d(728, 728, kernel_size=(3, 3), stride=(1, 1), padding=(1, 1), groups=728, bias=False)\n",
              "                (pw_conv): Conv2d(728, 728, kernel_size=(1, 1), stride=(1, 1), bias=False)\n",
              "              )\n",
              "              (bn): BatchNorm2d(728, eps=1e-05, momentum=0.1, affine=True, track_running_stats=True)\n",
              "            )\n",
              "            (block3): DwsConvBlock(\n",
              "              (activ): ReLU()\n",
              "              (conv): DwsConv(\n",
              "                (dw_conv): Conv2d(728, 728, kernel_size=(3, 3), stride=(1, 1), padding=(1, 1), groups=728, bias=False)\n",
              "                (pw_conv): Conv2d(728, 728, kernel_size=(1, 1), stride=(1, 1), bias=False)\n",
              "              )\n",
              "              (bn): BatchNorm2d(728, eps=1e-05, momentum=0.1, affine=True, track_running_stats=True)\n",
              "            )\n",
              "          )\n",
              "        )\n",
              "      )\n",
              "      (stage4): Sequential(\n",
              "        (unit1): XceptionUnit(\n",
              "          (identity_conv): ConvBlock(\n",
              "            (conv): Conv2d(728, 1024, kernel_size=(1, 1), stride=(2, 2), bias=False)\n",
              "            (bn): BatchNorm2d(1024, eps=1e-05, momentum=0.1, affine=True, track_running_stats=True)\n",
              "          )\n",
              "          (body): Sequential(\n",
              "            (block1): DwsConvBlock(\n",
              "              (activ): ReLU()\n",
              "              (conv): DwsConv(\n",
              "                (dw_conv): Conv2d(728, 728, kernel_size=(3, 3), stride=(1, 1), padding=(1, 1), groups=728, bias=False)\n",
              "                (pw_conv): Conv2d(728, 728, kernel_size=(1, 1), stride=(1, 1), bias=False)\n",
              "              )\n",
              "              (bn): BatchNorm2d(728, eps=1e-05, momentum=0.1, affine=True, track_running_stats=True)\n",
              "            )\n",
              "            (block2): DwsConvBlock(\n",
              "              (activ): ReLU()\n",
              "              (conv): DwsConv(\n",
              "                (dw_conv): Conv2d(728, 728, kernel_size=(3, 3), stride=(1, 1), padding=(1, 1), groups=728, bias=False)\n",
              "                (pw_conv): Conv2d(728, 1024, kernel_size=(1, 1), stride=(1, 1), bias=False)\n",
              "              )\n",
              "              (bn): BatchNorm2d(1024, eps=1e-05, momentum=0.1, affine=True, track_running_stats=True)\n",
              "            )\n",
              "            (pool): MaxPool2d(kernel_size=3, stride=2, padding=1, dilation=1, ceil_mode=False)\n",
              "          )\n",
              "        )\n",
              "      )\n",
              "      (final_block): XceptionFinalBlock(\n",
              "        (conv1): DwsConvBlock(\n",
              "          (conv): DwsConv(\n",
              "            (dw_conv): Conv2d(1024, 1024, kernel_size=(3, 3), stride=(1, 1), padding=(1, 1), groups=1024, bias=False)\n",
              "            (pw_conv): Conv2d(1024, 1536, kernel_size=(1, 1), stride=(1, 1), bias=False)\n",
              "          )\n",
              "          (bn): BatchNorm2d(1536, eps=1e-05, momentum=0.1, affine=True, track_running_stats=True)\n",
              "        )\n",
              "        (conv2): DwsConvBlock(\n",
              "          (activ): ReLU()\n",
              "          (conv): DwsConv(\n",
              "            (dw_conv): Conv2d(1536, 1536, kernel_size=(3, 3), stride=(1, 1), padding=(1, 1), groups=1536, bias=False)\n",
              "            (pw_conv): Conv2d(1536, 2048, kernel_size=(1, 1), stride=(1, 1), bias=False)\n",
              "          )\n",
              "          (bn): BatchNorm2d(2048, eps=1e-05, momentum=0.1, affine=True, track_running_stats=True)\n",
              "        )\n",
              "        (activ): ReLU(inplace=True)\n",
              "        (pool): Sequential(\n",
              "          (0): AdaptiveAvgPool2d(output_size=(1, 1))\n",
              "        )\n",
              "      )\n",
              "    )\n",
              "  )\n",
              "  (h1): Head(\n",
              "    (f): Flatten()\n",
              "    (l): Linear(in_features=2048, out_features=512, bias=True)\n",
              "    (d): Dropout(p=0.5, inplace=False)\n",
              "    (o): Linear(in_features=512, out_features=1, bias=True)\n",
              "    (b1): BatchNorm1d(2048, eps=1e-05, momentum=0.1, affine=True, track_running_stats=True)\n",
              "    (b2): BatchNorm1d(512, eps=1e-05, momentum=0.1, affine=True, track_running_stats=True)\n",
              "    (r): ReLU()\n",
              "  )\n",
              ")"
            ]
          },
          "metadata": {
            "tags": []
          },
          "execution_count": 64
        }
      ]
    },
    {
      "cell_type": "markdown",
      "metadata": {
        "id": "x0jmL4I4WX-V",
        "colab_type": "text"
      },
      "source": [
        "## 3.2 Xception Net Prediction"
      ]
    },
    {
      "cell_type": "markdown",
      "metadata": {
        "id": "zG3s7PzYuauh",
        "colab_type": "text"
      },
      "source": [
        "### 3.2.1 Speed Test"
      ]
    },
    {
      "cell_type": "code",
      "metadata": {
        "id": "hOxBJjukuaup",
        "colab_type": "code",
        "colab": {}
      },
      "source": [
        "speed_test = True  #False"
      ],
      "execution_count": 0,
      "outputs": []
    },
    {
      "cell_type": "code",
      "metadata": {
        "id": "83frBLhTuaus",
        "colab_type": "code",
        "outputId": "a438fad0-4fbd-4a83-89e8-b69b7d4d353f",
        "colab": {
          "base_uri": "https://localhost:8080/",
          "height": 34
        }
      },
      "source": [
        "if speed_test:\n",
        "    start_time = time.time()\n",
        "    speedtest_videos = test_videos[:5]\n",
        "    predictions = predict_on_video_set(videos=speedtest_videos, num_workers=4, input_size=input_size)\n",
        "    elapsed = time.time() - start_time\n",
        "    print(\"Elapsed %f sec. Average per video: %f sec.\" % (elapsed, elapsed / len(speedtest_videos)))"
      ],
      "execution_count": 66,
      "outputs": [
        {
          "output_type": "stream",
          "text": [
            "Elapsed 16.558909 sec. Average per video: 3.311782 sec.\n"
          ],
          "name": "stdout"
        }
      ]
    },
    {
      "cell_type": "markdown",
      "metadata": {
        "colab_type": "text",
        "id": "Ht3NYSXrZF6j"
      },
      "source": [
        "### 3.2.2 Prediction"
      ]
    },
    {
      "cell_type": "code",
      "metadata": {
        "id": "KKx_piAYuauu",
        "colab_type": "code",
        "outputId": "612ca34a-be31-4681-b789-8ae33b2ba092",
        "colab": {
          "base_uri": "https://localhost:8080/",
          "height": 70
        }
      },
      "source": [
        "# 총 12분 소요됨\n",
        "%%time\n",
        "start_time = time.time()\n",
        "predictions = predict_on_video_set(videos=test_videos, num_workers=4, input_size=input_size)\n",
        "elapsed = time.time() - start_time\n",
        "print(\"Elapsed %f sec\" % (elapsed))"
      ],
      "execution_count": 67,
      "outputs": [
        {
          "output_type": "stream",
          "text": [
            "Elapsed 939.187826 sec\n",
            "CPU times: user 58min 47s, sys: 1min 9s, total: 59min 56s\n",
            "Wall time: 15min 39s\n"
          ],
          "name": "stdout"
        }
      ]
    },
    {
      "cell_type": "code",
      "metadata": {
        "id": "W71l0x9Puauz",
        "colab_type": "code",
        "colab": {}
      },
      "source": [
        "submission_df_xception = pd.DataFrame({\"filename\": test_videos, \"label\": predictions})\n",
        "if use_colab == True:\n",
        "  submission_df_xception.to_csv(output_path + \"submission_xception.csv\", index=False)\n",
        "else:\n",
        "  submission_df_xception.to_csv(\"submission_xception.csv\", index=False)"
      ],
      "execution_count": 0,
      "outputs": []
    },
    {
      "cell_type": "markdown",
      "metadata": {
        "colab_type": "text",
        "id": "lxHdpSSVFY7L"
      },
      "source": [
        "## 3.3 Xception Prediction using training dataset (Optional)"
      ]
    },
    {
      "cell_type": "markdown",
      "metadata": {
        "colab_type": "text",
        "id": "jUZ7vItkFY7O"
      },
      "source": [
        "train dataset 을 사용하여 Xception prediction 을 실행한 결과를 살펴본다."
      ]
    },
    {
      "cell_type": "markdown",
      "metadata": {
        "colab_type": "text",
        "id": "F0gPjnImFY7P"
      },
      "source": [
        "### 3.3.1 Speed Test"
      ]
    },
    {
      "cell_type": "code",
      "metadata": {
        "colab_type": "code",
        "id": "juhuTF9YFY7Q",
        "colab": {}
      },
      "source": [
        "speed_test = True #False  # you have to enable this manually"
      ],
      "execution_count": 0,
      "outputs": []
    },
    {
      "cell_type": "code",
      "metadata": {
        "colab_type": "code",
        "outputId": "3d0974f3-6075-4343-d5e4-2dca05278da3",
        "id": "HW8_NXSUFY7U",
        "colab": {
          "base_uri": "https://localhost:8080/",
          "height": 34
        }
      },
      "source": [
        "if speed_test:\n",
        "    # train dataset 사용\n",
        "    start_time = time.time()\n",
        "    speedtest_videos = train_videos[:5]   # train_videos 를 사용\n",
        "    predictions = predict_on_video_set(videos=speedtest_videos, num_workers=4, input_size=input_size, video_dir=train_dir)   # train_dir 를 사용\n",
        "    elapsed = time.time() - start_time\n",
        "    print(\"Elapsed %f sec. Average per video: %f sec.\" % (elapsed, elapsed / len(speedtest_videos)))"
      ],
      "execution_count": 70,
      "outputs": [
        {
          "output_type": "stream",
          "text": [
            "Elapsed 13.041793 sec. Average per video: 2.608359 sec.\n"
          ],
          "name": "stdout"
        }
      ]
    },
    {
      "cell_type": "markdown",
      "metadata": {
        "colab_type": "text",
        "id": "tPSJX4ZRFY7Z"
      },
      "source": [
        "### 3.3.2 Prediction"
      ]
    },
    {
      "cell_type": "code",
      "metadata": {
        "colab_type": "code",
        "outputId": "b79c8539-bbb8-46c2-a8ed-05e600827cdc",
        "id": "DdkA7jL3FY7a",
        "colab": {
          "base_uri": "https://localhost:8080/",
          "height": 34
        }
      },
      "source": [
        "now = datetime.datetime.now()\n",
        "print(now)"
      ],
      "execution_count": 71,
      "outputs": [
        {
          "output_type": "stream",
          "text": [
            "2020-03-03 16:08:17.700156\n"
          ],
          "name": "stdout"
        }
      ]
    },
    {
      "cell_type": "code",
      "metadata": {
        "colab_type": "code",
        "id": "6b0MD2WBFY7d",
        "outputId": "08c011ef-dcf9-4d6b-bd6a-470000cbd6f2",
        "colab": {
          "base_uri": "https://localhost:8080/",
          "height": 34
        }
      },
      "source": [
        "# 총 12분 소요됨\n",
        "start_time = time.time()\n",
        "# train dataset 사용\n",
        "predictions_xception_train = predict_on_video_set(videos=train_videos, num_workers=4, input_size=input_size, video_dir=train_dir)   # train_dir 를 사용\n",
        "elapsed = time.time() - start_time\n",
        "print(\"Elapsed %f sec\" % (elapsed))"
      ],
      "execution_count": 72,
      "outputs": [
        {
          "output_type": "stream",
          "text": [
            "Elapsed 809.107173 sec\n"
          ],
          "name": "stdout"
        }
      ]
    },
    {
      "cell_type": "code",
      "metadata": {
        "colab_type": "code",
        "id": "QLEkX9k_FY7f",
        "outputId": "b3757f6b-a8d4-4318-c156-5aedb94fd67c",
        "colab": {
          "base_uri": "https://localhost:8080/",
          "height": 34
        }
      },
      "source": [
        "now = datetime.datetime.now()\n",
        "print(now)"
      ],
      "execution_count": 73,
      "outputs": [
        {
          "output_type": "stream",
          "text": [
            "2020-03-03 16:21:46.828952\n"
          ],
          "name": "stdout"
        }
      ]
    },
    {
      "cell_type": "code",
      "metadata": {
        "colab_type": "code",
        "id": "EnHW7sMQFY7i",
        "colab": {}
      },
      "source": [
        "submission_df_xception_train = pd.DataFrame({\"filename\": train_videos, \"label\": predictions_xception_train})\n",
        "if use_colab == True:\n",
        "  submission_df_xception_train.to_csv(output_path + \"submission_xception_train.csv\", index=False)\n",
        "else:\n",
        "  submission_df_xception_train.to_csv(\"submission_xception_train.csv\", index=False)"
      ],
      "execution_count": 0,
      "outputs": []
    },
    {
      "cell_type": "markdown",
      "metadata": {
        "id": "GQdn-2jOuau9",
        "colab_type": "text"
      },
      "source": [
        "# 4 Ensemble of Resnext and Xception"
      ]
    },
    {
      "cell_type": "code",
      "metadata": {
        "id": "Z_JknA4kuau1",
        "colab_type": "code",
        "outputId": "683939e8-bfe6-42ad-cfd8-b97c1b311ede",
        "colab": {
          "base_uri": "https://localhost:8080/",
          "height": 199
        }
      },
      "source": [
        "submission_df_resnext.head()"
      ],
      "execution_count": 75,
      "outputs": [
        {
          "output_type": "execute_result",
          "data": {
            "text/html": [
              "<div>\n",
              "<style scoped>\n",
              "    .dataframe tbody tr th:only-of-type {\n",
              "        vertical-align: middle;\n",
              "    }\n",
              "\n",
              "    .dataframe tbody tr th {\n",
              "        vertical-align: top;\n",
              "    }\n",
              "\n",
              "    .dataframe thead th {\n",
              "        text-align: right;\n",
              "    }\n",
              "</style>\n",
              "<table border=\"1\" class=\"dataframe\">\n",
              "  <thead>\n",
              "    <tr style=\"text-align: right;\">\n",
              "      <th></th>\n",
              "      <th>filename</th>\n",
              "      <th>label</th>\n",
              "    </tr>\n",
              "  </thead>\n",
              "  <tbody>\n",
              "    <tr>\n",
              "      <th>0</th>\n",
              "      <td>aassnaulhq.mp4</td>\n",
              "      <td>0.514175</td>\n",
              "    </tr>\n",
              "    <tr>\n",
              "      <th>1</th>\n",
              "      <td>aayfryxljh.mp4</td>\n",
              "      <td>0.004443</td>\n",
              "    </tr>\n",
              "    <tr>\n",
              "      <th>2</th>\n",
              "      <td>acazlolrpz.mp4</td>\n",
              "      <td>0.725788</td>\n",
              "    </tr>\n",
              "    <tr>\n",
              "      <th>3</th>\n",
              "      <td>adohdulfwb.mp4</td>\n",
              "      <td>0.060911</td>\n",
              "    </tr>\n",
              "    <tr>\n",
              "      <th>4</th>\n",
              "      <td>ahjnxtiamx.mp4</td>\n",
              "      <td>0.880215</td>\n",
              "    </tr>\n",
              "  </tbody>\n",
              "</table>\n",
              "</div>"
            ],
            "text/plain": [
              "         filename     label\n",
              "0  aassnaulhq.mp4  0.514175\n",
              "1  aayfryxljh.mp4  0.004443\n",
              "2  acazlolrpz.mp4  0.725788\n",
              "3  adohdulfwb.mp4  0.060911\n",
              "4  ahjnxtiamx.mp4  0.880215"
            ]
          },
          "metadata": {
            "tags": []
          },
          "execution_count": 75
        }
      ]
    },
    {
      "cell_type": "code",
      "metadata": {
        "id": "dnvDvmXXuau5",
        "colab_type": "code",
        "outputId": "16f1008b-6900-42f8-c3f8-7db35d4526be",
        "colab": {
          "base_uri": "https://localhost:8080/",
          "height": 199
        }
      },
      "source": [
        "submission_df_xception.head()"
      ],
      "execution_count": 76,
      "outputs": [
        {
          "output_type": "execute_result",
          "data": {
            "text/html": [
              "<div>\n",
              "<style scoped>\n",
              "    .dataframe tbody tr th:only-of-type {\n",
              "        vertical-align: middle;\n",
              "    }\n",
              "\n",
              "    .dataframe tbody tr th {\n",
              "        vertical-align: top;\n",
              "    }\n",
              "\n",
              "    .dataframe thead th {\n",
              "        text-align: right;\n",
              "    }\n",
              "</style>\n",
              "<table border=\"1\" class=\"dataframe\">\n",
              "  <thead>\n",
              "    <tr style=\"text-align: right;\">\n",
              "      <th></th>\n",
              "      <th>filename</th>\n",
              "      <th>label</th>\n",
              "    </tr>\n",
              "  </thead>\n",
              "  <tbody>\n",
              "    <tr>\n",
              "      <th>0</th>\n",
              "      <td>aassnaulhq.mp4</td>\n",
              "      <td>0.968780</td>\n",
              "    </tr>\n",
              "    <tr>\n",
              "      <th>1</th>\n",
              "      <td>aayfryxljh.mp4</td>\n",
              "      <td>0.029839</td>\n",
              "    </tr>\n",
              "    <tr>\n",
              "      <th>2</th>\n",
              "      <td>acazlolrpz.mp4</td>\n",
              "      <td>0.893236</td>\n",
              "    </tr>\n",
              "    <tr>\n",
              "      <th>3</th>\n",
              "      <td>adohdulfwb.mp4</td>\n",
              "      <td>0.025322</td>\n",
              "    </tr>\n",
              "    <tr>\n",
              "      <th>4</th>\n",
              "      <td>ahjnxtiamx.mp4</td>\n",
              "      <td>0.681630</td>\n",
              "    </tr>\n",
              "  </tbody>\n",
              "</table>\n",
              "</div>"
            ],
            "text/plain": [
              "         filename     label\n",
              "0  aassnaulhq.mp4  0.968780\n",
              "1  aayfryxljh.mp4  0.029839\n",
              "2  acazlolrpz.mp4  0.893236\n",
              "3  adohdulfwb.mp4  0.025322\n",
              "4  ahjnxtiamx.mp4  0.681630"
            ]
          },
          "metadata": {
            "tags": []
          },
          "execution_count": 76
        }
      ]
    },
    {
      "cell_type": "code",
      "metadata": {
        "id": "z2ieQINluau-",
        "colab_type": "code",
        "colab": {}
      },
      "source": [
        "submission_df = pd.DataFrame({\"filename\": test_videos})"
      ],
      "execution_count": 0,
      "outputs": []
    },
    {
      "cell_type": "code",
      "metadata": {
        "id": "kcCgn6aluavA",
        "colab_type": "code",
        "colab": {}
      },
      "source": [
        "r1 = 0.46441\n",
        "r2 = 0.52189\n",
        "total = r1 + r2\n",
        "r11 = r1/total\n",
        "r22 = r2/total"
      ],
      "execution_count": 0,
      "outputs": []
    },
    {
      "cell_type": "code",
      "metadata": {
        "id": "keIgswk1uavD",
        "colab_type": "code",
        "colab": {}
      },
      "source": [
        "submission_df[\"label\"] = r22*submission_df_resnext[\"label\"] + r11*submission_df_xception[\"label\"]"
      ],
      "execution_count": 0,
      "outputs": []
    },
    {
      "cell_type": "code",
      "metadata": {
        "id": "6cTNho8cuavH",
        "colab_type": "code",
        "colab": {}
      },
      "source": [
        "if use_colab == True:\n",
        "  submission_df.to_csv(output_path + \"submission.csv\", index=False)\n",
        "else:\n",
        "  submission_df.to_csv(\"submission.csv\", index=False)"
      ],
      "execution_count": 0,
      "outputs": []
    },
    {
      "cell_type": "markdown",
      "metadata": {
        "id": "6stLgMM06axQ",
        "colab_type": "text"
      },
      "source": [
        "# 5 Result Analysis"
      ]
    },
    {
      "cell_type": "markdown",
      "metadata": {
        "colab_type": "text",
        "id": "46_G2kvw9ABq"
      },
      "source": [
        "## 5.1 Analysis Train Prediction"
      ]
    },
    {
      "cell_type": "markdown",
      "metadata": {
        "colab_type": "text",
        "id": "-3jOpw5UVxFQ"
      },
      "source": [
        "train dataset 을 사용하여 prediction 한 것의 label 값의 범위, 분포 및 Score 를 살펴본다."
      ]
    },
    {
      "cell_type": "code",
      "metadata": {
        "colab_type": "code",
        "id": "izLRD5byMiyR",
        "colab": {}
      },
      "source": [
        "submission_df_resnext_train = pd.read_csv(output_path+'submission_resnext_train.csv')\n",
        "submission_df_xception_train = pd.read_csv(output_path+'submission_xception_train.csv')"
      ],
      "execution_count": 0,
      "outputs": []
    },
    {
      "cell_type": "markdown",
      "metadata": {
        "colab_type": "text",
        "id": "FGPdZs8hYycV"
      },
      "source": [
        "### 5.1.1 Range label for train prediction"
      ]
    },
    {
      "cell_type": "code",
      "metadata": {
        "colab_type": "code",
        "outputId": "3aa53459-efff-48c9-b35d-9b27950e7549",
        "id": "ZnsdhtoTYycY",
        "colab": {
          "base_uri": "https://localhost:8080/",
          "height": 34
        }
      },
      "source": [
        "print(submission_df_resnext_train['label'].min(), submission_df_resnext_train['label'].max()) "
      ],
      "execution_count": 81,
      "outputs": [
        {
          "output_type": "stream",
          "text": [
            "0.004831023979932071 1.0\n"
          ],
          "name": "stdout"
        }
      ]
    },
    {
      "cell_type": "code",
      "metadata": {
        "colab_type": "code",
        "outputId": "c9503059-087a-4500-d69b-5b63dfc5a62c",
        "id": "Y1S6S0GgYycd",
        "colab": {
          "base_uri": "https://localhost:8080/",
          "height": 34
        }
      },
      "source": [
        "print(submission_df_xception_train['label'].min(), submission_df_xception_train['label'].max()) "
      ],
      "execution_count": 82,
      "outputs": [
        {
          "output_type": "stream",
          "text": [
            "0.0007320130243897437 0.9999048709869384\n"
          ],
          "name": "stdout"
        }
      ]
    },
    {
      "cell_type": "markdown",
      "metadata": {
        "colab_type": "text",
        "id": "ZD0Fr-qeSqC3"
      },
      "source": [
        "### 5.1.2 Plot for train prediction"
      ]
    },
    {
      "cell_type": "code",
      "metadata": {
        "colab_type": "code",
        "outputId": "a6474608-86b4-4a86-e908-fbdf94e30b6e",
        "id": "A1srmMQfgWfP",
        "colab": {
          "base_uri": "https://localhost:8080/",
          "height": 351
        }
      },
      "source": [
        "plt.figure(figsize=(10, 5))\n",
        "sns.distplot(submission_df_resnext_train.label, bins=20)"
      ],
      "execution_count": 83,
      "outputs": [
        {
          "output_type": "execute_result",
          "data": {
            "text/plain": [
              "<matplotlib.axes._subplots.AxesSubplot at 0x7f006a09eb00>"
            ]
          },
          "metadata": {
            "tags": []
          },
          "execution_count": 83
        },
        {
          "output_type": "display_data",
          "data": {
            "image/png": "[encoded data removed]",
            "text/plain": [
              "<Figure size 720x360 with 1 Axes>"
            ]
          },
          "metadata": {
            "tags": []
          }
        }
      ]
    },
    {
      "cell_type": "code",
      "metadata": {
        "colab_type": "code",
        "outputId": "2c983f56-813f-428c-e95e-ff8f0cbae447",
        "id": "klZH0yxXge8I",
        "colab": {
          "base_uri": "https://localhost:8080/",
          "height": 351
        }
      },
      "source": [
        "plt.figure(figsize=(10, 5))\n",
        "sns.distplot(submission_df_xception_train.label, bins=20)"
      ],
      "execution_count": 84,
      "outputs": [
        {
          "output_type": "execute_result",
          "data": {
            "text/plain": [
              "<matplotlib.axes._subplots.AxesSubplot at 0x7f00623fcba8>"
            ]
          },
          "metadata": {
            "tags": []
          },
          "execution_count": 84
        },
        {
          "output_type": "display_data",
          "data": {
            "image/png": "[encoded data removed]",
            "text/plain": [
              "<Figure size 720x360 with 1 Axes>"
            ]
          },
          "metadata": {
            "tags": []
          }
        }
      ]
    },
    {
      "cell_type": "markdown",
      "metadata": {
        "colab_type": "text",
        "id": "9f9gJEoqSjQD"
      },
      "source": [
        "### 5.1.3 Score (log loss) for train prediction"
      ]
    },
    {
      "cell_type": "code",
      "metadata": {
        "id": "oROZcOzAS6yd",
        "colab_type": "code",
        "colab": {}
      },
      "source": [
        "df_resnext_train = submission_df_resnext_train\n",
        "df_resnext_train['real_label'] = 1 - df_resnext_train['label']"
      ],
      "execution_count": 0,
      "outputs": []
    },
    {
      "cell_type": "code",
      "metadata": {
        "id": "NmXnl-mTUBvN",
        "colab_type": "code",
        "outputId": "fdfb2ddf-7b1c-41b8-93c6-656734cd1d3e",
        "colab": {
          "base_uri": "https://localhost:8080/",
          "height": 316
        }
      },
      "source": [
        "log_loss(meta_train_df['label'], df_resnext_train[['label','real_label']])"
      ],
      "execution_count": 87,
      "outputs": [
        {
          "output_type": "error",
          "ename": "ValueError",
          "evalue": "ignored",
          "traceback": [
            "\u001b[0;31m---------------------------------------------------------------------------\u001b[0m",
            "\u001b[0;31mValueError\u001b[0m                                Traceback (most recent call last)",
            "\u001b[0;32m<ipython-input-87-1350b277ed06>\u001b[0m in \u001b[0;36m<module>\u001b[0;34m()\u001b[0m\n\u001b[0;32m----> 1\u001b[0;31m \u001b[0mlog_loss\u001b[0m\u001b[0;34m(\u001b[0m\u001b[0mmeta_train_df\u001b[0m\u001b[0;34m[\u001b[0m\u001b[0;34m'label'\u001b[0m\u001b[0;34m]\u001b[0m\u001b[0;34m,\u001b[0m \u001b[0mdf_resnext_train\u001b[0m\u001b[0;34m[\u001b[0m\u001b[0;34m[\u001b[0m\u001b[0;34m'label'\u001b[0m\u001b[0;34m,\u001b[0m\u001b[0;34m'real_label'\u001b[0m\u001b[0;34m]\u001b[0m\u001b[0;34m]\u001b[0m\u001b[0;34m)\u001b[0m\u001b[0;34m\u001b[0m\u001b[0;34m\u001b[0m\u001b[0m\n\u001b[0m",
            "\u001b[0;32m/usr/local/lib/python3.6/dist-packages/sklearn/metrics/_classification.py\u001b[0m in \u001b[0;36mlog_loss\u001b[0;34m(y_true, y_pred, eps, normalize, sample_weight, labels)\u001b[0m\n\u001b[1;32m   2240\u001b[0m     \"\"\"\n\u001b[1;32m   2241\u001b[0m     \u001b[0my_pred\u001b[0m \u001b[0;34m=\u001b[0m \u001b[0mcheck_array\u001b[0m\u001b[0;34m(\u001b[0m\u001b[0my_pred\u001b[0m\u001b[0;34m,\u001b[0m \u001b[0mensure_2d\u001b[0m\u001b[0;34m=\u001b[0m\u001b[0;32mFalse\u001b[0m\u001b[0;34m)\u001b[0m\u001b[0;34m\u001b[0m\u001b[0;34m\u001b[0m\u001b[0m\n\u001b[0;32m-> 2242\u001b[0;31m     \u001b[0mcheck_consistent_length\u001b[0m\u001b[0;34m(\u001b[0m\u001b[0my_pred\u001b[0m\u001b[0;34m,\u001b[0m \u001b[0my_true\u001b[0m\u001b[0;34m,\u001b[0m \u001b[0msample_weight\u001b[0m\u001b[0;34m)\u001b[0m\u001b[0;34m\u001b[0m\u001b[0;34m\u001b[0m\u001b[0m\n\u001b[0m\u001b[1;32m   2243\u001b[0m \u001b[0;34m\u001b[0m\u001b[0m\n\u001b[1;32m   2244\u001b[0m     \u001b[0mlb\u001b[0m \u001b[0;34m=\u001b[0m \u001b[0mLabelBinarizer\u001b[0m\u001b[0;34m(\u001b[0m\u001b[0;34m)\u001b[0m\u001b[0;34m\u001b[0m\u001b[0;34m\u001b[0m\u001b[0m\n",
            "\u001b[0;32m/usr/local/lib/python3.6/dist-packages/sklearn/utils/validation.py\u001b[0m in \u001b[0;36mcheck_consistent_length\u001b[0;34m(*arrays)\u001b[0m\n\u001b[1;32m    210\u001b[0m     \u001b[0;32mif\u001b[0m \u001b[0mlen\u001b[0m\u001b[0;34m(\u001b[0m\u001b[0muniques\u001b[0m\u001b[0;34m)\u001b[0m \u001b[0;34m>\u001b[0m \u001b[0;36m1\u001b[0m\u001b[0;34m:\u001b[0m\u001b[0;34m\u001b[0m\u001b[0;34m\u001b[0m\u001b[0m\n\u001b[1;32m    211\u001b[0m         raise ValueError(\"Found input variables with inconsistent numbers of\"\n\u001b[0;32m--> 212\u001b[0;31m                          \" samples: %r\" % [int(l) for l in lengths])\n\u001b[0m\u001b[1;32m    213\u001b[0m \u001b[0;34m\u001b[0m\u001b[0m\n\u001b[1;32m    214\u001b[0m \u001b[0;34m\u001b[0m\u001b[0m\n",
            "\u001b[0;31mValueError\u001b[0m: Found input variables with inconsistent numbers of samples: [356, 400]"
          ]
        }
      ]
    },
    {
      "cell_type": "code",
      "metadata": {
        "colab_type": "code",
        "id": "8STFQadZVAFq",
        "colab": {}
      },
      "source": [
        "df_xception_train = submission_df_xception_train\n",
        "df_xception_train['real_label'] = 1 - df_xception_train['label']"
      ],
      "execution_count": 0,
      "outputs": []
    },
    {
      "cell_type": "code",
      "metadata": {
        "colab_type": "code",
        "id": "74kYqhlkVAFv",
        "colab": {}
      },
      "source": [
        "log_loss(meta_train_df['label'], df_xception_train[['label','real_label']])"
      ],
      "execution_count": 0,
      "outputs": []
    },
    {
      "cell_type": "markdown",
      "metadata": {
        "colab_type": "text",
        "id": "WoXdoyRbW251"
      },
      "source": [
        "## 5.2 Analysis Submission"
      ]
    },
    {
      "cell_type": "markdown",
      "metadata": {
        "colab_type": "text",
        "id": "X-i4y_emZu0z"
      },
      "source": [
        "test dataset 을 사용하여 prediction 한 것(submission)의 label 값의 범위, 분포 를 살펴본다."
      ]
    },
    {
      "cell_type": "code",
      "metadata": {
        "id": "_R2kmqhrbTVv",
        "colab_type": "code",
        "colab": {}
      },
      "source": [
        "submission_df_resnext = pd.read_csv(output_path+'submission_resnext.csv')\n",
        "submission_df_xception = pd.read_csv(output_path+'submission_xception.csv')\n",
        "submission_df = pd.read_csv(output_path+'submission.csv')"
      ],
      "execution_count": 0,
      "outputs": []
    },
    {
      "cell_type": "markdown",
      "metadata": {
        "colab_type": "text",
        "id": "MvgvVKzzXF65"
      },
      "source": [
        "### 5.2.1 Range label for Submission"
      ]
    },
    {
      "cell_type": "code",
      "metadata": {
        "id": "f62NnvVaYJVE",
        "colab_type": "code",
        "colab": {}
      },
      "source": [
        "print(submission_df_resnext['label'].min(), submission_df_resnext['label'].max()) "
      ],
      "execution_count": 0,
      "outputs": []
    },
    {
      "cell_type": "code",
      "metadata": {
        "id": "JX5WnuJqYUO5",
        "colab_type": "code",
        "colab": {}
      },
      "source": [
        "print(submission_df_xception['label'].min(), submission_df_xception['label'].max()) "
      ],
      "execution_count": 0,
      "outputs": []
    },
    {
      "cell_type": "code",
      "metadata": {
        "id": "l3y43VUIYY4g",
        "colab_type": "code",
        "colab": {}
      },
      "source": [
        "print(submission_df['label'].min(), submission_df['label'].max()) "
      ],
      "execution_count": 0,
      "outputs": []
    },
    {
      "cell_type": "markdown",
      "metadata": {
        "id": "7nEjTnZ93dgm",
        "colab_type": "text"
      },
      "source": [
        "### 5.2.2 Plot for Submission"
      ]
    },
    {
      "cell_type": "markdown",
      "metadata": {
        "colab_type": "text",
        "id": "6q9y2DE5V-TI"
      },
      "source": [
        "상황 : \n",
        "* test dataset 을 사용하여 prediction 한 경우 Resnext 와 Xception 의 분포에 차이가 많다.\n",
        "* Xception 의 경우 train 과 test 의 분포가 유사하다.\n",
        "\n",
        "의문 :\n",
        "* 어떤 분포가 맞는지 판단할 방법이 있는가?\n",
        "* Ensemble 조합하는 계수를 어떻게 결정할 것인가?"
      ]
    },
    {
      "cell_type": "code",
      "metadata": {
        "id": "LRuO6pBGfAnQ",
        "colab_type": "code",
        "colab": {}
      },
      "source": [
        "plt.figure(figsize=(10, 5))\n",
        "sns.distplot(submission_df_resnext.label, bins=20)"
      ],
      "execution_count": 0,
      "outputs": []
    },
    {
      "cell_type": "code",
      "metadata": {
        "colab_type": "code",
        "id": "69X9jvejfmqM",
        "colab": {}
      },
      "source": [
        "plt.figure(figsize=(10, 5))\n",
        "sns.distplot(submission_df_xception.label, bins=20)"
      ],
      "execution_count": 0,
      "outputs": []
    },
    {
      "cell_type": "code",
      "metadata": {
        "colab_type": "code",
        "id": "PbctNk8FgMuY",
        "colab": {}
      },
      "source": [
        "plt.figure(figsize=(10, 5))\n",
        "sns.distplot(submission_df.label, bins=20)"
      ],
      "execution_count": 0,
      "outputs": []
    },
    {
      "cell_type": "code",
      "metadata": {
        "id": "Bm_seIwL5Xkf",
        "colab_type": "code",
        "colab": {}
      },
      "source": [
        ""
      ],
      "execution_count": 0,
      "outputs": []
    }
  ]
}