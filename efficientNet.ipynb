{
  "nbformat": 4,
  "nbformat_minor": 0,
  "metadata": {
    "colab": {
      "name": "efficientNet.ipynb",
      "provenance": [],
      "collapsed_sections": [],
      "toc_visible": true,
      "include_colab_link": true
    },
    "kernelspec": {
      "name": "python3",
      "display_name": "Python 3"
    },
    "accelerator": "GPU",
    "widgets": {
      "application/vnd.jupyter.widget-state+json": {
        "45afdddb36fb4f2596d257d3d4e9b945": {
          "model_module": "@jupyter-widgets/controls",
          "model_name": "HBoxModel",
          "state": {
            "_view_name": "HBoxView",
            "_dom_classes": [],
            "_model_name": "HBoxModel",
            "_view_module": "@jupyter-widgets/controls",
            "_model_module_version": "1.5.0",
            "_view_count": null,
            "_view_module_version": "1.5.0",
            "box_style": "",
            "layout": "IPY_MODEL_045c390a09f94649aeaf2ca1159b4d18",
            "_model_module": "@jupyter-widgets/controls",
            "children": [
              "IPY_MODEL_e2fa001a8d954f06bb9d3c2315ec87d6",
              "IPY_MODEL_deee13f61d134bdbbae82645d5b0cb63"
            ]
          }
        },
        "045c390a09f94649aeaf2ca1159b4d18": {
          "model_module": "@jupyter-widgets/base",
          "model_name": "LayoutModel",
          "state": {
            "_view_name": "LayoutView",
            "grid_template_rows": null,
            "right": null,
            "justify_content": null,
            "_view_module": "@jupyter-widgets/base",
            "overflow": null,
            "_model_module_version": "1.2.0",
            "_view_count": null,
            "flex_flow": null,
            "width": null,
            "min_width": null,
            "border": null,
            "align_items": null,
            "bottom": null,
            "_model_module": "@jupyter-widgets/base",
            "top": null,
            "grid_column": null,
            "overflow_y": null,
            "overflow_x": null,
            "grid_auto_flow": null,
            "grid_area": null,
            "grid_template_columns": null,
            "flex": null,
            "_model_name": "LayoutModel",
            "justify_items": null,
            "grid_row": null,
            "max_height": null,
            "align_content": null,
            "visibility": null,
            "align_self": null,
            "height": null,
            "min_height": null,
            "padding": null,
            "grid_auto_rows": null,
            "grid_gap": null,
            "max_width": null,
            "order": null,
            "_view_module_version": "1.2.0",
            "grid_template_areas": null,
            "object_position": null,
            "object_fit": null,
            "grid_auto_columns": null,
            "margin": null,
            "display": null,
            "left": null
          }
        },
        "e2fa001a8d954f06bb9d3c2315ec87d6": {
          "model_module": "@jupyter-widgets/controls",
          "model_name": "IntProgressModel",
          "state": {
            "_view_name": "ProgressView",
            "style": "IPY_MODEL_bb7b21650c214324b6b9884a898c1366",
            "_dom_classes": [],
            "description": "100%",
            "_model_name": "IntProgressModel",
            "bar_style": "success",
            "max": 266860719,
            "_view_module": "@jupyter-widgets/controls",
            "_model_module_version": "1.5.0",
            "value": 266860719,
            "_view_count": null,
            "_view_module_version": "1.5.0",
            "orientation": "horizontal",
            "min": 0,
            "description_tooltip": null,
            "_model_module": "@jupyter-widgets/controls",
            "layout": "IPY_MODEL_259de476f2944f10bf2c660ee7d6c429"
          }
        },
        "deee13f61d134bdbbae82645d5b0cb63": {
          "model_module": "@jupyter-widgets/controls",
          "model_name": "HTMLModel",
          "state": {
            "_view_name": "HTMLView",
            "style": "IPY_MODEL_e987a2036af04339b3fe33d6f0a3cc26",
            "_dom_classes": [],
            "description": "",
            "_model_name": "HTMLModel",
            "placeholder": "​",
            "_view_module": "@jupyter-widgets/controls",
            "_model_module_version": "1.5.0",
            "value": " 254M/254M [00:08&lt;00:00, 33.2MB/s]",
            "_view_count": null,
            "_view_module_version": "1.5.0",
            "description_tooltip": null,
            "_model_module": "@jupyter-widgets/controls",
            "layout": "IPY_MODEL_c56d22e65de149659841e50a47064b72"
          }
        },
        "bb7b21650c214324b6b9884a898c1366": {
          "model_module": "@jupyter-widgets/controls",
          "model_name": "ProgressStyleModel",
          "state": {
            "_view_name": "StyleView",
            "_model_name": "ProgressStyleModel",
            "description_width": "initial",
            "_view_module": "@jupyter-widgets/base",
            "_model_module_version": "1.5.0",
            "_view_count": null,
            "_view_module_version": "1.2.0",
            "bar_color": null,
            "_model_module": "@jupyter-widgets/controls"
          }
        },
        "259de476f2944f10bf2c660ee7d6c429": {
          "model_module": "@jupyter-widgets/base",
          "model_name": "LayoutModel",
          "state": {
            "_view_name": "LayoutView",
            "grid_template_rows": null,
            "right": null,
            "justify_content": null,
            "_view_module": "@jupyter-widgets/base",
            "overflow": null,
            "_model_module_version": "1.2.0",
            "_view_count": null,
            "flex_flow": null,
            "width": null,
            "min_width": null,
            "border": null,
            "align_items": null,
            "bottom": null,
            "_model_module": "@jupyter-widgets/base",
            "top": null,
            "grid_column": null,
            "overflow_y": null,
            "overflow_x": null,
            "grid_auto_flow": null,
            "grid_area": null,
            "grid_template_columns": null,
            "flex": null,
            "_model_name": "LayoutModel",
            "justify_items": null,
            "grid_row": null,
            "max_height": null,
            "align_content": null,
            "visibility": null,
            "align_self": null,
            "height": null,
            "min_height": null,
            "padding": null,
            "grid_auto_rows": null,
            "grid_gap": null,
            "max_width": null,
            "order": null,
            "_view_module_version": "1.2.0",
            "grid_template_areas": null,
            "object_position": null,
            "object_fit": null,
            "grid_auto_columns": null,
            "margin": null,
            "display": null,
            "left": null
          }
        },
        "e987a2036af04339b3fe33d6f0a3cc26": {
          "model_module": "@jupyter-widgets/controls",
          "model_name": "DescriptionStyleModel",
          "state": {
            "_view_name": "StyleView",
            "_model_name": "DescriptionStyleModel",
            "description_width": "",
            "_view_module": "@jupyter-widgets/base",
            "_model_module_version": "1.5.0",
            "_view_count": null,
            "_view_module_version": "1.2.0",
            "_model_module": "@jupyter-widgets/controls"
          }
        },
        "c56d22e65de149659841e50a47064b72": {
          "model_module": "@jupyter-widgets/base",
          "model_name": "LayoutModel",
          "state": {
            "_view_name": "LayoutView",
            "grid_template_rows": null,
            "right": null,
            "justify_content": null,
            "_view_module": "@jupyter-widgets/base",
            "overflow": null,
            "_model_module_version": "1.2.0",
            "_view_count": null,
            "flex_flow": null,
            "width": null,
            "min_width": null,
            "border": null,
            "align_items": null,
            "bottom": null,
            "_model_module": "@jupyter-widgets/base",
            "top": null,
            "grid_column": null,
            "overflow_y": null,
            "overflow_x": null,
            "grid_auto_flow": null,
            "grid_area": null,
            "grid_template_columns": null,
            "flex": null,
            "_model_name": "LayoutModel",
            "justify_items": null,
            "grid_row": null,
            "max_height": null,
            "align_content": null,
            "visibility": null,
            "align_self": null,
            "height": null,
            "min_height": null,
            "padding": null,
            "grid_auto_rows": null,
            "grid_gap": null,
            "max_width": null,
            "order": null,
            "_view_module_version": "1.2.0",
            "grid_template_areas": null,
            "object_position": null,
            "object_fit": null,
            "grid_auto_columns": null,
            "margin": null,
            "display": null,
            "left": null
          }
        }
      }
    }
  },
  "cells": [
    {
      "cell_type": "markdown",
      "metadata": {
        "id": "view-in-github",
        "colab_type": "text"
      },
      "source": [
        "<a href=\"https://colab.research.google.com/github/WonJunPark/Kaggle_DFDC/blob/master/efficientNet.ipynb\" target=\"_parent\"><img src=\"https://colab.research.google.com/assets/colab-badge.svg\" alt=\"Open In Colab\"/></a>"
      ]
    },
    {
      "cell_type": "markdown",
      "metadata": {
        "id": "nQ9dtG4bOGem",
        "colab_type": "text"
      },
      "source": [
        "# 환경 셋팅"
      ]
    },
    {
      "cell_type": "code",
      "metadata": {
        "id": "7oCwwcMYOGhL",
        "colab_type": "code",
        "outputId": "45833344-166b-486c-ad77-29e7baccf29b",
        "colab": {
          "base_uri": "https://localhost:8080/",
          "height": 131
        }
      },
      "source": [
        "from google.colab import drive\n",
        "drive.mount(\"/content/gdrive\")"
      ],
      "execution_count": 0,
      "outputs": [
        {
          "output_type": "stream",
          "text": [
            "Go to this URL in a browser: https://accounts.google.com/o/oauth2/auth?client_id=947318989803-6bn6qk8qdgf4n4g3pfee6491hc0brc4i.apps.googleusercontent.com&redirect_uri=urn%3aietf%3awg%3aoauth%3a2.0%3aoob&response_type=code&scope=email%20https%3a%2f%2fwww.googleapis.com%2fauth%2fdocs.test%20https%3a%2f%2fwww.googleapis.com%2fauth%2fdrive%20https%3a%2f%2fwww.googleapis.com%2fauth%2fdrive.photos.readonly%20https%3a%2f%2fwww.googleapis.com%2fauth%2fpeopleapi.readonly\n",
            "\n",
            "Enter your authorization code:\n",
            "··········\n",
            "Mounted at /content/gdrive\n"
          ],
          "name": "stdout"
        }
      ]
    },
    {
      "cell_type": "code",
      "metadata": {
        "id": "vwD9tYtWOGjN",
        "colab_type": "code",
        "colab": {}
      },
      "source": [
        "work_root_path = \"/content/gdrive/My Drive/Kaggle/DFDC2/\""
      ],
      "execution_count": 0,
      "outputs": []
    },
    {
      "cell_type": "markdown",
      "metadata": {
        "id": "pjtVLiOoDE88",
        "colab_type": "text"
      },
      "source": [
        "# 라이브러리 import"
      ]
    },
    {
      "cell_type": "code",
      "metadata": {
        "id": "Rl62vJMGOGlb",
        "colab_type": "code",
        "colab": {}
      },
      "source": [
        "import pandas as pd\n",
        "import numpy as np\n",
        "import matplotlib.pyplot as plt\n",
        "import cv2\n",
        "import os\n",
        "from tqdm import tqdm,trange\n",
        "from sklearn.model_selection import train_test_split\n",
        "import sklearn.metrics\n",
        "\n",
        "import torch\n",
        "import torch.nn as nn\n",
        "import torch.nn.functional as F\n",
        "\n",
        "import warnings\n",
        "warnings.filterwarnings(\"ignore\")"
      ],
      "execution_count": 0,
      "outputs": []
    },
    {
      "cell_type": "code",
      "metadata": {
        "id": "g6F6IA-dOGny",
        "colab_type": "code",
        "outputId": "2bb514f2-89ba-495a-d304-f2d0544d6f83",
        "colab": {
          "base_uri": "https://localhost:8080/",
          "height": 73
        }
      },
      "source": [
        "print(\"PyTorch version:\", torch.__version__)\n",
        "print(\"CUDA version:\", torch.version.cuda)\n",
        "print(\"cuDNN version:\", torch.backends.cudnn.version())"
      ],
      "execution_count": 0,
      "outputs": [
        {
          "output_type": "stream",
          "text": [
            "PyTorch version: 1.4.0\n",
            "CUDA version: 10.1\n",
            "cuDNN version: 7603\n"
          ],
          "name": "stdout"
        }
      ]
    },
    {
      "cell_type": "markdown",
      "metadata": {
        "id": "Cb8oDpFPDJ3a",
        "colab_type": "text"
      },
      "source": [
        "# 이미지 업로드"
      ]
    },
    {
      "cell_type": "code",
      "metadata": {
        "id": "HcabNVVPOGqY",
        "colab_type": "code",
        "colab": {}
      },
      "source": [
        "df_train = []\n",
        "\n",
        "# total = 50\n",
        "df_train_num = 7   # 0~46\n",
        "df_val_num = 1      # 47~49\n",
        "\n",
        "df_trains = []\n",
        "df_vals = []\n",
        "\n",
        "for i in range(df_train_num):\n",
        "  s = work_root_path + 'input/deepfake/metadata'+  str(i) +'.json'\n",
        "  deepfake = pd.read_json(s)\n",
        "  df_trains.append(deepfake)\n",
        "\n",
        "for i in range(df_val_num):\n",
        "  s = work_root_path + 'input/deepfake/metadata'+ str(df_train_num + i) +'.json'\n",
        "  deepfake = pd.read_json(s)\n",
        "  df_vals.append(deepfake)\n",
        "\n",
        "nums = list(range(len(df_trains)+1))\n",
        "LABELS = ['REAL','FAKE']\n",
        "val_nums=[7]"
      ],
      "execution_count": 0,
      "outputs": []
    },
    {
      "cell_type": "code",
      "metadata": {
        "id": "0laU-E0mOPLO",
        "colab_type": "code",
        "outputId": "ac197cc7-22b7-4a39-9d93-b0c9832b1332",
        "colab": {
          "base_uri": "https://localhost:8080/",
          "height": 190
        }
      },
      "source": [
        "df_trains[0]"
      ],
      "execution_count": 0,
      "outputs": [
        {
          "output_type": "execute_result",
          "data": {
            "text/html": [
              "<div>\n",
              "<style scoped>\n",
              "    .dataframe tbody tr th:only-of-type {\n",
              "        vertical-align: middle;\n",
              "    }\n",
              "\n",
              "    .dataframe tbody tr th {\n",
              "        vertical-align: top;\n",
              "    }\n",
              "\n",
              "    .dataframe thead th {\n",
              "        text-align: right;\n",
              "    }\n",
              "</style>\n",
              "<table border=\"1\" class=\"dataframe\">\n",
              "  <thead>\n",
              "    <tr style=\"text-align: right;\">\n",
              "      <th></th>\n",
              "      <th>owxbbpjpch.mp4</th>\n",
              "      <th>vpmyeepbep.mp4</th>\n",
              "      <th>fzvpbrzssi.mp4</th>\n",
              "      <th>htorvhbcae.mp4</th>\n",
              "      <th>fckxaqjbxk.mp4</th>\n",
              "      <th>sphirandia.mp4</th>\n",
              "      <th>vsmadeuczx.mp4</th>\n",
              "      <th>ohaqlzfnuv.mp4</th>\n",
              "      <th>komngcqveq.mp4</th>\n",
              "      <th>iafvzgpbix.mp4</th>\n",
              "      <th>uaukglhmje.mp4</th>\n",
              "      <th>syxobtuucp.mp4</th>\n",
              "      <th>dtjcyzgdts.mp4</th>\n",
              "      <th>viuioldtnu.mp4</th>\n",
              "      <th>wnaweyzlqh.mp4</th>\n",
              "      <th>ejhhdlzpjg.mp4</th>\n",
              "      <th>sxyrkshzsg.mp4</th>\n",
              "      <th>uvfkppqsjy.mp4</th>\n",
              "      <th>kedahvzait.mp4</th>\n",
              "      <th>idczhqbbqz.mp4</th>\n",
              "      <th>clzkcmoyhb.mp4</th>\n",
              "      <th>vpjfmetsvn.mp4</th>\n",
              "      <th>muksyyltmg.mp4</th>\n",
              "      <th>ztwlbdwyni.mp4</th>\n",
              "      <th>jaurxwocly.mp4</th>\n",
              "      <th>jkxjvuioek.mp4</th>\n",
              "      <th>dhjnjkzuhq.mp4</th>\n",
              "      <th>xcruhaccxc.mp4</th>\n",
              "      <th>rfpjsloxzg.mp4</th>\n",
              "      <th>kmcdjxmnoa.mp4</th>\n",
              "      <th>vvwuqslvnq.mp4</th>\n",
              "      <th>rpxnyljmsf.mp4</th>\n",
              "      <th>txxungvxms.mp4</th>\n",
              "      <th>vtunvalyji.mp4</th>\n",
              "      <th>ihnhxathkq.mp4</th>\n",
              "      <th>lobxktzhbg.mp4</th>\n",
              "      <th>slhinthqcq.mp4</th>\n",
              "      <th>hqzwudvhih.mp4</th>\n",
              "      <th>xpzfhhwkwb.mp4</th>\n",
              "      <th>sglzgdcjkb.mp4</th>\n",
              "      <th>...</th>\n",
              "      <th>xvzjzkrmlm.mp4</th>\n",
              "      <th>ueobjeflda.mp4</th>\n",
              "      <th>runmncglnj.mp4</th>\n",
              "      <th>rqsjnyjukt.mp4</th>\n",
              "      <th>avznxuwvbx.mp4</th>\n",
              "      <th>zxprilbsxp.mp4</th>\n",
              "      <th>hwtupajxgl.mp4</th>\n",
              "      <th>pvlbqbyxxi.mp4</th>\n",
              "      <th>fpcncmwzxf.mp4</th>\n",
              "      <th>mnnxgycfik.mp4</th>\n",
              "      <th>ygfoblbxcx.mp4</th>\n",
              "      <th>jmkqtjuuqu.mp4</th>\n",
              "      <th>gczieafvpe.mp4</th>\n",
              "      <th>yljecirelf.mp4</th>\n",
              "      <th>dsgswagtvp.mp4</th>\n",
              "      <th>xjpwlxducl.mp4</th>\n",
              "      <th>qusnfjluuh.mp4</th>\n",
              "      <th>qcnsahyrvi.mp4</th>\n",
              "      <th>erbgcpjuzj.mp4</th>\n",
              "      <th>bjxasekfcx.mp4</th>\n",
              "      <th>xhssxmjzrm.mp4</th>\n",
              "      <th>jsbpkpxwew.mp4</th>\n",
              "      <th>qvebuvzhcs.mp4</th>\n",
              "      <th>eyyigsrqff.mp4</th>\n",
              "      <th>cybnhobdyh.mp4</th>\n",
              "      <th>slkqbehdcq.mp4</th>\n",
              "      <th>aoydktojny.mp4</th>\n",
              "      <th>mdahmdjnkk.mp4</th>\n",
              "      <th>ioolqahamw.mp4</th>\n",
              "      <th>jccvzepxjn.mp4</th>\n",
              "      <th>dflpzzixje.mp4</th>\n",
              "      <th>vmxfwxgdei.mp4</th>\n",
              "      <th>jgzwhkcrcc.mp4</th>\n",
              "      <th>nyxrmccdss.mp4</th>\n",
              "      <th>aayrffkzxn.mp4</th>\n",
              "      <th>hectzcuzdv.mp4</th>\n",
              "      <th>yxkbjxmtzr.mp4</th>\n",
              "      <th>wkdnagybtb.mp4</th>\n",
              "      <th>fonrexmbzz.mp4</th>\n",
              "      <th>etychryvty.mp4</th>\n",
              "    </tr>\n",
              "  </thead>\n",
              "  <tbody>\n",
              "    <tr>\n",
              "      <th>label</th>\n",
              "      <td>FAKE</td>\n",
              "      <td>REAL</td>\n",
              "      <td>REAL</td>\n",
              "      <td>FAKE</td>\n",
              "      <td>FAKE</td>\n",
              "      <td>FAKE</td>\n",
              "      <td>FAKE</td>\n",
              "      <td>FAKE</td>\n",
              "      <td>FAKE</td>\n",
              "      <td>FAKE</td>\n",
              "      <td>FAKE</td>\n",
              "      <td>REAL</td>\n",
              "      <td>FAKE</td>\n",
              "      <td>FAKE</td>\n",
              "      <td>FAKE</td>\n",
              "      <td>FAKE</td>\n",
              "      <td>FAKE</td>\n",
              "      <td>FAKE</td>\n",
              "      <td>FAKE</td>\n",
              "      <td>FAKE</td>\n",
              "      <td>FAKE</td>\n",
              "      <td>FAKE</td>\n",
              "      <td>FAKE</td>\n",
              "      <td>FAKE</td>\n",
              "      <td>FAKE</td>\n",
              "      <td>FAKE</td>\n",
              "      <td>REAL</td>\n",
              "      <td>REAL</td>\n",
              "      <td>FAKE</td>\n",
              "      <td>FAKE</td>\n",
              "      <td>FAKE</td>\n",
              "      <td>FAKE</td>\n",
              "      <td>FAKE</td>\n",
              "      <td>REAL</td>\n",
              "      <td>FAKE</td>\n",
              "      <td>FAKE</td>\n",
              "      <td>FAKE</td>\n",
              "      <td>FAKE</td>\n",
              "      <td>FAKE</td>\n",
              "      <td>FAKE</td>\n",
              "      <td>...</td>\n",
              "      <td>FAKE</td>\n",
              "      <td>FAKE</td>\n",
              "      <td>FAKE</td>\n",
              "      <td>FAKE</td>\n",
              "      <td>FAKE</td>\n",
              "      <td>FAKE</td>\n",
              "      <td>FAKE</td>\n",
              "      <td>FAKE</td>\n",
              "      <td>FAKE</td>\n",
              "      <td>FAKE</td>\n",
              "      <td>FAKE</td>\n",
              "      <td>FAKE</td>\n",
              "      <td>FAKE</td>\n",
              "      <td>REAL</td>\n",
              "      <td>FAKE</td>\n",
              "      <td>FAKE</td>\n",
              "      <td>FAKE</td>\n",
              "      <td>FAKE</td>\n",
              "      <td>FAKE</td>\n",
              "      <td>FAKE</td>\n",
              "      <td>FAKE</td>\n",
              "      <td>FAKE</td>\n",
              "      <td>FAKE</td>\n",
              "      <td>FAKE</td>\n",
              "      <td>FAKE</td>\n",
              "      <td>FAKE</td>\n",
              "      <td>FAKE</td>\n",
              "      <td>FAKE</td>\n",
              "      <td>FAKE</td>\n",
              "      <td>FAKE</td>\n",
              "      <td>FAKE</td>\n",
              "      <td>REAL</td>\n",
              "      <td>FAKE</td>\n",
              "      <td>FAKE</td>\n",
              "      <td>REAL</td>\n",
              "      <td>FAKE</td>\n",
              "      <td>FAKE</td>\n",
              "      <td>FAKE</td>\n",
              "      <td>FAKE</td>\n",
              "      <td>FAKE</td>\n",
              "    </tr>\n",
              "    <tr>\n",
              "      <th>split</th>\n",
              "      <td>train</td>\n",
              "      <td>train</td>\n",
              "      <td>train</td>\n",
              "      <td>train</td>\n",
              "      <td>train</td>\n",
              "      <td>train</td>\n",
              "      <td>train</td>\n",
              "      <td>train</td>\n",
              "      <td>train</td>\n",
              "      <td>train</td>\n",
              "      <td>train</td>\n",
              "      <td>train</td>\n",
              "      <td>train</td>\n",
              "      <td>train</td>\n",
              "      <td>train</td>\n",
              "      <td>train</td>\n",
              "      <td>train</td>\n",
              "      <td>train</td>\n",
              "      <td>train</td>\n",
              "      <td>train</td>\n",
              "      <td>train</td>\n",
              "      <td>train</td>\n",
              "      <td>train</td>\n",
              "      <td>train</td>\n",
              "      <td>train</td>\n",
              "      <td>train</td>\n",
              "      <td>train</td>\n",
              "      <td>train</td>\n",
              "      <td>train</td>\n",
              "      <td>train</td>\n",
              "      <td>train</td>\n",
              "      <td>train</td>\n",
              "      <td>train</td>\n",
              "      <td>train</td>\n",
              "      <td>train</td>\n",
              "      <td>train</td>\n",
              "      <td>train</td>\n",
              "      <td>train</td>\n",
              "      <td>train</td>\n",
              "      <td>train</td>\n",
              "      <td>...</td>\n",
              "      <td>train</td>\n",
              "      <td>train</td>\n",
              "      <td>train</td>\n",
              "      <td>train</td>\n",
              "      <td>train</td>\n",
              "      <td>train</td>\n",
              "      <td>train</td>\n",
              "      <td>train</td>\n",
              "      <td>train</td>\n",
              "      <td>train</td>\n",
              "      <td>train</td>\n",
              "      <td>train</td>\n",
              "      <td>train</td>\n",
              "      <td>train</td>\n",
              "      <td>train</td>\n",
              "      <td>train</td>\n",
              "      <td>train</td>\n",
              "      <td>train</td>\n",
              "      <td>train</td>\n",
              "      <td>train</td>\n",
              "      <td>train</td>\n",
              "      <td>train</td>\n",
              "      <td>train</td>\n",
              "      <td>train</td>\n",
              "      <td>train</td>\n",
              "      <td>train</td>\n",
              "      <td>train</td>\n",
              "      <td>train</td>\n",
              "      <td>train</td>\n",
              "      <td>train</td>\n",
              "      <td>train</td>\n",
              "      <td>train</td>\n",
              "      <td>train</td>\n",
              "      <td>train</td>\n",
              "      <td>train</td>\n",
              "      <td>train</td>\n",
              "      <td>train</td>\n",
              "      <td>train</td>\n",
              "      <td>train</td>\n",
              "      <td>train</td>\n",
              "    </tr>\n",
              "    <tr>\n",
              "      <th>original</th>\n",
              "      <td>wynotylpnm.mp4</td>\n",
              "      <td>NaN</td>\n",
              "      <td>NaN</td>\n",
              "      <td>wclvkepakb.mp4</td>\n",
              "      <td>vpmyeepbep.mp4</td>\n",
              "      <td>jawgcggquk.mp4</td>\n",
              "      <td>qarqtkvgby.mp4</td>\n",
              "      <td>sttnfyptum.mp4</td>\n",
              "      <td>kqlvggiqee.mp4</td>\n",
              "      <td>lzbmwwejxb.mp4</td>\n",
              "      <td>jytrvwlewz.mp4</td>\n",
              "      <td>NaN</td>\n",
              "      <td>wcqvzujamg.mp4</td>\n",
              "      <td>exxqlfpnbz.mp4</td>\n",
              "      <td>vpmyeepbep.mp4</td>\n",
              "      <td>nweufafotd.mp4</td>\n",
              "      <td>jvtjxreizj.mp4</td>\n",
              "      <td>gvasarkpfh.mp4</td>\n",
              "      <td>wclvkepakb.mp4</td>\n",
              "      <td>prmwoaeeng.mp4</td>\n",
              "      <td>gnmmhlbzge.mp4</td>\n",
              "      <td>nweufafotd.mp4</td>\n",
              "      <td>fopjiyxiqd.mp4</td>\n",
              "      <td>kqlvggiqee.mp4</td>\n",
              "      <td>pqdeutauqc.mp4</td>\n",
              "      <td>wfzjxzhdkj.mp4</td>\n",
              "      <td>NaN</td>\n",
              "      <td>NaN</td>\n",
              "      <td>dxfdovivlw.mp4</td>\n",
              "      <td>sttnfyptum.mp4</td>\n",
              "      <td>ddtbarpcgo.mp4</td>\n",
              "      <td>nweufafotd.mp4</td>\n",
              "      <td>lzbmwwejxb.mp4</td>\n",
              "      <td>NaN</td>\n",
              "      <td>sttnfyptum.mp4</td>\n",
              "      <td>dhjnjkzuhq.mp4</td>\n",
              "      <td>wfzjxzhdkj.mp4</td>\n",
              "      <td>xmkwsnuzyq.mp4</td>\n",
              "      <td>xmkwsnuzyq.mp4</td>\n",
              "      <td>vokrpfjpeb.mp4</td>\n",
              "      <td>...</td>\n",
              "      <td>wynotylpnm.mp4</td>\n",
              "      <td>dhjnjkzuhq.mp4</td>\n",
              "      <td>gnmmhlbzge.mp4</td>\n",
              "      <td>qarqtkvgby.mp4</td>\n",
              "      <td>dpevefkefv.mp4</td>\n",
              "      <td>fsaronfupy.mp4</td>\n",
              "      <td>lsmnqsnqld.mp4</td>\n",
              "      <td>knxltsvzyu.mp4</td>\n",
              "      <td>fopjiyxiqd.mp4</td>\n",
              "      <td>hicjuubiau.mp4</td>\n",
              "      <td>dpevefkefv.mp4</td>\n",
              "      <td>psjfwjzrrh.mp4</td>\n",
              "      <td>apvzjkvnwn.mp4</td>\n",
              "      <td>NaN</td>\n",
              "      <td>wynotylpnm.mp4</td>\n",
              "      <td>apvzjkvnwn.mp4</td>\n",
              "      <td>qarqtkvgby.mp4</td>\n",
              "      <td>doniqevxeg.mp4</td>\n",
              "      <td>psjfwjzrrh.mp4</td>\n",
              "      <td>exseruhiuk.mp4</td>\n",
              "      <td>upmgtackuf.mp4</td>\n",
              "      <td>fdpisghkmd.mp4</td>\n",
              "      <td>rktrpsdlci.mp4</td>\n",
              "      <td>psjfwjzrrh.mp4</td>\n",
              "      <td>qarqtkvgby.mp4</td>\n",
              "      <td>xjzkfqddyk.mp4</td>\n",
              "      <td>xkfliqnmwt.mp4</td>\n",
              "      <td>wfzjxzhdkj.mp4</td>\n",
              "      <td>fsaronfupy.mp4</td>\n",
              "      <td>vmxfwxgdei.mp4</td>\n",
              "      <td>nhsijqpoda.mp4</td>\n",
              "      <td>NaN</td>\n",
              "      <td>jytrvwlewz.mp4</td>\n",
              "      <td>jzupayeuln.mp4</td>\n",
              "      <td>NaN</td>\n",
              "      <td>vtunvalyji.mp4</td>\n",
              "      <td>sttnfyptum.mp4</td>\n",
              "      <td>jytrvwlewz.mp4</td>\n",
              "      <td>fufcmupzen.mp4</td>\n",
              "      <td>uqtqhiqymz.mp4</td>\n",
              "    </tr>\n",
              "  </tbody>\n",
              "</table>\n",
              "<p>3 rows × 1334 columns</p>\n",
              "</div>"
            ],
            "text/plain": [
              "          owxbbpjpch.mp4 vpmyeepbep.mp4  ...  fonrexmbzz.mp4  etychryvty.mp4\n",
              "label               FAKE           REAL  ...            FAKE            FAKE\n",
              "split              train          train  ...           train           train\n",
              "original  wynotylpnm.mp4            NaN  ...  fufcmupzen.mp4  uqtqhiqymz.mp4\n",
              "\n",
              "[3 rows x 1334 columns]"
            ]
          },
          "metadata": {
            "tags": []
          },
          "execution_count": 6
        }
      ]
    },
    {
      "cell_type": "markdown",
      "metadata": {
        "id": "J1TUgdp2D29A",
        "colab_type": "text"
      },
      "source": [
        "## 경로 지정"
      ]
    },
    {
      "cell_type": "code",
      "metadata": {
        "id": "wftmZKzeOPNq",
        "colab_type": "code",
        "colab": {}
      },
      "source": [
        "def get_path(num,x):\n",
        "    num=str(num)\n",
        "    if len(num)==2:\n",
        "        path= work_root_path + 'input/deepfake/DeepFake'+num+'/DeepFake'+num+'/' + x.replace('.mp4', '') + '.jpg' #jpg 파일만 불러오기\n",
        "    else:\n",
        "        path= work_root_path + 'input/deepfake/DeepFake0'+num+'/DeepFake0'+num+'/' + x.replace('.mp4', '') + '.jpg'\n",
        "    if not os.path.exists(path):\n",
        "       raise Exception\n",
        "    return path"
      ],
      "execution_count": 0,
      "outputs": []
    },
    {
      "cell_type": "markdown",
      "metadata": {
        "id": "wYG30qROD65s",
        "colab_type": "text"
      },
      "source": [
        "## 라벨링"
      ]
    },
    {
      "cell_type": "code",
      "metadata": {
        "id": "KJujzOqmOPP7",
        "colab_type": "code",
        "outputId": "bd318f0e-773d-4354-fb36-b2be4cef7602",
        "colab": {
          "base_uri": "https://localhost:8080/",
          "height": 36
        }
      },
      "source": [
        "# Labeling\n",
        "# json 파일과 img 파일을 매칭\n",
        "paths=[]\n",
        "y=[]\n",
        "for df_train,num in tqdm(zip(df_trains,nums),total=len(df_trains)):\n",
        "    images = list(df_train.columns.values)\n",
        "    for x in images:\n",
        "        try:\n",
        "            paths.append(get_path(num,x))\n",
        "            y.append(LABELS.index(df_train[x]['label']))\n",
        "        except Exception as err:\n",
        "            #print(err)\n",
        "            pass\n",
        "\n",
        "val_paths=[]\n",
        "val_y=[]\n",
        "for df_val,num in tqdm(zip(df_vals,val_nums),total=len(df_vals)):\n",
        "    images = list(df_val.columns.values)\n",
        "    for x in images:\n",
        "        try:\n",
        "            val_paths.append(get_path(num,x))\n",
        "            val_y.append(LABELS.index(df_val[x]['label']))\n",
        "        except Exception as err:\n",
        "            #print(err)\n",
        "            pass"
      ],
      "execution_count": 0,
      "outputs": [
        {
          "output_type": "stream",
          "text": [
            "\r  0%|          | 0/7 [00:00<?, ?it/s]"
          ],
          "name": "stderr"
        }
      ]
    },
    {
      "cell_type": "code",
      "metadata": {
        "id": "yxfrD-mdOZTM",
        "colab_type": "code",
        "colab": {}
      },
      "source": [
        "print('y : ',len(y))\n",
        "print('val_y :',len(val_y))"
      ],
      "execution_count": 0,
      "outputs": []
    },
    {
      "cell_type": "code",
      "metadata": {
        "id": "kF5W-AzdCXg6",
        "colab_type": "code",
        "colab": {}
      },
      "source": [
        "print('real y :',y.count(0))\n",
        "print('real val_y :',val_y.count(0))"
      ],
      "execution_count": 0,
      "outputs": []
    },
    {
      "cell_type": "markdown",
      "metadata": {
        "id": "l83qkiYpC7bJ",
        "colab_type": "text"
      },
      "source": [
        "# 이미지 전처리"
      ]
    },
    {
      "cell_type": "code",
      "metadata": {
        "id": "AzHXl3upOZVn",
        "colab_type": "code",
        "colab": {}
      },
      "source": [
        "# 컬러 이미지를 읽어오는 함수\n",
        "def read_img(path):\n",
        "    return cv2.cvtColor(cv2.imread(path),cv2.COLOR_BGR2RGB)\n",
        "\n",
        "# X,y 데이터셋을 섞어줌\n",
        "def shuffle(X,y):\n",
        "    new_train=[]\n",
        "    for m,n in zip(X,y):\n",
        "        new_train.append([m,n])\n",
        "    random.shuffle(new_train)\n",
        "    X,y=[],[]\n",
        "    for x in new_train:\n",
        "        X.append(x[0])\n",
        "        y.append(x[1])\n",
        "    return X,y"
      ],
      "execution_count": 0,
      "outputs": []
    },
    {
      "cell_type": "markdown",
      "metadata": {
        "id": "kUV4arEuDTSa",
        "colab_type": "text"
      },
      "source": [
        "## train data"
      ]
    },
    {
      "cell_type": "code",
      "metadata": {
        "id": "YNtU7oOr_2Gf",
        "colab_type": "code",
        "colab": {}
      },
      "source": [
        "import random"
      ],
      "execution_count": 0,
      "outputs": []
    },
    {
      "cell_type": "code",
      "metadata": {
        "id": "cauYHwzGBZdP",
        "colab_type": "code",
        "colab": {}
      },
      "source": [
        "real=[]\n",
        "fake=[]\n",
        "\n",
        "for m,n in zip(paths,y):\n",
        "    if n==0:\n",
        "        real.append(m) #1518\n",
        "    else:\n",
        "        if(len(fake) >= 1518) : pass\n",
        "        else : fake.append(m)\n",
        "\n",
        "paths,y=[],[]\n",
        "\n",
        "for x in real:\n",
        "    paths.append(x)\n",
        "    y.append(0)\n",
        "for x in fake:\n",
        "    paths.append(x)\n",
        "    y.append(1)"
      ],
      "execution_count": 0,
      "outputs": []
    },
    {
      "cell_type": "code",
      "metadata": {
        "id": "3lKhKP8RGp2-",
        "colab_type": "code",
        "colab": {}
      },
      "source": [
        "# deepfake 경로안에 이미지를 불러옴\n",
        "X=[]\n",
        "for img in tqdm(paths):\n",
        "    X.append(read_img(img))"
      ],
      "execution_count": 0,
      "outputs": []
    },
    {
      "cell_type": "markdown",
      "metadata": {
        "id": "8Rhl4-3MDcao",
        "colab_type": "text"
      },
      "source": [
        "## val data"
      ]
    },
    {
      "cell_type": "code",
      "metadata": {
        "id": "WtFlfMZ0BvNL",
        "colab_type": "code",
        "colab": {}
      },
      "source": [
        "real=[]\n",
        "fake=[] \n",
        "for m,n in zip(val_paths,val_y):\n",
        "    if n==0:\n",
        "        real.append(m) # 333\n",
        "    else:\n",
        "        if(len(fake) >= 333) : pass\n",
        "        else : fake.append(m)\n",
        "\n",
        "# fake=random.sample(fake,len(real))\n",
        "val_paths,val_y=[],[]\n",
        "\n",
        "for x in real:\n",
        "    val_paths.append(x)\n",
        "    val_y.append(0)\n",
        "for x in fake:\n",
        "    val_paths.append(x)\n",
        "    val_y.append(1)"
      ],
      "execution_count": 0,
      "outputs": []
    },
    {
      "cell_type": "code",
      "metadata": {
        "id": "I-y1vsd7ExYD",
        "colab_type": "code",
        "colab": {}
      },
      "source": [
        "val_X=[]\n",
        "for img in tqdm(val_paths):\n",
        "    val_X.append(read_img(img))"
      ],
      "execution_count": 0,
      "outputs": []
    },
    {
      "cell_type": "markdown",
      "metadata": {
        "id": "wKmbgU8-G1o9",
        "colab_type": "text"
      },
      "source": [
        "## 랜덤 샘플링"
      ]
    },
    {
      "cell_type": "code",
      "metadata": {
        "id": "WV8HjNH-HCi8",
        "colab_type": "code",
        "colab": {}
      },
      "source": [
        "print('There are '+str(y.count(1))+' fake train samples')\n",
        "print('There are '+str(y.count(0))+' real train samples')\n",
        "print('There are '+str(val_y.count(1))+' fake val samples')\n",
        "print('There are '+str(val_y.count(0))+' real val samples')"
      ],
      "execution_count": 0,
      "outputs": []
    },
    {
      "cell_type": "code",
      "metadata": {
        "id": "8xUjqnadGpDV",
        "colab_type": "code",
        "colab": {}
      },
      "source": [
        "X, y = shuffle(X,y)\n",
        "val_X, val_y = shuffle(val_X,val_y)"
      ],
      "execution_count": 0,
      "outputs": []
    },
    {
      "cell_type": "code",
      "metadata": {
        "id": "DgrIPUkgCOH8",
        "colab_type": "code",
        "colab": {}
      },
      "source": [
        "from torch.utils.data import Dataset, DataLoader\n",
        "mean = [0.485, 0.456, 0.406]\n",
        "std = [0.229, 0.224, 0.225]\n",
        "\n",
        "class ImageDataset(Dataset):\n",
        "    def __init__(self, X, y, training=True, transform=None):\n",
        "        self.X = X\n",
        "        self.y = y\n",
        "        self.transform = transform\n",
        "        self.training = training\n",
        "\n",
        "    def __len__(self):\n",
        "        return len(self.X)\n",
        "    \n",
        "    def __getitem__(self, idx):\n",
        "        if torch.is_tensor(idx):\n",
        "            idx = idx.tolist()\n",
        "        \n",
        "        img = self.X[idx]\n",
        "\n",
        "        if self.transform is not None:\n",
        "          res = self.transform(image=img)\n",
        "          img = res['image']\n",
        "        \n",
        "        img = np.rollaxis(img, 2, 0)\n",
        "        # img = np.array(img).astype(np.float32) / 255.\n",
        "\n",
        "        labels = self.y[idx]\n",
        "        labels = np.array(labels).astype(np.float32)\n",
        "        return [img, labels]"
      ],
      "execution_count": 0,
      "outputs": []
    },
    {
      "cell_type": "code",
      "metadata": {
        "id": "oRuNPbocHot0",
        "colab_type": "code",
        "colab": {}
      },
      "source": [
        "import albumentations\n",
        "from albumentations.augmentations.transforms import ShiftScaleRotate, HorizontalFlip, Normalize, RandomBrightnessContrast, MotionBlur, Blur, GaussNoise, JpegCompression\n",
        "train_transform = albumentations.Compose([\n",
        "                                          ShiftScaleRotate(p=0.3, scale_limit=0.25, border_mode=1, rotate_limit=25),\n",
        "                                          HorizontalFlip(p=0.2),\n",
        "                                          RandomBrightnessContrast(p=0.3, brightness_limit=0.25, contrast_limit=0.5),\n",
        "                                          MotionBlur(p=.2),\n",
        "                                          GaussNoise(p=.2),\n",
        "                                          JpegCompression(p=.2, quality_lower=50),\n",
        "                                          Normalize()\n",
        "])\n",
        "val_transform = albumentations.Compose([\n",
        "                                          Normalize()\n",
        "])\n",
        "\n",
        "train_dataset = ImageDataset(X, y, transform=train_transform)\n",
        "val_dataset = ImageDataset(val_X, val_y, transform=val_transform)"
      ],
      "execution_count": 0,
      "outputs": []
    },
    {
      "cell_type": "code",
      "metadata": {
        "id": "k5S4SQ1iHor7",
        "colab_type": "code",
        "colab": {}
      },
      "source": [
        "nrow, ncol = 5, 6\n",
        "fig, axes = plt.subplots(nrow, ncol, figsize=(20, 8))\n",
        "axes = axes.flatten()\n",
        "for i, ax in enumerate(axes):\n",
        "    image, label = train_dataset[i]\n",
        "    image = np.rollaxis(image, 0, 3)\n",
        "    image = image*std + mean\n",
        "    image = np.clip(image, 0., 1.)\n",
        "    ax.imshow(image)\n",
        "    ax.set_title(f'label: {label}')"
      ],
      "execution_count": 0,
      "outputs": []
    },
    {
      "cell_type": "code",
      "metadata": {
        "id": "-4TEegfEHop3",
        "colab_type": "code",
        "colab": {}
      },
      "source": [
        ""
      ],
      "execution_count": 0,
      "outputs": []
    },
    {
      "cell_type": "markdown",
      "metadata": {
        "id": "DcruRF9PIAYD",
        "colab_type": "text"
      },
      "source": [
        "# 학습 함수 선언"
      ]
    },
    {
      "cell_type": "markdown",
      "metadata": {
        "id": "3vV-FAacIZ-l",
        "colab_type": "text"
      },
      "source": [
        "## 모델 튜닝"
      ]
    },
    {
      "cell_type": "code",
      "metadata": {
        "id": "GvYzlbAqBANL",
        "colab_type": "code",
        "colab": {}
      },
      "source": [
        "class Head(torch.nn.Module):\n",
        "  def __init__(self, in_f, out_f):\n",
        "    super(Head, self).__init__()\n",
        "    \n",
        "    self.f = nn.Flatten()\n",
        "    self.l = nn.Linear(in_f, 512)\n",
        "    self.d = nn.Dropout(0.75)\n",
        "    self.o = nn.Linear(512, out_f)\n",
        "    self.b1 = nn.BatchNorm1d(in_f)\n",
        "    self.b2 = nn.BatchNorm1d(512)\n",
        "    self.r = nn.ReLU()\n",
        "\n",
        "  def forward(self, x):\n",
        "    x = self.f(x)\n",
        "    x = self.b1(x)\n",
        "    x = self.d(x)\n",
        "\n",
        "    x = self.l(x)\n",
        "    x = self.r(x)\n",
        "    x = self.b2(x)\n",
        "    x = self.d(x)\n",
        "\n",
        "    out = self.o(x)\n",
        "    return out\n",
        "\n",
        "class FCN(torch.nn.Module):\n",
        "  def __init__(self, base, in_f):\n",
        "    super(FCN, self).__init__()\n",
        "    self.base = base\n",
        "    self.h1 = Head(in_f, 1)\n",
        "  \n",
        "  def forward(self, x):\n",
        "    x = self.base(x)\n",
        "    return self.h1(x)"
      ],
      "execution_count": 0,
      "outputs": []
    },
    {
      "cell_type": "code",
      "metadata": {
        "id": "fn2u0x4KIJFW",
        "colab_type": "code",
        "colab": {}
      },
      "source": [
        "def criterion1(pred1, targets):\n",
        "  l1 = F.binary_cross_entropy(F.sigmoid(pred1), targets)\n",
        "  return l1\n",
        "\n",
        "def train_model(epoch, optimizer, scheduler=None, history=None):\n",
        "    model.train()\n",
        "    total_loss = 0\n",
        "    \n",
        "    t = tqdm(train_loader)\n",
        "    for i, (img_batch, y_batch) in enumerate(t):\n",
        "        img_batch = img_batch.cuda().float()\n",
        "        y_batch = y_batch.cuda().float()\n",
        "\n",
        "        optimizer.zero_grad()\n",
        "\n",
        "        out = model(img_batch)\n",
        "        loss = criterion1(out, y_batch)\n",
        "\n",
        "        total_loss += loss\n",
        "        t.set_description(f'Epoch {epoch+1}/{n_epochs}, LR: %6f, Loss: %.4f'%(optimizer.state_dict()['param_groups'][0]['lr'],total_loss/(i+1)))\n",
        "\n",
        "        if history is not None:\n",
        "          history.loc[epoch + i / len(X), 'train_loss'] = loss.data.cpu().numpy()\n",
        "          history.loc[epoch + i / len(X), 'lr'] = optimizer.state_dict()['param_groups'][0]['lr']\n",
        "\n",
        "        loss.backward()\n",
        "        optimizer.step()\n",
        "        if scheduler is not None:\n",
        "          scheduler.step()\n",
        "\n",
        "def evaluate_model(epoch, scheduler=None, history=None):\n",
        "    model.eval()\n",
        "    loss = 0\n",
        "    pred = []\n",
        "    real = []\n",
        "    with torch.no_grad():\n",
        "        for img_batch, y_batch in val_loader:\n",
        "            img_batch = img_batch.cuda().float()\n",
        "            y_batch = y_batch.cuda().float()\n",
        "\n",
        "            o1 = model(img_batch)\n",
        "            l1 = criterion1(o1, y_batch)\n",
        "            loss += l1\n",
        "            \n",
        "            for j in o1:\n",
        "              pred.append(F.sigmoid(j))\n",
        "            for i in y_batch:\n",
        "              real.append(i.data.cpu())\n",
        "    \n",
        "    pred = [p.data.cpu().numpy() for p in pred]\n",
        "    pred2 = pred\n",
        "    pred = [np.round(p) for p in pred]\n",
        "    pred = np.array(pred)\n",
        "    acc = sklearn.metrics.recall_score(real, pred, average='macro')\n",
        "\n",
        "    real = [r.item() for r in real]\n",
        "    pred2 = np.array(pred2).clip(0.1, 0.9)\n",
        "    kaggle = sklearn.metrics.log_loss(real, pred2)\n",
        "\n",
        "    loss /= len(val_loader)\n",
        "    \n",
        "    if history is not None:\n",
        "        history.loc[epoch, 'dev_loss'] = loss.cpu().numpy()\n",
        "    \n",
        "    if scheduler is not None:\n",
        "      scheduler.step(loss)\n",
        "\n",
        "    print(f'Dev loss: %.4f, Acc: %.6f, Kaggle: %.6f'%(loss,acc,kaggle))\n",
        "    \n",
        "    return loss"
      ],
      "execution_count": 0,
      "outputs": []
    },
    {
      "cell_type": "code",
      "metadata": {
        "id": "XQ5enQVDIJK0",
        "colab_type": "code",
        "colab": {}
      },
      "source": [
        ""
      ],
      "execution_count": 0,
      "outputs": []
    },
    {
      "cell_type": "code",
      "metadata": {
        "id": "9Qd8NbvyIJHx",
        "colab_type": "code",
        "colab": {}
      },
      "source": [
        ""
      ],
      "execution_count": 0,
      "outputs": []
    },
    {
      "cell_type": "markdown",
      "metadata": {
        "id": "urekhljfIpWr",
        "colab_type": "text"
      },
      "source": [
        "# 학습"
      ]
    },
    {
      "cell_type": "markdown",
      "metadata": {
        "id": "xD9npgpfNxlb",
        "colab_type": "text"
      },
      "source": [
        "## xception net"
      ]
    },
    {
      "cell_type": "code",
      "metadata": {
        "id": "KNswAirLCOGZ",
        "colab_type": "code",
        "outputId": "69085943-875b-47e0-b262-a42c91513613",
        "colab": {
          "base_uri": "https://localhost:8080/",
          "height": 74
        }
      },
      "source": [
        "!pip install pytorchcv --quiet\n",
        "from pytorchcv.model_provider import get_model\n",
        "model = get_model(\"xception\", pretrained=True)\n",
        "# model = get_model(\"resnet18\", pretrained=True)\n",
        "model = nn.Sequential(*list(model.children())[:-1]) # Remove original output layer\n",
        "\n",
        "model[0].final_block.pool = nn.Sequential(nn.AdaptiveAvgPool2d(1))\n",
        "# model[0].final_pool = nn.Sequential(nn.AdaptiveAvgPool2d(1))\n",
        "\n",
        "model = FCN(model, 2048)"
      ],
      "execution_count": 0,
      "outputs": [
        {
          "output_type": "stream",
          "text": [
            "\u001b[?25l\r\u001b[K     |▉                               | 10kB 30.4MB/s eta 0:00:01\r\u001b[K     |█▋                              | 20kB 6.0MB/s eta 0:00:01\r\u001b[K     |██▌                             | 30kB 7.4MB/s eta 0:00:01\r\u001b[K     |███▎                            | 40kB 5.7MB/s eta 0:00:01\r\u001b[K     |████▏                           | 51kB 6.0MB/s eta 0:00:01\r\u001b[K     |█████                           | 61kB 7.1MB/s eta 0:00:01\r\u001b[K     |█████▉                          | 71kB 7.7MB/s eta 0:00:01\r\u001b[K     |██████▋                         | 81kB 7.3MB/s eta 0:00:01\r\u001b[K     |███████▍                        | 92kB 8.1MB/s eta 0:00:01\r\u001b[K     |████████▎                       | 102kB 8.5MB/s eta 0:00:01\r\u001b[K     |█████████                       | 112kB 8.5MB/s eta 0:00:01\r\u001b[K     |██████████                      | 122kB 8.5MB/s eta 0:00:01\r\u001b[K     |██████████▊                     | 133kB 8.5MB/s eta 0:00:01\r\u001b[K     |███████████▋                    | 143kB 8.5MB/s eta 0:00:01\r\u001b[K     |████████████▍                   | 153kB 8.5MB/s eta 0:00:01\r\u001b[K     |█████████████▏                  | 163kB 8.5MB/s eta 0:00:01\r\u001b[K     |██████████████                  | 174kB 8.5MB/s eta 0:00:01\r\u001b[K     |██████████████▉                 | 184kB 8.5MB/s eta 0:00:01\r\u001b[K     |███████████████▊                | 194kB 8.5MB/s eta 0:00:01\r\u001b[K     |████████████████▌               | 204kB 8.5MB/s eta 0:00:01\r\u001b[K     |█████████████████▍              | 215kB 8.5MB/s eta 0:00:01\r\u001b[K     |██████████████████▏             | 225kB 8.5MB/s eta 0:00:01\r\u001b[K     |███████████████████             | 235kB 8.5MB/s eta 0:00:01\r\u001b[K     |███████████████████▉            | 245kB 8.5MB/s eta 0:00:01\r\u001b[K     |████████████████████▋           | 256kB 8.5MB/s eta 0:00:01\r\u001b[K     |█████████████████████▌          | 266kB 8.5MB/s eta 0:00:01\r\u001b[K     |██████████████████████▎         | 276kB 8.5MB/s eta 0:00:01\r\u001b[K     |███████████████████████▏        | 286kB 8.5MB/s eta 0:00:01\r\u001b[K     |████████████████████████        | 296kB 8.5MB/s eta 0:00:01\r\u001b[K     |████████████████████████▉       | 307kB 8.5MB/s eta 0:00:01\r\u001b[K     |█████████████████████████▋      | 317kB 8.5MB/s eta 0:00:01\r\u001b[K     |██████████████████████████▍     | 327kB 8.5MB/s eta 0:00:01\r\u001b[K     |███████████████████████████▎    | 337kB 8.5MB/s eta 0:00:01\r\u001b[K     |████████████████████████████    | 348kB 8.5MB/s eta 0:00:01\r\u001b[K     |█████████████████████████████   | 358kB 8.5MB/s eta 0:00:01\r\u001b[K     |█████████████████████████████▊  | 368kB 8.5MB/s eta 0:00:01\r\u001b[K     |██████████████████████████████▋ | 378kB 8.5MB/s eta 0:00:01\r\u001b[K     |███████████████████████████████▍| 389kB 8.5MB/s eta 0:00:01\r\u001b[K     |████████████████████████████████| 399kB 8.5MB/s \n",
            "\u001b[?25hDownloading /root/.torch/models/xception-0549-e4f0232c.pth.zip from https://github.com/osmr/imgclsmob/releases/download/v0.0.115/xception-0549-e4f0232c.pth.zip...\n"
          ],
          "name": "stdout"
        }
      ]
    },
    {
      "cell_type": "code",
      "metadata": {
        "id": "pRt5z6JgInES",
        "colab_type": "code",
        "colab": {}
      },
      "source": [
        "import gc\n",
        "\n",
        "history = pd.DataFrame()\n",
        "history2 = pd.DataFrame()\n",
        "\n",
        "torch.cuda.empty_cache()\n",
        "gc.collect()\n",
        "\n",
        "best = 1e10\n",
        "n_epochs = 20\n",
        "batch_size = 128\n",
        "\n",
        "train_loader = DataLoader(dataset=train_dataset, batch_size=batch_size, shuffle=True, num_workers=4)\n",
        "val_loader = DataLoader(dataset=val_dataset, batch_size=batch_size, shuffle=False, num_workers=0)\n",
        "\n",
        "model = model.cuda()\n",
        "\n",
        "optimizer = torch.optim.AdamW(model.parameters(), lr=0.001)\n",
        "\n",
        "scheduler = torch.optim.lr_scheduler.ReduceLROnPlateau(optimizer, patience=5, mode='min', factor=0.7, verbose=True, min_lr=1e-5)\n",
        "\n",
        "for epoch in range(n_epochs):\n",
        "    torch.cuda.empty_cache()\n",
        "    gc.collect()\n",
        "\n",
        "    train_model(epoch, optimizer, scheduler=None, history=history)\n",
        "    \n",
        "    loss = evaluate_model(epoch, scheduler=scheduler, history=history2)\n",
        "    \n",
        "    if loss < best:\n",
        "      best = loss\n",
        "      print(f'Saving best model...')\n",
        "      torch.save(model.state_dict(), f'model.pth')"
      ],
      "execution_count": 0,
      "outputs": []
    },
    {
      "cell_type": "code",
      "metadata": {
        "id": "wXog_OwvInHj",
        "colab_type": "code",
        "outputId": "3b60541f-d40a-4dac-9872-483dbbd9f1ce",
        "colab": {
          "base_uri": "https://localhost:8080/",
          "height": 283
        }
      },
      "source": [
        "history2.plot()"
      ],
      "execution_count": 0,
      "outputs": [
        {
          "output_type": "execute_result",
          "data": {
            "text/plain": [
              "<matplotlib.axes._subplots.AxesSubplot at 0x7f82b3a61f98>"
            ]
          },
          "metadata": {
            "tags": []
          },
          "execution_count": 69
        },
        {
          "output_type": "display_data",
          "data": {
            "image/png": "[encoded data removed]",
            "text/plain": [
              "<Figure size 432x288 with 1 Axes>"
            ]
          },
          "metadata": {
            "tags": []
          }
        }
      ]
    },
    {
      "cell_type": "code",
      "metadata": {
        "id": "KFLBrECQLf5k",
        "colab_type": "code",
        "colab": {}
      },
      "source": [
        "xception_result = min(history2[\"dev_loss\"])"
      ],
      "execution_count": 0,
      "outputs": []
    },
    {
      "cell_type": "code",
      "metadata": {
        "id": "HTIjV2N1NLGM",
        "colab_type": "code",
        "colab": {}
      },
      "source": [
        ""
      ],
      "execution_count": 0,
      "outputs": []
    },
    {
      "cell_type": "markdown",
      "metadata": {
        "id": "GNZ1JOzsNn4S",
        "colab_type": "text"
      },
      "source": [
        "## resnet"
      ]
    },
    {
      "cell_type": "code",
      "metadata": {
        "id": "UWdhokrUOS6l",
        "colab_type": "code",
        "colab": {}
      },
      "source": [
        "import torch.nn as nn\n",
        "import torchvision.models as models\n",
        "\n",
        "class MyResNeXt(models.resnet.ResNet):\n",
        "    def __init__(self, training=True):\n",
        "        super(MyResNeXt, self).__init__(block=models.resnet.Bottleneck,\n",
        "                                        layers=[3, 4, 6, 3], \n",
        "                                        groups=32, \n",
        "                                        width_per_group=4)\n",
        "        self.fc = nn.Linear(2048, 1)"
      ],
      "execution_count": 0,
      "outputs": []
    },
    {
      "cell_type": "code",
      "metadata": {
        "id": "HWAoCOqlOa5N",
        "colab_type": "code",
        "outputId": "cb09092d-e651-4d35-e2d4-dfb4a3ae0ab7",
        "colab": {
          "base_uri": "https://localhost:8080/",
          "height": 35
        }
      },
      "source": [
        "gpu = torch.device(\"cuda:0\" if torch.cuda.is_available() else \"cpu\")\n",
        "gpu"
      ],
      "execution_count": 0,
      "outputs": [
        {
          "output_type": "execute_result",
          "data": {
            "text/plain": [
              "device(type='cuda', index=0)"
            ]
          },
          "metadata": {
            "tags": []
          },
          "execution_count": 105
        }
      ]
    },
    {
      "cell_type": "code",
      "metadata": {
        "id": "gM66BlYcOS_d",
        "colab_type": "code",
        "colab": {}
      },
      "source": [
        "checkpoint = torch.load(\"/content/gdrive/My Drive/Kaggle/DFDC/input/deepfakes-inference-demo/resnext.pth\", map_location=gpu)\n",
        "\n",
        "model = MyResNeXt().to(gpu)\n",
        "model.load_state_dict(checkpoint)\n",
        "_ = model.eval()\n",
        "\n",
        "del checkpoint"
      ],
      "execution_count": 0,
      "outputs": []
    },
    {
      "cell_type": "code",
      "metadata": {
        "id": "LCjwrK_ROS92",
        "colab_type": "code",
        "colab": {}
      },
      "source": [
        "history = pd.DataFrame()\n",
        "history2 = pd.DataFrame()\n",
        "\n",
        "torch.cuda.empty_cache()\n",
        "gc.collect()\n",
        "\n",
        "best = 1e10\n",
        "n_epochs = 20\n",
        "batch_size = 128\n",
        "\n",
        "train_loader = DataLoader(dataset=train_dataset, batch_size=batch_size, shuffle=True, num_workers=4)\n",
        "val_loader = DataLoader(dataset=val_dataset, batch_size=batch_size, shuffle=False, num_workers=0)\n",
        "\n",
        "model = model.cuda()\n",
        "\n",
        "optimizer = torch.optim.AdamW(model.parameters(), lr=0.001)\n",
        "\n",
        "scheduler = torch.optim.lr_scheduler.ReduceLROnPlateau(optimizer, patience=5, mode='min', factor=0.7, verbose=True, min_lr=1e-5)\n",
        "\n",
        "for epoch in range(n_epochs):\n",
        "    torch.cuda.empty_cache()\n",
        "    gc.collect()\n",
        "\n",
        "    train_model(epoch, optimizer, scheduler=None, history=history)\n",
        "    \n",
        "    loss = evaluate_model(epoch, scheduler=scheduler, history=history2)\n",
        "    \n",
        "    if loss < best:\n",
        "      best = loss\n",
        "      print(f'Saving best model...')\n",
        "      torch.save(model.state_dict(), f'model.pth')"
      ],
      "execution_count": 0,
      "outputs": []
    },
    {
      "cell_type": "code",
      "metadata": {
        "id": "Otw3crfcM8aG",
        "colab_type": "code",
        "outputId": "8d618095-83e2-40de-b149-722f1dde58d7",
        "colab": {
          "base_uri": "https://localhost:8080/",
          "height": 283
        }
      },
      "source": [
        "history2.plot()"
      ],
      "execution_count": 0,
      "outputs": [
        {
          "output_type": "execute_result",
          "data": {
            "text/plain": [
              "<matplotlib.axes._subplots.AxesSubplot at 0x7f82b4683860>"
            ]
          },
          "metadata": {
            "tags": []
          },
          "execution_count": 109
        },
        {
          "output_type": "display_data",
          "data": {
            "image/png": "[encoded data removed]",
            "text/plain": [
              "<Figure size 432x288 with 1 Axes>"
            ]
          },
          "metadata": {
            "tags": []
          }
        }
      ]
    },
    {
      "cell_type": "code",
      "metadata": {
        "id": "yPYVv1BWNmG0",
        "colab_type": "code",
        "colab": {}
      },
      "source": [
        "resnext_result = min(history2[\"dev_loss\"])"
      ],
      "execution_count": 0,
      "outputs": []
    },
    {
      "cell_type": "code",
      "metadata": {
        "id": "YemaicWFZraS",
        "colab_type": "code",
        "outputId": "5b5f8e83-19ab-4824-d3f9-400fa61913e3",
        "colab": {
          "base_uri": "https://localhost:8080/",
          "height": 54
        }
      },
      "source": [
        "print(xception_result)\n",
        "print(resnext_result)"
      ],
      "execution_count": 0,
      "outputs": [
        {
          "output_type": "stream",
          "text": [
            "1.096846103668213\n",
            "1.5529732704162598\n"
          ],
          "name": "stdout"
        }
      ]
    },
    {
      "cell_type": "markdown",
      "metadata": {
        "id": "P5zoCIxHl4C2",
        "colab_type": "text"
      },
      "source": [
        "## temper net\n",
        "\n",
        "https://www.kaggle.com/c/deepfake-detection-challenge/discussion/121441\n",
        "\n",
        "6 convolution layers\n",
        "\n",
        "1 dense layers"
      ]
    },
    {
      "cell_type": "code",
      "metadata": {
        "id": "sruxRpz--_ky",
        "colab_type": "code",
        "colab": {}
      },
      "source": [
        "class Head(torch.nn.Module):\n",
        "  def __init__(self, in_f, out_f):\n",
        "    super(Head, self).__init__()\n",
        "    \n",
        "    self.f = nn.Flatten()\n",
        "    self.l = nn.Linear(in_f, 512)\n",
        "    self.d = nn.Dropout(0.75)\n",
        "    self.o = nn.Linear(512, out_f)\n",
        "    self.b1 = nn.BatchNorm1d(in_f)\n",
        "    self.b2 = nn.BatchNorm1d(512)\n",
        "    self.r = nn.ReLU()\n",
        "\n",
        "  def forward(self, x):\n",
        "    x = self.f(x)\n",
        "    x = self.b1(x)\n",
        "    x = self.d(x)\n",
        "\n",
        "    x = self.l(x)\n",
        "    x = self.r(x)\n",
        "    x = self.b2(x)\n",
        "    x = self.d(x)\n",
        "\n",
        "    out = self.o(x)\n",
        "    return out\n",
        "\n",
        "class FCN(torch.nn.Module):\n",
        "  def __init__(self, base, in_f):\n",
        "    super(FCN, self).__init__()\n",
        "    self.base = base\n",
        "    self.h1 = Head(in_f, 1)\n",
        "  \n",
        "  def forward(self, x):\n",
        "    x = self.base(x)\n",
        "    return self.h1(x)"
      ],
      "execution_count": 0,
      "outputs": []
    },
    {
      "cell_type": "code",
      "metadata": {
        "id": "sfrb96LP3ivt",
        "colab_type": "code",
        "colab": {}
      },
      "source": [
        "import torch.nn as nn\n",
        "import torch.nn.functional as F\n",
        "\n",
        "\n",
        "class Net(nn.Module):\n",
        "    def __init__(self):\n",
        "        super(Net, self).__init__()\n",
        "        self.conv1 = nn.Conv2d(3, 6, 5) # input channels, output channels, kernel size\n",
        "        self.pool = nn.MaxPool2d(2, 2)  # kernel size, stride, padding = 0 (default)\n",
        "        self.conv2 = nn.Conv2d(6, 16, 5)\n",
        "        self.fc1 = nn.Linear(16 * 5 * 5, 120) # input features, output features\n",
        "        self.fc2 = nn.Linear(120, 84)\n",
        "        self.fc3 = nn.Linear(84, 10)\n",
        "\n",
        "    def forward(self, x):\n",
        "        x = self.pool(F.relu(self.conv1(x)))\n",
        "        x = self.pool(F.relu(self.conv2(x)))\n",
        "        x = x.view(-1, 16 * 5 * 5)\n",
        "        x = F.relu(self.fc1(x))\n",
        "        x = F.relu(self.fc2(x))\n",
        "        x = self.fc3(x)\n",
        "        return x\n",
        "\n",
        "model = Net()"
      ],
      "execution_count": 0,
      "outputs": []
    },
    {
      "cell_type": "code",
      "metadata": {
        "id": "I3Dl0mbqmDLR",
        "colab_type": "code",
        "colab": {}
      },
      "source": [
        "class temper_Model(nn.Module):\n",
        "    def __init__(self):\n",
        "        super(MnistModel, self).__init__()\n",
        "        # input is 28x28\n",
        "        # padding=2 for same padding\n",
        "        self.conv1 = nn.Conv2d(1, 32, 5, padding=2)\n",
        "        # feature map size is 14*14 by pooling\n",
        "        # padding=2 for same padding\n",
        "        self.conv2 = nn.Conv2d(32, 64, 5, padding=2)\n",
        "        # feature map size is 7*7 by pooling\n",
        "        self.fc1 = nn.Linear(64*7*7, 1024)\n",
        "        self.fc2 = nn.Linear(1024, 10)\n",
        "        \n",
        "    def forward(self, x):\n",
        "        x = F.max_pool2d(F.relu(self.conv1(x)), 2)\n",
        "        x = F.max_pool2d(F.relu(self.conv2(x)), 2)\n",
        "        x = x.view(-1, 64*7*7)   # reshape Variable\n",
        "        x = F.relu(self.fc1(x))\n",
        "        x = F.dropout(x, training=self.training)\n",
        "        x = self.fc2(x)\n",
        "        return F.log_softmax(x)\n"
      ],
      "execution_count": 0,
      "outputs": []
    },
    {
      "cell_type": "code",
      "metadata": {
        "id": "k9qGsJ-XtsVr",
        "colab_type": "code",
        "colab": {}
      },
      "source": [
        "class Head(torch.nn.Module):\n",
        "  def __init__(self, in_f, out_f):\n",
        "    super(Head, self).__init__()\n",
        "    \n",
        "    self.f = nn.Flatten()\n",
        "    self.l = nn.Linear(in_f, 512)\n",
        "    self.d = nn.Dropout(0.75)\n",
        "    self.o = nn.Linear(512, out_f)\n",
        "    self.b1 = nn.BatchNorm1d(in_f)\n",
        "    self.b2 = nn.BatchNorm1d(512)\n",
        "    self.r = nn.ReLU()\n",
        "\n",
        "  def forward(self, x):\n",
        "    x = self.f(x)\n",
        "    x = self.b1(x)\n",
        "    x = self.d(x)\n",
        "\n",
        "    x = self.l(x)\n",
        "    x = self.r(x)\n",
        "    x = self.b2(x)\n",
        "    x = self.d(x)\n",
        "\n",
        "    out = self.o(x)\n",
        "    return out\n",
        "\n",
        "class FCN(torch.nn.Module):\n",
        "  def __init__(self, base, in_f):\n",
        "    super(FCN, self).__init__()\n",
        "    self.base = base\n",
        "    self.h1 = Head(in_f, 1)\n",
        "  \n",
        "  def forward(self, x):\n",
        "    x = self.base(x)\n",
        "    return self.h1(x)"
      ],
      "execution_count": 0,
      "outputs": []
    },
    {
      "cell_type": "code",
      "metadata": {
        "id": "OuBnYnsNtsYw",
        "colab_type": "code",
        "colab": {}
      },
      "source": [
        ""
      ],
      "execution_count": 0,
      "outputs": []
    },
    {
      "cell_type": "code",
      "metadata": {
        "id": "vl6_fhfFtBWA",
        "colab_type": "code",
        "colab": {}
      },
      "source": [
        "\n",
        "model = MnistModel()"
      ],
      "execution_count": 0,
      "outputs": []
    },
    {
      "cell_type": "code",
      "metadata": {
        "id": "k8z4ZfC2tBbM",
        "colab_type": "code",
        "colab": {}
      },
      "source": [
        ""
      ],
      "execution_count": 0,
      "outputs": []
    },
    {
      "cell_type": "code",
      "metadata": {
        "id": "MTtAvmrRtBfx",
        "colab_type": "code",
        "colab": {}
      },
      "source": [
        ""
      ],
      "execution_count": 0,
      "outputs": []
    },
    {
      "cell_type": "code",
      "metadata": {
        "id": "ezvgLt54tBiN",
        "colab_type": "code",
        "colab": {}
      },
      "source": [
        ""
      ],
      "execution_count": 0,
      "outputs": []
    },
    {
      "cell_type": "code",
      "metadata": {
        "id": "gJhjNML4tBdu",
        "colab_type": "code",
        "colab": {}
      },
      "source": [
        ""
      ],
      "execution_count": 0,
      "outputs": []
    },
    {
      "cell_type": "code",
      "metadata": {
        "id": "KIiD6QoXtBZG",
        "colab_type": "code",
        "colab": {}
      },
      "source": [
        ""
      ],
      "execution_count": 0,
      "outputs": []
    },
    {
      "cell_type": "code",
      "metadata": {
        "id": "nA6HHeGPmDHM",
        "colab_type": "code",
        "colab": {}
      },
      "source": [
        ""
      ],
      "execution_count": 0,
      "outputs": []
    },
    {
      "cell_type": "markdown",
      "metadata": {
        "id": "4N6L59UBTtgU",
        "colab_type": "text"
      },
      "source": [
        "## efficient net\n",
        "\n",
        "https://github.com/lukemelas/EfficientNet-PyTorch"
      ]
    },
    {
      "cell_type": "code",
      "metadata": {
        "id": "eciaroLeU3i1",
        "colab_type": "code",
        "outputId": "80a0ca3f-ab41-4c20-8c48-6593a58c1a92",
        "colab": {
          "base_uri": "https://localhost:8080/",
          "height": 219
        }
      },
      "source": [
        "pip install --upgrade efficientnet-pytorch"
      ],
      "execution_count": 0,
      "outputs": [
        {
          "output_type": "stream",
          "text": [
            "Collecting efficientnet-pytorch\n",
            "  Downloading https://files.pythonhosted.org/packages/b8/cb/0309a6e3d404862ae4bc017f89645cf150ac94c14c88ef81d215c8e52925/efficientnet_pytorch-0.6.3.tar.gz\n",
            "Requirement already satisfied, skipping upgrade: torch in /usr/local/lib/python3.6/dist-packages (from efficientnet-pytorch) (1.4.0)\n",
            "Building wheels for collected packages: efficientnet-pytorch\n",
            "  Building wheel for efficientnet-pytorch (setup.py) ... \u001b[?25l\u001b[?25hdone\n",
            "  Created wheel for efficientnet-pytorch: filename=efficientnet_pytorch-0.6.3-cp36-none-any.whl size=12422 sha256=7e0a3b419d937f267f608e1911047387bd1e42de18302162ba8d1d1b3d460e75\n",
            "  Stored in directory: /root/.cache/pip/wheels/42/1e/a9/2a578ba9ad04e776e80bf0f70d8a7f4c29ec0718b92d8f6ccd\n",
            "Successfully built efficientnet-pytorch\n",
            "Installing collected packages: efficientnet-pytorch\n",
            "Successfully installed efficientnet-pytorch-0.6.3\n"
          ],
          "name": "stdout"
        }
      ]
    },
    {
      "cell_type": "code",
      "metadata": {
        "id": "covbGhRXY8K0",
        "colab_type": "code",
        "outputId": "f7122230-69c1-4024-eb33-2af264f1df5f",
        "colab": {
          "base_uri": "https://localhost:8080/",
          "height": 124,
          "referenced_widgets": [
            "45afdddb36fb4f2596d257d3d4e9b945",
            "045c390a09f94649aeaf2ca1159b4d18",
            "e2fa001a8d954f06bb9d3c2315ec87d6",
            "deee13f61d134bdbbae82645d5b0cb63",
            "bb7b21650c214324b6b9884a898c1366",
            "259de476f2944f10bf2c660ee7d6c429",
            "e987a2036af04339b3fe33d6f0a3cc26",
            "c56d22e65de149659841e50a47064b72"
          ]
        }
      },
      "source": [
        "from efficientnet_pytorch import EfficientNet\n",
        "model = EfficientNet.from_pretrained('efficientnet-b7') "
      ],
      "execution_count": 0,
      "outputs": [
        {
          "output_type": "stream",
          "text": [
            "Downloading: \"https://github.com/lukemelas/EfficientNet-PyTorch/releases/download/1.0/efficientnet-b7-dcc49843.pth\" to /root/.cache/torch/checkpoints/efficientnet-b7-dcc49843.pth\n"
          ],
          "name": "stderr"
        },
        {
          "output_type": "display_data",
          "data": {
            "application/vnd.jupyter.widget-view+json": {
              "model_id": "45afdddb36fb4f2596d257d3d4e9b945",
              "version_minor": 0,
              "version_major": 2
            },
            "text/plain": [
              "HBox(children=(IntProgress(value=0, max=266860719), HTML(value='')))"
            ]
          },
          "metadata": {
            "tags": []
          }
        },
        {
          "output_type": "stream",
          "text": [
            "\n",
            "Loaded pretrained weights for efficientnet-b7\n"
          ],
          "name": "stdout"
        }
      ]
    },
    {
      "cell_type": "code",
      "metadata": {
        "id": "bWU3A-KAkb2i",
        "colab_type": "code",
        "colab": {}
      },
      "source": [
        "from efficientnet_pytorch import EfficientNet\n",
        "model = EfficientNet.from_name('efficientnet-b0')"
      ],
      "execution_count": 0,
      "outputs": []
    },
    {
      "cell_type": "code",
      "metadata": {
        "id": "eI2_ye-Zivwm",
        "colab_type": "code",
        "colab": {}
      },
      "source": [
        "model = FCN(model, 2048)"
      ],
      "execution_count": 0,
      "outputs": []
    },
    {
      "cell_type": "code",
      "metadata": {
        "id": "zH7aRUCPY8Oe",
        "colab_type": "code",
        "outputId": "55c23308-bcbf-4393-c877-9d0e894af5ad",
        "colab": {
          "base_uri": "https://localhost:8080/",
          "height": 453
        }
      },
      "source": [
        "import gc\n",
        "\n",
        "history = pd.DataFrame()\n",
        "history2 = pd.DataFrame()\n",
        "\n",
        "torch.cuda.empty_cache()\n",
        "gc.collect()\n",
        "\n",
        "best = 1e10\n",
        "n_epochs = 20\n",
        "batch_size = 128\n",
        "\n",
        "train_loader = DataLoader(dataset=train_dataset, batch_size=batch_size, shuffle=True, num_workers=4)\n",
        "val_loader = DataLoader(dataset=val_dataset, batch_size=batch_size, shuffle=False, num_workers=0)\n",
        "\n",
        "model = model.cuda()\n",
        "\n",
        "optimizer = torch.optim.AdamW(model.parameters(), lr=0.001)\n",
        "\n",
        "scheduler = torch.optim.lr_scheduler.ReduceLROnPlateau(optimizer, patience=5, mode='min', factor=0.7, verbose=True, min_lr=1e-5)\n",
        "\n",
        "for epoch in range(n_epochs):\n",
        "    torch.cuda.empty_cache()\n",
        "    gc.collect()\n",
        "\n",
        "    train_model(epoch, optimizer, scheduler=None, history=history)\n",
        "    \n",
        "    loss = evaluate_model(epoch, scheduler=scheduler, history=history2)\n",
        "    \n",
        "    if loss < best:\n",
        "      best = loss\n",
        "      print(f'Saving best model...')\n",
        "      torch.save(model.state_dict(), f'model.pth')"
      ],
      "execution_count": 0,
      "outputs": [
        {
          "output_type": "stream",
          "text": [
            "\n",
            "  0%|          | 0/24 [00:00<?, ?it/s]\u001b[A"
          ],
          "name": "stderr"
        },
        {
          "output_type": "error",
          "ename": "RuntimeError",
          "evalue": "ignored",
          "traceback": [
            "\u001b[0;31m---------------------------------------------------------------------------\u001b[0m",
            "\u001b[0;31mRuntimeError\u001b[0m                              Traceback (most recent call last)",
            "\u001b[0;32m<ipython-input-38-b72454d76fcb>\u001b[0m in \u001b[0;36m<module>\u001b[0;34m()\u001b[0m\n\u001b[1;32m     24\u001b[0m     \u001b[0mgc\u001b[0m\u001b[0;34m.\u001b[0m\u001b[0mcollect\u001b[0m\u001b[0;34m(\u001b[0m\u001b[0;34m)\u001b[0m\u001b[0;34m\u001b[0m\u001b[0;34m\u001b[0m\u001b[0m\n\u001b[1;32m     25\u001b[0m \u001b[0;34m\u001b[0m\u001b[0m\n\u001b[0;32m---> 26\u001b[0;31m     \u001b[0mtrain_model\u001b[0m\u001b[0;34m(\u001b[0m\u001b[0mepoch\u001b[0m\u001b[0;34m,\u001b[0m \u001b[0moptimizer\u001b[0m\u001b[0;34m,\u001b[0m \u001b[0mscheduler\u001b[0m\u001b[0;34m=\u001b[0m\u001b[0;32mNone\u001b[0m\u001b[0;34m,\u001b[0m \u001b[0mhistory\u001b[0m\u001b[0;34m=\u001b[0m\u001b[0mhistory\u001b[0m\u001b[0;34m)\u001b[0m\u001b[0;34m\u001b[0m\u001b[0;34m\u001b[0m\u001b[0m\n\u001b[0m\u001b[1;32m     27\u001b[0m \u001b[0;34m\u001b[0m\u001b[0m\n\u001b[1;32m     28\u001b[0m     \u001b[0mloss\u001b[0m \u001b[0;34m=\u001b[0m \u001b[0mevaluate_model\u001b[0m\u001b[0;34m(\u001b[0m\u001b[0mepoch\u001b[0m\u001b[0;34m,\u001b[0m \u001b[0mscheduler\u001b[0m\u001b[0;34m=\u001b[0m\u001b[0mscheduler\u001b[0m\u001b[0;34m,\u001b[0m \u001b[0mhistory\u001b[0m\u001b[0;34m=\u001b[0m\u001b[0mhistory2\u001b[0m\u001b[0;34m)\u001b[0m\u001b[0;34m\u001b[0m\u001b[0;34m\u001b[0m\u001b[0m\n",
            "\u001b[0;32m<ipython-input-29-de4ca0f6ad50>\u001b[0m in \u001b[0;36mtrain_model\u001b[0;34m(epoch, optimizer, scheduler, history)\u001b[0m\n\u001b[1;32m     14\u001b[0m         \u001b[0moptimizer\u001b[0m\u001b[0;34m.\u001b[0m\u001b[0mzero_grad\u001b[0m\u001b[0;34m(\u001b[0m\u001b[0;34m)\u001b[0m\u001b[0;34m\u001b[0m\u001b[0;34m\u001b[0m\u001b[0m\n\u001b[1;32m     15\u001b[0m \u001b[0;34m\u001b[0m\u001b[0m\n\u001b[0;32m---> 16\u001b[0;31m         \u001b[0mout\u001b[0m \u001b[0;34m=\u001b[0m \u001b[0mmodel\u001b[0m\u001b[0;34m(\u001b[0m\u001b[0mimg_batch\u001b[0m\u001b[0;34m)\u001b[0m\u001b[0;34m\u001b[0m\u001b[0;34m\u001b[0m\u001b[0m\n\u001b[0m\u001b[1;32m     17\u001b[0m         \u001b[0mloss\u001b[0m \u001b[0;34m=\u001b[0m \u001b[0mcriterion1\u001b[0m\u001b[0;34m(\u001b[0m\u001b[0mout\u001b[0m\u001b[0;34m,\u001b[0m \u001b[0my_batch\u001b[0m\u001b[0;34m)\u001b[0m\u001b[0;34m\u001b[0m\u001b[0;34m\u001b[0m\u001b[0m\n\u001b[1;32m     18\u001b[0m \u001b[0;34m\u001b[0m\u001b[0m\n",
            "\u001b[0;32m/usr/local/lib/python3.6/dist-packages/torch/nn/modules/module.py\u001b[0m in \u001b[0;36m__call__\u001b[0;34m(self, *input, **kwargs)\u001b[0m\n\u001b[1;32m    530\u001b[0m             \u001b[0mresult\u001b[0m \u001b[0;34m=\u001b[0m \u001b[0mself\u001b[0m\u001b[0;34m.\u001b[0m\u001b[0m_slow_forward\u001b[0m\u001b[0;34m(\u001b[0m\u001b[0;34m*\u001b[0m\u001b[0minput\u001b[0m\u001b[0;34m,\u001b[0m \u001b[0;34m**\u001b[0m\u001b[0mkwargs\u001b[0m\u001b[0;34m)\u001b[0m\u001b[0;34m\u001b[0m\u001b[0;34m\u001b[0m\u001b[0m\n\u001b[1;32m    531\u001b[0m         \u001b[0;32melse\u001b[0m\u001b[0;34m:\u001b[0m\u001b[0;34m\u001b[0m\u001b[0;34m\u001b[0m\u001b[0m\n\u001b[0;32m--> 532\u001b[0;31m             \u001b[0mresult\u001b[0m \u001b[0;34m=\u001b[0m \u001b[0mself\u001b[0m\u001b[0;34m.\u001b[0m\u001b[0mforward\u001b[0m\u001b[0;34m(\u001b[0m\u001b[0;34m*\u001b[0m\u001b[0minput\u001b[0m\u001b[0;34m,\u001b[0m \u001b[0;34m**\u001b[0m\u001b[0mkwargs\u001b[0m\u001b[0;34m)\u001b[0m\u001b[0;34m\u001b[0m\u001b[0;34m\u001b[0m\u001b[0m\n\u001b[0m\u001b[1;32m    533\u001b[0m         \u001b[0;32mfor\u001b[0m \u001b[0mhook\u001b[0m \u001b[0;32min\u001b[0m \u001b[0mself\u001b[0m\u001b[0;34m.\u001b[0m\u001b[0m_forward_hooks\u001b[0m\u001b[0;34m.\u001b[0m\u001b[0mvalues\u001b[0m\u001b[0;34m(\u001b[0m\u001b[0;34m)\u001b[0m\u001b[0;34m:\u001b[0m\u001b[0;34m\u001b[0m\u001b[0;34m\u001b[0m\u001b[0m\n\u001b[1;32m    534\u001b[0m             \u001b[0mhook_result\u001b[0m \u001b[0;34m=\u001b[0m \u001b[0mhook\u001b[0m\u001b[0;34m(\u001b[0m\u001b[0mself\u001b[0m\u001b[0;34m,\u001b[0m \u001b[0minput\u001b[0m\u001b[0;34m,\u001b[0m \u001b[0mresult\u001b[0m\u001b[0;34m)\u001b[0m\u001b[0;34m\u001b[0m\u001b[0;34m\u001b[0m\u001b[0m\n",
            "\u001b[0;32m<ipython-input-28-8adcd2c26423>\u001b[0m in \u001b[0;36mforward\u001b[0;34m(self, x)\u001b[0m\n\u001b[1;32m     31\u001b[0m \u001b[0;34m\u001b[0m\u001b[0m\n\u001b[1;32m     32\u001b[0m   \u001b[0;32mdef\u001b[0m \u001b[0mforward\u001b[0m\u001b[0;34m(\u001b[0m\u001b[0mself\u001b[0m\u001b[0;34m,\u001b[0m \u001b[0mx\u001b[0m\u001b[0;34m)\u001b[0m\u001b[0;34m:\u001b[0m\u001b[0;34m\u001b[0m\u001b[0;34m\u001b[0m\u001b[0m\n\u001b[0;32m---> 33\u001b[0;31m     \u001b[0mx\u001b[0m \u001b[0;34m=\u001b[0m \u001b[0mself\u001b[0m\u001b[0;34m.\u001b[0m\u001b[0mbase\u001b[0m\u001b[0;34m(\u001b[0m\u001b[0mx\u001b[0m\u001b[0;34m)\u001b[0m\u001b[0;34m\u001b[0m\u001b[0;34m\u001b[0m\u001b[0m\n\u001b[0m\u001b[1;32m     34\u001b[0m     \u001b[0;32mreturn\u001b[0m \u001b[0mself\u001b[0m\u001b[0;34m.\u001b[0m\u001b[0mh1\u001b[0m\u001b[0;34m(\u001b[0m\u001b[0mx\u001b[0m\u001b[0;34m)\u001b[0m\u001b[0;34m\u001b[0m\u001b[0;34m\u001b[0m\u001b[0m\n",
            "\u001b[0;32m/usr/local/lib/python3.6/dist-packages/torch/nn/modules/module.py\u001b[0m in \u001b[0;36m__call__\u001b[0;34m(self, *input, **kwargs)\u001b[0m\n\u001b[1;32m    530\u001b[0m             \u001b[0mresult\u001b[0m \u001b[0;34m=\u001b[0m \u001b[0mself\u001b[0m\u001b[0;34m.\u001b[0m\u001b[0m_slow_forward\u001b[0m\u001b[0;34m(\u001b[0m\u001b[0;34m*\u001b[0m\u001b[0minput\u001b[0m\u001b[0;34m,\u001b[0m \u001b[0;34m**\u001b[0m\u001b[0mkwargs\u001b[0m\u001b[0;34m)\u001b[0m\u001b[0;34m\u001b[0m\u001b[0;34m\u001b[0m\u001b[0m\n\u001b[1;32m    531\u001b[0m         \u001b[0;32melse\u001b[0m\u001b[0;34m:\u001b[0m\u001b[0;34m\u001b[0m\u001b[0;34m\u001b[0m\u001b[0m\n\u001b[0;32m--> 532\u001b[0;31m             \u001b[0mresult\u001b[0m \u001b[0;34m=\u001b[0m \u001b[0mself\u001b[0m\u001b[0;34m.\u001b[0m\u001b[0mforward\u001b[0m\u001b[0;34m(\u001b[0m\u001b[0;34m*\u001b[0m\u001b[0minput\u001b[0m\u001b[0;34m,\u001b[0m \u001b[0;34m**\u001b[0m\u001b[0mkwargs\u001b[0m\u001b[0;34m)\u001b[0m\u001b[0;34m\u001b[0m\u001b[0;34m\u001b[0m\u001b[0m\n\u001b[0m\u001b[1;32m    533\u001b[0m         \u001b[0;32mfor\u001b[0m \u001b[0mhook\u001b[0m \u001b[0;32min\u001b[0m \u001b[0mself\u001b[0m\u001b[0;34m.\u001b[0m\u001b[0m_forward_hooks\u001b[0m\u001b[0;34m.\u001b[0m\u001b[0mvalues\u001b[0m\u001b[0;34m(\u001b[0m\u001b[0;34m)\u001b[0m\u001b[0;34m:\u001b[0m\u001b[0;34m\u001b[0m\u001b[0;34m\u001b[0m\u001b[0m\n\u001b[1;32m    534\u001b[0m             \u001b[0mhook_result\u001b[0m \u001b[0;34m=\u001b[0m \u001b[0mhook\u001b[0m\u001b[0;34m(\u001b[0m\u001b[0mself\u001b[0m\u001b[0;34m,\u001b[0m \u001b[0minput\u001b[0m\u001b[0;34m,\u001b[0m \u001b[0mresult\u001b[0m\u001b[0;34m)\u001b[0m\u001b[0;34m\u001b[0m\u001b[0;34m\u001b[0m\u001b[0m\n",
            "\u001b[0;32m/usr/local/lib/python3.6/dist-packages/efficientnet_pytorch/model.py\u001b[0m in \u001b[0;36mforward\u001b[0;34m(self, inputs)\u001b[0m\n\u001b[1;32m    191\u001b[0m         \u001b[0mbs\u001b[0m \u001b[0;34m=\u001b[0m \u001b[0minputs\u001b[0m\u001b[0;34m.\u001b[0m\u001b[0msize\u001b[0m\u001b[0;34m(\u001b[0m\u001b[0;36m0\u001b[0m\u001b[0;34m)\u001b[0m\u001b[0;34m\u001b[0m\u001b[0;34m\u001b[0m\u001b[0m\n\u001b[1;32m    192\u001b[0m         \u001b[0;31m# Convolution layers\u001b[0m\u001b[0;34m\u001b[0m\u001b[0;34m\u001b[0m\u001b[0;34m\u001b[0m\u001b[0m\n\u001b[0;32m--> 193\u001b[0;31m         \u001b[0mx\u001b[0m \u001b[0;34m=\u001b[0m \u001b[0mself\u001b[0m\u001b[0;34m.\u001b[0m\u001b[0mextract_features\u001b[0m\u001b[0;34m(\u001b[0m\u001b[0minputs\u001b[0m\u001b[0;34m)\u001b[0m\u001b[0;34m\u001b[0m\u001b[0;34m\u001b[0m\u001b[0m\n\u001b[0m\u001b[1;32m    194\u001b[0m \u001b[0;34m\u001b[0m\u001b[0m\n\u001b[1;32m    195\u001b[0m         \u001b[0;31m# Pooling and final linear layer\u001b[0m\u001b[0;34m\u001b[0m\u001b[0;34m\u001b[0m\u001b[0;34m\u001b[0m\u001b[0m\n",
            "\u001b[0;32m/usr/local/lib/python3.6/dist-packages/efficientnet_pytorch/model.py\u001b[0m in \u001b[0;36mextract_features\u001b[0;34m(self, inputs)\u001b[0m\n\u001b[1;32m    173\u001b[0m \u001b[0;34m\u001b[0m\u001b[0m\n\u001b[1;32m    174\u001b[0m         \u001b[0;31m# Stem\u001b[0m\u001b[0;34m\u001b[0m\u001b[0;34m\u001b[0m\u001b[0;34m\u001b[0m\u001b[0m\n\u001b[0;32m--> 175\u001b[0;31m         \u001b[0mx\u001b[0m \u001b[0;34m=\u001b[0m \u001b[0mself\u001b[0m\u001b[0;34m.\u001b[0m\u001b[0m_swish\u001b[0m\u001b[0;34m(\u001b[0m\u001b[0mself\u001b[0m\u001b[0;34m.\u001b[0m\u001b[0m_bn0\u001b[0m\u001b[0;34m(\u001b[0m\u001b[0mself\u001b[0m\u001b[0;34m.\u001b[0m\u001b[0m_conv_stem\u001b[0m\u001b[0;34m(\u001b[0m\u001b[0minputs\u001b[0m\u001b[0;34m)\u001b[0m\u001b[0;34m)\u001b[0m\u001b[0;34m)\u001b[0m\u001b[0;34m\u001b[0m\u001b[0;34m\u001b[0m\u001b[0m\n\u001b[0m\u001b[1;32m    176\u001b[0m \u001b[0;34m\u001b[0m\u001b[0m\n\u001b[1;32m    177\u001b[0m         \u001b[0;31m# Blocks\u001b[0m\u001b[0;34m\u001b[0m\u001b[0;34m\u001b[0m\u001b[0;34m\u001b[0m\u001b[0m\n",
            "\u001b[0;32m/usr/local/lib/python3.6/dist-packages/torch/nn/modules/module.py\u001b[0m in \u001b[0;36m__call__\u001b[0;34m(self, *input, **kwargs)\u001b[0m\n\u001b[1;32m    530\u001b[0m             \u001b[0mresult\u001b[0m \u001b[0;34m=\u001b[0m \u001b[0mself\u001b[0m\u001b[0;34m.\u001b[0m\u001b[0m_slow_forward\u001b[0m\u001b[0;34m(\u001b[0m\u001b[0;34m*\u001b[0m\u001b[0minput\u001b[0m\u001b[0;34m,\u001b[0m \u001b[0;34m**\u001b[0m\u001b[0mkwargs\u001b[0m\u001b[0;34m)\u001b[0m\u001b[0;34m\u001b[0m\u001b[0;34m\u001b[0m\u001b[0m\n\u001b[1;32m    531\u001b[0m         \u001b[0;32melse\u001b[0m\u001b[0;34m:\u001b[0m\u001b[0;34m\u001b[0m\u001b[0;34m\u001b[0m\u001b[0m\n\u001b[0;32m--> 532\u001b[0;31m             \u001b[0mresult\u001b[0m \u001b[0;34m=\u001b[0m \u001b[0mself\u001b[0m\u001b[0;34m.\u001b[0m\u001b[0mforward\u001b[0m\u001b[0;34m(\u001b[0m\u001b[0;34m*\u001b[0m\u001b[0minput\u001b[0m\u001b[0;34m,\u001b[0m \u001b[0;34m**\u001b[0m\u001b[0mkwargs\u001b[0m\u001b[0;34m)\u001b[0m\u001b[0;34m\u001b[0m\u001b[0;34m\u001b[0m\u001b[0m\n\u001b[0m\u001b[1;32m    533\u001b[0m         \u001b[0;32mfor\u001b[0m \u001b[0mhook\u001b[0m \u001b[0;32min\u001b[0m \u001b[0mself\u001b[0m\u001b[0;34m.\u001b[0m\u001b[0m_forward_hooks\u001b[0m\u001b[0;34m.\u001b[0m\u001b[0mvalues\u001b[0m\u001b[0;34m(\u001b[0m\u001b[0;34m)\u001b[0m\u001b[0;34m:\u001b[0m\u001b[0;34m\u001b[0m\u001b[0;34m\u001b[0m\u001b[0m\n\u001b[1;32m    534\u001b[0m             \u001b[0mhook_result\u001b[0m \u001b[0;34m=\u001b[0m \u001b[0mhook\u001b[0m\u001b[0;34m(\u001b[0m\u001b[0mself\u001b[0m\u001b[0;34m,\u001b[0m \u001b[0minput\u001b[0m\u001b[0;34m,\u001b[0m \u001b[0mresult\u001b[0m\u001b[0;34m)\u001b[0m\u001b[0;34m\u001b[0m\u001b[0;34m\u001b[0m\u001b[0m\n",
            "\u001b[0;32m/usr/local/lib/python3.6/dist-packages/torch/nn/modules/batchnorm.py\u001b[0m in \u001b[0;36mforward\u001b[0;34m(self, input)\u001b[0m\n\u001b[1;32m    105\u001b[0m             \u001b[0minput\u001b[0m\u001b[0;34m,\u001b[0m \u001b[0mself\u001b[0m\u001b[0;34m.\u001b[0m\u001b[0mrunning_mean\u001b[0m\u001b[0;34m,\u001b[0m \u001b[0mself\u001b[0m\u001b[0;34m.\u001b[0m\u001b[0mrunning_var\u001b[0m\u001b[0;34m,\u001b[0m \u001b[0mself\u001b[0m\u001b[0;34m.\u001b[0m\u001b[0mweight\u001b[0m\u001b[0;34m,\u001b[0m \u001b[0mself\u001b[0m\u001b[0;34m.\u001b[0m\u001b[0mbias\u001b[0m\u001b[0;34m,\u001b[0m\u001b[0;34m\u001b[0m\u001b[0;34m\u001b[0m\u001b[0m\n\u001b[1;32m    106\u001b[0m             \u001b[0mself\u001b[0m\u001b[0;34m.\u001b[0m\u001b[0mtraining\u001b[0m \u001b[0;32mor\u001b[0m \u001b[0;32mnot\u001b[0m \u001b[0mself\u001b[0m\u001b[0;34m.\u001b[0m\u001b[0mtrack_running_stats\u001b[0m\u001b[0;34m,\u001b[0m\u001b[0;34m\u001b[0m\u001b[0;34m\u001b[0m\u001b[0m\n\u001b[0;32m--> 107\u001b[0;31m             exponential_average_factor, self.eps)\n\u001b[0m\u001b[1;32m    108\u001b[0m \u001b[0;34m\u001b[0m\u001b[0m\n\u001b[1;32m    109\u001b[0m \u001b[0;34m\u001b[0m\u001b[0m\n",
            "\u001b[0;32m/usr/local/lib/python3.6/dist-packages/torch/nn/functional.py\u001b[0m in \u001b[0;36mbatch_norm\u001b[0;34m(input, running_mean, running_var, weight, bias, training, momentum, eps)\u001b[0m\n\u001b[1;32m   1668\u001b[0m     return torch.batch_norm(\n\u001b[1;32m   1669\u001b[0m         \u001b[0minput\u001b[0m\u001b[0;34m,\u001b[0m \u001b[0mweight\u001b[0m\u001b[0;34m,\u001b[0m \u001b[0mbias\u001b[0m\u001b[0;34m,\u001b[0m \u001b[0mrunning_mean\u001b[0m\u001b[0;34m,\u001b[0m \u001b[0mrunning_var\u001b[0m\u001b[0;34m,\u001b[0m\u001b[0;34m\u001b[0m\u001b[0;34m\u001b[0m\u001b[0m\n\u001b[0;32m-> 1670\u001b[0;31m         \u001b[0mtraining\u001b[0m\u001b[0;34m,\u001b[0m \u001b[0mmomentum\u001b[0m\u001b[0;34m,\u001b[0m \u001b[0meps\u001b[0m\u001b[0;34m,\u001b[0m \u001b[0mtorch\u001b[0m\u001b[0;34m.\u001b[0m\u001b[0mbackends\u001b[0m\u001b[0;34m.\u001b[0m\u001b[0mcudnn\u001b[0m\u001b[0;34m.\u001b[0m\u001b[0menabled\u001b[0m\u001b[0;34m\u001b[0m\u001b[0;34m\u001b[0m\u001b[0m\n\u001b[0m\u001b[1;32m   1671\u001b[0m     )\n\u001b[1;32m   1672\u001b[0m \u001b[0;34m\u001b[0m\u001b[0m\n",
            "\u001b[0;31mRuntimeError\u001b[0m: CUDA out of memory. Tried to allocate 88.00 MiB (GPU 0; 14.73 GiB total capacity; 13.72 GiB already allocated; 19.88 MiB free; 13.92 GiB reserved in total by PyTorch)"
          ]
        }
      ]
    },
    {
      "cell_type": "code",
      "metadata": {
        "id": "pufY8wd_buT-",
        "colab_type": "code",
        "colab": {}
      },
      "source": [
        ""
      ],
      "execution_count": 0,
      "outputs": []
    }
  ]
}